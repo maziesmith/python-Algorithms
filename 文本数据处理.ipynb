{
 "cells": [
  {
   "cell_type": "code",
   "execution_count": 2,
   "metadata": {},
   "outputs": [
    {
     "name": "stdout",
     "output_type": "stream",
     "text": [
      "单词数：8\n",
      "分词：{'the': 7, 'quick': 6, 'brown': 0, 'fox': 2, 'jumps': 3, 'over': 5, 'lazy': 4, 'dog': 1}\n"
     ]
    }
   ],
   "source": [
    "#导入向量化工具CountVectorizer工具\n",
    "from sklearn.feature_extraction.text import CountVectorizer\n",
    "vect=CountVectorizer()\n",
    "#使用CountVectorizer拟合文本数据\n",
    "en=['The quick brown fox jumps over a lazy dog']\n",
    "vect.fit(en)\n",
    "#打印结果\n",
    "print('单词数：{}'.format(len(vect.vocabulary_)))\n",
    "print('分词：{}'.format(vect.vocabulary_))"
   ]
  },
  {
   "cell_type": "code",
   "execution_count": 3,
   "metadata": {},
   "outputs": [
    {
     "name": "stdout",
     "output_type": "stream",
     "text": [
      "单词数：1\n",
      "分词：{'那只敏捷的棕色狐狸跳过了一直懒惰的狗': 0}\n"
     ]
    }
   ],
   "source": [
    "#使用中文文本进行实验\n",
    "cn=['那只敏捷的棕色狐狸跳过了一直懒惰的狗']\n",
    "#拟合中文文本数据\n",
    "vect.fit(cn)\n",
    "print('单词数：{}'.format(len(vect.vocabulary_)))\n",
    "print('分词：{}'.format(vect.vocabulary_))"
   ]
  },
  {
   "cell_type": "code",
   "execution_count": 4,
   "metadata": {},
   "outputs": [
    {
     "name": "stderr",
     "output_type": "stream",
     "text": [
      "Building prefix dict from the default dictionary ...\n",
      "Dumping model to file cache C:\\Users\\48967\\AppData\\Local\\Temp\\jieba.cache\n",
      "Loading model cost 2.142 seconds.\n",
      "Prefix dict has been built succesfully.\n"
     ]
    },
    {
     "name": "stdout",
     "output_type": "stream",
     "text": [
      "['那 只 敏捷 的 棕色 狐狸 跳过 了 一只 懒惰 的 狗']\n"
     ]
    }
   ],
   "source": [
    "#导入结巴分词\n",
    "import jieba\n",
    "#使用结巴分词对中文文本进行分词\n",
    "cn=jieba.cut('那只敏捷的棕色狐狸跳过了一只懒惰的狗')\n",
    "#使用空格作为次与此之间的分界线\n",
    "cn=[' '.join(cn)]\n",
    "print(cn)"
   ]
  },
  {
   "cell_type": "code",
   "execution_count": 5,
   "metadata": {},
   "outputs": [
    {
     "name": "stdout",
     "output_type": "stream",
     "text": [
      "单词数：6\n",
      "分词：{'敏捷': 2, '棕色': 3, '狐狸': 4, '跳过': 5, '一只': 0, '懒惰': 1}\n"
     ]
    }
   ],
   "source": [
    "#使用CountVectorizer对中文文本进行向量化\n",
    "vect.fit(cn)\n",
    "print('单词数：{}'.format(len(vect.vocabulary_)))\n",
    "print('分词：{}'.format(vect.vocabulary_))"
   ]
  },
  {
   "cell_type": "code",
   "execution_count": 6,
   "metadata": {},
   "outputs": [
    {
     "name": "stdout",
     "output_type": "stream",
     "text": [
      "转化为词袋的特征:<1x6 sparse matrix of type '<class 'numpy.int64'>'\n",
      "\twith 6 stored elements in Compressed Sparse Row format>\n"
     ]
    }
   ],
   "source": [
    "#使用词袋模型将文本数据转化为数组\n",
    "#定义词袋模型\n",
    "bag_of_words=vect.transform(cn)\n",
    "#打印词袋模型中的数据特征\n",
    "print('转化为词袋的特征:{}'.format(repr(bag_of_words)))"
   ]
  },
  {
   "cell_type": "code",
   "execution_count": 7,
   "metadata": {},
   "outputs": [
    {
     "name": "stdout",
     "output_type": "stream",
     "text": [
      "词袋的密度表达：\n",
      "[[1 1 1 1 1 1]]\n"
     ]
    }
   ],
   "source": [
    "#打印词袋模型的密度表达\n",
    "print('词袋的密度表达：\\n{}'.format(bag_of_words.toarray()))"
   ]
  },
  {
   "cell_type": "code",
   "execution_count": 8,
   "metadata": {},
   "outputs": [
    {
     "name": "stdout",
     "output_type": "stream",
     "text": [
      "['懒惰 的 狐狸 不如 敏捷 的 狐狸 敏捷 ， 敏捷 的 狐狸 不如 懒惰 的 狐狸 懒惰']\n"
     ]
    }
   ],
   "source": [
    "#输入新的中文文本\n",
    "cn_1=jieba.cut('懒惰的狐狸不如敏捷的狐狸敏捷，敏捷的狐狸不如懒惰的狐狸懒惰')\n",
    "#以空格进行分割\n",
    "cn2=[' '.join(cn_1)]\n",
    "print(cn2)"
   ]
  },
  {
   "cell_type": "code",
   "execution_count": 9,
   "metadata": {},
   "outputs": [
    {
     "name": "stdout",
     "output_type": "stream",
     "text": [
      "转化为词袋的特征：\n",
      "<1x6 sparse matrix of type '<class 'numpy.int64'>'\n",
      "\twith 3 stored elements in Compressed Sparse Row format>\n",
      "词袋的密度表达：\n",
      "[[0 3 3 0 4 0]]\n"
     ]
    }
   ],
   "source": [
    "#建立新的词袋模型\n",
    "new_bag=vect.transform(cn2)\n",
    "print('转化为词袋的特征：\\n{}'.format(repr(new_bag)))\n",
    "print('词袋的密度表达：\\n{}'.format(new_bag.toarray()))"
   ]
  },
  {
   "cell_type": "code",
   "execution_count": 13,
   "metadata": {},
   "outputs": [
    {
     "name": "stdout",
     "output_type": "stream",
     "text": [
      "这句话的特征表达：\n",
      "[[1 1 1 1 1 1]]\n"
     ]
    }
   ],
   "source": [
    "#对文本数据进一步进行优化处理\n",
    "#随便写一句话\n",
    "joke=jieba.cut('道士看见和尚亲吻了尼姑的嘴唇')\n",
    "#插入空格\n",
    "joke=[' '.join(joke)]\n",
    "vect.fit(joke)\n",
    "joke_feature=vect.transform(joke)\n",
    "#打印文本数据特征\n",
    "print('这句话的特征表达：\\n{}'.format(joke_feature.toarray()))"
   ]
  },
  {
   "cell_type": "code",
   "execution_count": 15,
   "metadata": {},
   "outputs": [
    {
     "name": "stdout",
     "output_type": "stream",
     "text": [
      "这句话的特征表达：\n",
      "[[1 1 1 1 1 1]]\n"
     ]
    }
   ],
   "source": [
    "joke2=jieba.cut('尼姑看见道士的嘴唇亲吻了和尚')\n",
    "#插入空格\n",
    "joke2=[' '.join(joke2)]\n",
    "vect.fit(joke2)\n",
    "joke2_feature=vect.transform(joke2)\n",
    "#打印文本数据特征\n",
    "print('这句话的特征表达：\\n{}'.format(joke2_feature.toarray()))"
   ]
  },
  {
   "cell_type": "code",
   "execution_count": 22,
   "metadata": {},
   "outputs": [
    {
     "name": "stdout",
     "output_type": "stream",
     "text": [
      "调整n-Gram参数后的词典：['亲吻 尼姑', '和尚 亲吻', '尼姑 嘴唇', '看见 和尚', '道士 看见']\n",
      "新的特征表达：[[1 1 1 1 1]]\n"
     ]
    }
   ],
   "source": [
    "#修改CountVectorizer的ngram参数\n",
    "vect=CountVectorizer(ngram_range=(2,2))\n",
    "#重新进行文本数据的特征提取\n",
    "cv=vect.fit(joke)\n",
    "joke_feature=cv.transform(joke)\n",
    "print('调整n-Gram参数后的词典：{}'.format(cv.get_feature_names()))\n",
    "print('新的特征表达：{}'.format(joke_feature.toarray()))"
   ]
  },
  {
   "cell_type": "code",
   "execution_count": 23,
   "metadata": {},
   "outputs": [
    {
     "name": "stdout",
     "output_type": "stream",
     "text": [
      "这句话的特征表达：\n",
      "[[0 0 0 0 0]]\n"
     ]
    }
   ],
   "source": [
    "joke2=jieba.cut('尼姑看见道士的嘴唇亲吻了和尚')\n",
    "#插入空格\n",
    "joke2=[' '.join(joke2)]\n",
    "joke2_feature=vect.transform(joke2)\n",
    "#打印文本数据特征\n",
    "print('这句话的特征表达：\\n{}'.format(joke2_feature.toarray()))"
   ]
  },
  {
   "cell_type": "code",
   "execution_count": null,
   "metadata": {},
   "outputs": [],
   "source": []
  }
 ],
 "metadata": {
  "kernelspec": {
   "display_name": "Python 3",
   "language": "python",
   "name": "python3"
  },
  "language_info": {
   "codemirror_mode": {
    "name": "ipython",
    "version": 3
   },
   "file_extension": ".py",
   "mimetype": "text/x-python",
   "name": "python",
   "nbconvert_exporter": "python",
   "pygments_lexer": "ipython3",
   "version": "3.7.2"
  }
 },
 "nbformat": 4,
 "nbformat_minor": 2
}
