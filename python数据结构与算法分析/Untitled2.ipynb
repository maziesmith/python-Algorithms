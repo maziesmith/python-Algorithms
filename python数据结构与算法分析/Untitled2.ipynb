{
 "cells": [
  {
   "cell_type": "markdown",
   "metadata": {},
   "source": [
    "递归求和"
   ]
  },
  {
   "cell_type": "code",
   "execution_count": 1,
   "metadata": {},
   "outputs": [],
   "source": [
    "def listsum(numlist):\n",
    "    if len(numlist) == 1:\n",
    "        return numlist[0]\n",
    "    else:\n",
    "        return numlist[0] + listsum(numlist=list[1:])"
   ]
  },
  {
   "cell_type": "markdown",
   "metadata": {},
   "source": [
    "将十进制数转换为任意进制数"
   ]
  },
  {
   "cell_type": "code",
   "execution_count": 4,
   "metadata": {},
   "outputs": [],
   "source": [
    "def toStr(n, base):\n",
    "    convertString = '0123456789ABCDEF'\n",
    "    if n < base:\n",
    "        return convertString[n]\n",
    "    else:\n",
    "        return toStr(n//base, base) + convertString[n%base]"
   ]
  },
  {
   "cell_type": "code",
   "execution_count": 7,
   "metadata": {},
   "outputs": [
    {
     "data": {
      "text/plain": [
       "'A'"
      ]
     },
     "execution_count": 7,
     "metadata": {},
     "output_type": "execute_result"
    }
   ],
   "source": [
    "toStr(10, 16)"
   ]
  },
  {
   "cell_type": "markdown",
   "metadata": {},
   "source": [
    "栈帧：实现递归"
   ]
  },
  {
   "cell_type": "code",
   "execution_count": 8,
   "metadata": {},
   "outputs": [],
   "source": [
    "from pythonds.basic import Stack\n",
    "reStack = Stack()\n",
    "def toStr1(n, base):\n",
    "    convertString = '0123456789ABCDEF'\n",
    "    if n < base:\n",
    "        reStack.push(convertString[n])\n",
    "    else:\n",
    "        reStack.push(convertString[n % base])\n",
    "        toStr1(n // base, base)"
   ]
  },
  {
   "cell_type": "code",
   "execution_count": 1,
   "metadata": {},
   "outputs": [],
   "source": [
    "from turtle import * \n",
    "myTurtle = Turtle()\n",
    "myWin = myTurtle.getscreen()\n",
    "\n",
    "def drawSpiral(myTurtle, lineLen):\n",
    "    if lineLen > 0:\n",
    "        myTurtle.forward(lineLen)\n",
    "        myTurtle.right(90)\n",
    "        drawSpiral(myTurtle, lineLen-5)\n",
    "        \n",
    "drawSpiral(myTurtle, 100)\n",
    "myWin.exitonclick()"
   ]
  },
  {
   "cell_type": "code",
   "execution_count": 1,
   "metadata": {},
   "outputs": [],
   "source": [
    "def tree(branchLen, t):\n",
    "    if branchLen > 5:\n",
    "        t.forward(branchLen)\n",
    "        t.right(20)\n",
    "        tree(branchLen-15, t)\n",
    "        t.left(40)\n",
    "        tree(branchLen-10, t)\n",
    "        t.right(20)\n",
    "        t.backward(branchLen)"
   ]
  },
  {
   "cell_type": "code",
   "execution_count": 2,
   "metadata": {},
   "outputs": [],
   "source": [
    "from turtle import *\n",
    "t = Turtle()\n",
    "myWin = t.getscreen()\n",
    "t.left(90)\n",
    "t.up()\n",
    "t.backward(300)\n",
    "t.down()\n",
    "t.color('green')\n",
    "tree(110, t)\n",
    "myWin.exitonclick()"
   ]
  },
  {
   "cell_type": "code",
   "execution_count": 1,
   "metadata": {},
   "outputs": [],
   "source": [
    "#谢尔平斯基三角形\n",
    "from turtle import *\n",
    "def drawTriangle(points, color, myTurtle):\n",
    "    myTurtle.fillcolor(color)\n",
    "    myTurtle.up()\n",
    "    myTurtle.goto(points[0])\n",
    "    myTurtle.down()\n",
    "    myTurtle.begin_fill()\n",
    "    myTurtle.goto(points[1])\n",
    "    myTurtle.goto(points[2])\n",
    "    myTurtle.goto(points[0])\n",
    "    myTurtle.end_fill()\n",
    "    \n",
    "def getMid(p1, p2):\n",
    "    return ((p1[0] + p2[0])/2, (p1[1] + p2[1])/2)\n",
    "\n",
    "def sierpinski(points, degree, myTurtle):\n",
    "    colormap = ['blue', 'red', 'green', 'white', 'yellow', 'violet', 'orange']\n",
    "    drawTriangle(points, colormap[degree], myTurtle)\n",
    "    if degree > 0:\n",
    "        sierpinski([points[0], getMid(points[0], points[1]), getMid(points[0], points[2])],\n",
    "                  degree-1, myTurtle)\n",
    "        sierpinski([points[1], getMid(points[0], points[1]), getMid(points[1], points[2])],\n",
    "                  degree-1, myTurtle)\n",
    "        sierpinski([points[2], getMid(points[2], points[0]), getMid(points[2], points[1])],\n",
    "                  degree-1, myTurtle)\n",
    "        \n",
    "myTurtle = Turtle()\n",
    "myWin = myTurtle.getscreen()\n",
    "myPoints = [(-500, -250), (0, 500), (500, -250)]\n",
    "sierpinski(myPoints, 3, myTurtle)\n",
    "myWin.exitonclick()"
   ]
  },
  {
   "cell_type": "code",
   "execution_count": 5,
   "metadata": {},
   "outputs": [
    {
     "ename": "TypeError",
     "evalue": "'set' object is not subscriptable",
     "output_type": "error",
     "traceback": [
      "\u001b[1;31m---------------------------------------------------------------------------\u001b[0m",
      "\u001b[1;31mTypeError\u001b[0m                                 Traceback (most recent call last)",
      "\u001b[1;32m<ipython-input-5-296576567234>\u001b[0m in \u001b[0;36m<module>\u001b[1;34m\u001b[0m\n\u001b[0;32m      1\u001b[0m \u001b[0mset\u001b[0m \u001b[1;33m=\u001b[0m \u001b[1;33m{\u001b[0m\u001b[1;36m1\u001b[0m\u001b[1;33m,\u001b[0m \u001b[1;36m2\u001b[0m\u001b[1;33m,\u001b[0m\u001b[1;36m2\u001b[0m\u001b[1;33m}\u001b[0m\u001b[1;33m\u001b[0m\u001b[1;33m\u001b[0m\u001b[0m\n\u001b[1;32m----> 2\u001b[1;33m \u001b[0mset\u001b[0m\u001b[1;33m[\u001b[0m\u001b[1;36m0\u001b[0m\u001b[1;33m]\u001b[0m\u001b[1;33m\u001b[0m\u001b[1;33m\u001b[0m\u001b[0m\n\u001b[0m",
      "\u001b[1;31mTypeError\u001b[0m: 'set' object is not subscriptable"
     ]
    }
   ],
   "source": [
    "set = {1, 2,2}\n",
    "set[0]"
   ]
  },
  {
   "cell_type": "code",
   "execution_count": 19,
   "metadata": {},
   "outputs": [
    {
     "ename": "TypeError",
     "evalue": "'set' object is not callable",
     "output_type": "error",
     "traceback": [
      "\u001b[1;31m---------------------------------------------------------------------------\u001b[0m",
      "\u001b[1;31mTypeError\u001b[0m                                 Traceback (most recent call last)",
      "\u001b[1;32m<ipython-input-19-c218ed38aab8>\u001b[0m in \u001b[0;36m<module>\u001b[1;34m\u001b[0m\n\u001b[0;32m      1\u001b[0m \u001b[0ms\u001b[0m\u001b[1;33m=\u001b[0m\u001b[1;33m[\u001b[0m\u001b[1;34m'helo'\u001b[0m\u001b[1;33m,\u001b[0m\u001b[1;34m'sdaf'\u001b[0m\u001b[1;33m,\u001b[0m\u001b[1;34m'dfa'\u001b[0m\u001b[1;33m]\u001b[0m\u001b[1;33m\u001b[0m\u001b[1;33m\u001b[0m\u001b[0m\n\u001b[0;32m      2\u001b[0m \u001b[1;32mfor\u001b[0m \u001b[0mi\u001b[0m \u001b[1;32min\u001b[0m \u001b[0mzip\u001b[0m\u001b[1;33m(\u001b[0m\u001b[1;33m*\u001b[0m\u001b[0ms\u001b[0m\u001b[1;33m)\u001b[0m\u001b[1;33m:\u001b[0m\u001b[1;33m\u001b[0m\u001b[1;33m\u001b[0m\u001b[0m\n\u001b[1;32m----> 3\u001b[1;33m     \u001b[0mprint\u001b[0m\u001b[1;33m(\u001b[0m\u001b[0mlen\u001b[0m\u001b[1;33m(\u001b[0m\u001b[0mset\u001b[0m\u001b[1;33m(\u001b[0m\u001b[0mi\u001b[0m\u001b[1;33m)\u001b[0m\u001b[1;33m)\u001b[0m \u001b[1;33m==\u001b[0m \u001b[1;36m1\u001b[0m\u001b[1;33m)\u001b[0m\u001b[1;33m\u001b[0m\u001b[1;33m\u001b[0m\u001b[0m\n\u001b[0m",
      "\u001b[1;31mTypeError\u001b[0m: 'set' object is not callable"
     ]
    }
   ],
   "source": [
    "s=['helo','sdaf','dfa']\n",
    "for i in zip(*s):\n",
    "    print(len(set(i)) == 1)"
   ]
  },
  {
   "cell_type": "code",
   "execution_count": 1,
   "metadata": {},
   "outputs": [],
   "source": [
    "# 链表\n",
    "class Node:\n",
    "    def __init__(self, data):\n",
    "        self.data = data\n",
    "        self.next = None\n",
    "        \n",
    "    def getData(self):\n",
    "        return self.data\n",
    "    \n",
    "    def getNext(self):\n",
    "        return self.next\n",
    "    \n",
    "    def setData(self, newdata):\n",
    "        self.data = newdata\n",
    "        \n",
    "    def setNext(self, newnext):\n",
    "        self.next = newnext"
   ]
  },
  {
   "cell_type": "code",
   "execution_count": 188,
   "metadata": {},
   "outputs": [],
   "source": [
    "class UnorderedList:\n",
    "    def __init__(self):\n",
    "        self.head = None\n",
    "        \n",
    "    def isEmpty(self):\n",
    "        return self.head == None\n",
    "    \n",
    "    def add(self,data):\n",
    "        temp = Node(data)\n",
    "        temp.setNext(self.head)\n",
    "        self.head = temp\n",
    "        \n",
    "    def length(self):\n",
    "        count = 0\n",
    "        current = self.head\n",
    "        while current != None:\n",
    "            count += 1\n",
    "            current = current.getNext()\n",
    "        return count\n",
    "    \n",
    "    def search(self, item):\n",
    "        found = False\n",
    "        current = self.head\n",
    "        while current != None and not found:\n",
    "            if current.getData() == item:\n",
    "                found = True\n",
    "            else:\n",
    "                current = current.getNext()\n",
    "        return found\n",
    "    \n",
    "    def remove(self, item):\n",
    "        found = False\n",
    "        current = self.head\n",
    "        previous = None\n",
    "        while current != None and not found:\n",
    "            if current.getData() == item:\n",
    "                found = True\n",
    "            else:\n",
    "                previous = current\n",
    "                current = current.getNext()\n",
    "        if previous == None:\n",
    "#             self.head.setNext(current.getNext()) self.haed不是节点，不用setNext\n",
    "            self.head = current.getNext()\n",
    "        else:\n",
    "            previous.setNext(current.getNext())\n",
    "            \n",
    "    def append(self, item):\n",
    "        temp = Node(item)\n",
    "        current = self.head\n",
    "        previous = None\n",
    "        while current != None:\n",
    "            previous = current\n",
    "            current = current.getNext()\n",
    "        if previous == None:\n",
    "            temp.setNext(current)\n",
    "            self.head = temp\n",
    "        else:\n",
    "#             temp.setNext(current)\n",
    "            previous.setNext(temp)\n",
    "    \n",
    "#     def index(self, item):\n",
    "#         count = 0\n",
    "#         found = False\n",
    "#         current = self.head\n",
    "#         while current != None and not found:\n",
    "#             if current.getData() == item: #注意getData后面得加括号\n",
    "#                 found = True\n",
    "#             else:\n",
    "#                 count += 1\n",
    "#                 current = current.getNext()\n",
    "#         return count\n",
    "\n",
    "    def index(self,item):\n",
    "        current=self.head\n",
    "        count=0\n",
    "        while current.getData()!=item:\n",
    "            current=current.getNext()\n",
    "            count=count+1\n",
    "        return count\n",
    "    \n",
    "    def insert(self, pos, item):\n",
    "        count = 0\n",
    "        temp = Node(item)\n",
    "        current = self.head\n",
    "        while count < pos:\n",
    "            count += 1\n",
    "            current = current.getNext()\n",
    "        if pos == 0:\n",
    "            temp.setNext(current)\n",
    "            self.head = temp\n",
    "        else:\n",
    "            temp.setNext(current.getNext())\n",
    "            current.setNext(temp)\n",
    "            \n",
    "    def pop1(self):\n",
    "        current = self.head\n",
    "        previous = None\n",
    "        previous2 = None\n",
    "        while current != None:\n",
    "            previous2 = previous\n",
    "            previous = current\n",
    "            current = current.getNext()\n",
    "        if previous2 == None:\n",
    "            self.head = current\n",
    "        else:\n",
    "            previous2.setNext(current)\n",
    "        return previous.getData()\n",
    "    def pop(self, pos= -1):  #注意这里需要传入pos=-1，一个默认参数，如果pos没有指定值，那么久调用pop1删除最后一个值\n",
    "        if pos == -1:\n",
    "            return self.pop1()  #这里需要用return，否则没有返回值\n",
    "        else:\n",
    "            current = self.head\n",
    "            previous = None\n",
    "            count = 0\n",
    "            while count < pos:\n",
    "                count += 1\n",
    "                previous = current\n",
    "                current = current.getNext()\n",
    "            if pos == 0:\n",
    "                self.head = current.getNext()\n",
    "            else:\n",
    "                previous.setNext(current.getNext())\n",
    "            return current.getData()\n",
    "    def __str__(self):\n",
    "        lis = []\n",
    "        count = 0\n",
    "        current = self.head\n",
    "        while count < self.length():\n",
    "            lis.append(current.getData())\n",
    "            count += 1\n",
    "            current = current.getNext()\n",
    "        return lis"
   ]
  },
  {
   "cell_type": "code",
   "execution_count": 191,
   "metadata": {},
   "outputs": [],
   "source": [
    "mylist = UnorderedList()\n",
    "mylist.add(31)\n",
    "mylist.add(12)\n",
    "mylist.add(23)"
   ]
  },
  {
   "cell_type": "code",
   "execution_count": 192,
   "metadata": {},
   "outputs": [
    {
     "data": {
      "text/plain": [
       "[23, 12, 31]"
      ]
     },
     "execution_count": 192,
     "metadata": {},
     "output_type": "execute_result"
    }
   ],
   "source": [
    "mylist.__str__()"
   ]
  },
  {
   "cell_type": "code",
   "execution_count": 184,
   "metadata": {},
   "outputs": [
    {
     "data": {
      "text/plain": [
       "12"
      ]
     },
     "execution_count": 184,
     "metadata": {},
     "output_type": "execute_result"
    }
   ],
   "source": [
    "mylist.pop(0)"
   ]
  },
  {
   "cell_type": "code",
   "execution_count": 178,
   "metadata": {},
   "outputs": [
    {
     "data": {
      "text/plain": [
       "2"
      ]
     },
     "execution_count": 178,
     "metadata": {},
     "output_type": "execute_result"
    }
   ],
   "source": [
    "mylist.length()"
   ]
  },
  {
   "cell_type": "code",
   "execution_count": 93,
   "metadata": {},
   "outputs": [
    {
     "data": {
      "text/plain": [
       "True"
      ]
     },
     "execution_count": 93,
     "metadata": {},
     "output_type": "execute_result"
    }
   ],
   "source": [
    "mylist.append(12)\n",
    "mylist.search(12)"
   ]
  },
  {
   "cell_type": "code",
   "execution_count": 95,
   "metadata": {},
   "outputs": [
    {
     "data": {
      "text/plain": [
       "1"
      ]
     },
     "execution_count": 95,
     "metadata": {},
     "output_type": "execute_result"
    }
   ],
   "source": [
    "mylist.index(12)"
   ]
  },
  {
   "cell_type": "code",
   "execution_count": 96,
   "metadata": {},
   "outputs": [],
   "source": [
    "mylist.insert(0,21)"
   ]
  },
  {
   "cell_type": "code",
   "execution_count": 97,
   "metadata": {},
   "outputs": [],
   "source": [
    "mylist.insert(2,44)"
   ]
  },
  {
   "cell_type": "code",
   "execution_count": 98,
   "metadata": {},
   "outputs": [
    {
     "data": {
      "text/plain": [
       "2"
      ]
     },
     "execution_count": 98,
     "metadata": {},
     "output_type": "execute_result"
    }
   ],
   "source": [
    "mylist.index(12)"
   ]
  },
  {
   "cell_type": "code",
   "execution_count": 145,
   "metadata": {},
   "outputs": [
    {
     "ename": "TypeError",
     "evalue": "pop() missing 1 required positional argument: 'pos'",
     "output_type": "error",
     "traceback": [
      "\u001b[1;31m---------------------------------------------------------------------------\u001b[0m",
      "\u001b[1;31mTypeError\u001b[0m                                 Traceback (most recent call last)",
      "\u001b[1;32m<ipython-input-145-53acc36e1148>\u001b[0m in \u001b[0;36m<module>\u001b[1;34m\u001b[0m\n\u001b[1;32m----> 1\u001b[1;33m \u001b[0mmylist\u001b[0m\u001b[1;33m.\u001b[0m\u001b[0mpop\u001b[0m\u001b[1;33m(\u001b[0m\u001b[1;33m)\u001b[0m\u001b[1;33m\u001b[0m\u001b[1;33m\u001b[0m\u001b[0m\n\u001b[0m",
      "\u001b[1;31mTypeError\u001b[0m: pop() missing 1 required positional argument: 'pos'"
     ]
    }
   ],
   "source": [
    "mylist.pop()"
   ]
  },
  {
   "cell_type": "markdown",
   "metadata": {},
   "source": [
    "实现有序列表"
   ]
  },
  {
   "cell_type": "code",
   "execution_count": null,
   "metadata": {},
   "outputs": [],
   "source": [
    "class OrderedList:\n",
    "    def __init__(self):\n",
    "        self.head = None\n",
    "    \n",
    "    def isEmpty(self):\n",
    "        return self.head == None\n",
    "    def length(self):\n",
    "        count = 0\n",
    "        current = self.head\n",
    "        while current != None:\n",
    "            count += 1\n",
    "            current = current.getNext()\n",
    "        return count\n",
    "    def remove(self, item):\n",
    "        found = False\n",
    "        current = self.head\n",
    "        previous = None\n",
    "        while current != None and not found:\n",
    "            if current.getData() == item:\n",
    "                found = True\n",
    "            else:\n",
    "                previous = current\n",
    "                current = current.getNext()\n",
    "        if previous == None:\n",
    "#             self.head.setNext(current.getNext()) self.haed不是节点，不用setNext\n",
    "            self.head = current.getNext()\n",
    "        else:\n",
    "            previous.setNext(current.getNext())\n",
    "    def search(self, item):\n",
    "        current = self.head\n",
    "        found = False\n",
    "        stop = False\n",
    "        while current != None and not found and not Stop:\n",
    "            if current.getData() == item:\n",
    "                found = True\n",
    "            else:\n",
    "                if current.getData() > item:\n",
    "                    stop = True\n",
    "                else:\n",
    "                    current = current.getNext()\n",
    "        return found\n",
    "    \n",
    "    def add(self, item):\n",
    "        current = self.head\n",
    "        previous = None\n",
    "        stop = False\n",
    "        while current != None and not stop:\n",
    "            if current.getData() > item:\n",
    "                stop = True\n",
    "            else:\n",
    "                previous = current\n",
    "                current = current.getNext()\n",
    "        temp = Node(item)\n",
    "        if previous == None:\n",
    "            temp.setNext(self.head)\n",
    "            self.head = temp\n",
    "        else:\n",
    "            temp.setNext(current)\n",
    "            previous.setNext(temp)\n",
    "            "
   ]
  }
 ],
 "metadata": {
  "kernelspec": {
   "display_name": "Python 3",
   "language": "python",
   "name": "python3"
  },
  "language_info": {
   "codemirror_mode": {
    "name": "ipython",
    "version": 3
   },
   "file_extension": ".py",
   "mimetype": "text/x-python",
   "name": "python",
   "nbconvert_exporter": "python",
   "pygments_lexer": "ipython3",
   "version": "3.7.6"
  }
 },
 "nbformat": 4,
 "nbformat_minor": 4
}
