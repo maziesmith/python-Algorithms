{
 "cells": [
  {
   "cell_type": "code",
   "execution_count": 1,
   "metadata": {},
   "outputs": [],
   "source": [
    "from pythonds.basic import Stack\n",
    "import string\n",
    "def infixToPostfix1(infixexpr):\n",
    "    prec={}\n",
    "    prec['*']=3\n",
    "    prec['/']=3\n",
    "    prec['+']=2\n",
    "    prec['-']=2\n",
    "    prec['(']=1\n",
    "    \n",
    "    opStack=Stack()\n",
    "    postfixList=[]\n",
    "    try:\n",
    "        tokenList=infixexpr.split() #要求字符串每个字符都必须以空格隔开\n",
    "        for token in tokenList:\n",
    "            if token.isnumeric: #.isnumeric判断token是不是数字\n",
    "                postfixList.append(token)\n",
    "            elif token=='(':\n",
    "                opStack.push(token)\n",
    "            elif token==')':\n",
    "                topToken=opStack.pop()\n",
    "                while topToken!='(':\n",
    "                    postfixList.append(topToken)\n",
    "                    topToken=opStack.pop()\n",
    "            else:\n",
    "                while (not opStack.isEmpty()) and (prec[opStack.peek()]>=prec[token]):\n",
    "                    postfixList.append(opStack.pop())\n",
    "                opStack.push(token)\n",
    "        while not opStack.isEmpty():\n",
    "            postfixList.append(opStack.pop())\n",
    "        return ' '.join(postfixList)\n",
    "    except:\n",
    "        return '表达式不符合要求'"
   ]
  },
  {
   "cell_type": "code",
   "execution_count": 2,
   "metadata": {},
   "outputs": [
    {
     "data": {
      "text/plain": [
       "'1 + 2 * 3'"
      ]
     },
     "execution_count": 2,
     "metadata": {},
     "output_type": "execute_result"
    }
   ],
   "source": [
    "infixToPostfix1('1 + 2 * 3')"
   ]
  },
  {
   "cell_type": "code",
   "execution_count": 3,
   "metadata": {},
   "outputs": [],
   "source": [
    "from pythonds.basic import Stack\n",
    "import string\n",
    "def infixToPostfix(infixexpr):\n",
    "    prec={}\n",
    "    prec['*']=3\n",
    "    prec['/']=3\n",
    "    prec['+']=2\n",
    "    prec['-']=2\n",
    "    prec['(']=1\n",
    "    \n",
    "    opStack=Stack()\n",
    "    postfixList=[]\n",
    "    try:\n",
    "        tokenList=infixexpr.split() #要求字符串每个字符都必须以空格隔开\n",
    "        for token in tokenList:\n",
    "            if token.: #string.ascii_uppercase包含所有大写字母，这个判断也就是如果token是大写字母\n",
    "                postfixList.append(token)\n",
    "            elif token=='(':\n",
    "                opStack.push(token)\n",
    "            elif token==')':\n",
    "                topToken=opStack.pop()\n",
    "                while topToken!='(':\n",
    "                    postfixList.append(topToken)\n",
    "                    topToken=opStack.pop()\n",
    "            else:\n",
    "                while (not opStack.isEmpty()) and (prec[opStack.peek()]>=prec[token]):\n",
    "                    postfixList.append(opStack.pop())\n",
    "                opStack.push(token)\n",
    "        while not opStack.isEmpty():\n",
    "            postfixList.append(opStack.pop())\n",
    "        return ' '.join(postfixList)\n",
    "    except:\n",
    "        return '表达式不符合要求'"
   ]
  },
  {
   "cell_type": "code",
   "execution_count": 4,
   "metadata": {},
   "outputs": [
    {
     "data": {
      "text/plain": [
       "'A B + C D + *'"
      ]
     },
     "execution_count": 4,
     "metadata": {},
     "output_type": "execute_result"
    }
   ],
   "source": [
    "infixToPostfix('( A + B ) * ( C + D ) ')"
   ]
  },
  {
   "cell_type": "code",
   "execution_count": 1,
   "metadata": {},
   "outputs": [
    {
     "name": "stdout",
     "output_type": "stream",
     "text": [
      "Average wait 1129.62 secs 138 tasks remaining.\n",
      "Average wait 1207.62 secs 125 tasks remaining.\n",
      "Average wait 1166.79 secs 129 tasks remaining.\n",
      "Average wait 1115.85 secs 138 tasks remaining.\n",
      "Average wait 1165.51 secs 120 tasks remaining.\n",
      "Average wait 979.62 secs 132 tasks remaining.\n",
      "Average wait 927.53 secs 120 tasks remaining.\n",
      "Average wait 1131.21 secs 102 tasks remaining.\n",
      "Average wait 1156.24 secs 139 tasks remaining.\n",
      "Average wait 1154.39 secs 103 tasks remaining.\n"
     ]
    }
   ],
   "source": [
    "class Printer:\n",
    "    def __init__(self,ppm):\n",
    "        self.pagerate=ppm\n",
    "        self.currentTask=None\n",
    "        self.timeRemaining=0\n",
    "    def tick(self):\n",
    "        if self.currentTask!=None:\n",
    "            self.timeRemaining=self.timeRemaining-1\n",
    "            if self.timeRemaining<=0:\n",
    "                self.currentTask=None\n",
    "    def busy(self):\n",
    "        if self.currentTask!=None:\n",
    "            return True\n",
    "        else:\n",
    "            return False\n",
    "    def startNext(self,newtask):\n",
    "        self.currentTask=newtask\n",
    "        self.timeRemaining=newtask.getPages()*60/self.pagerate\n",
    "import random\n",
    "class Task:\n",
    "    def __init__(self,time):\n",
    "        self.timestamp=time\n",
    "        self.pages=random.randrange(1,31)\n",
    "        \n",
    "    def getStamp(self):\n",
    "        return self.timestamp\n",
    "    def getPages(self):\n",
    "        return self.pages\n",
    "    def waitTime(self,currenttime):\n",
    "        return currenttime - self.timestamp\n",
    "\n",
    "from pythonds.basic import Queue\n",
    "# import random\n",
    "def newPrintTask():\n",
    "    num=random.randrange(1,19)\n",
    "    if num==18:\n",
    "        return True\n",
    "    else:\n",
    "        return False\n",
    "def simulation(numSeconds,pagesPerMinute):\n",
    "    labprinter=Printer(pagesPerMinute)\n",
    "    printQueue=Queue()\n",
    "    waitingtimes=[]\n",
    "    \n",
    "    for currentSecond in range(numSeconds):\n",
    "        if newPrintTask():\n",
    "            task=Task(currentSecond)\n",
    "            printQueue.enqueue(task)\n",
    "#             print(task.timestamp)\n",
    "        if (not labprinter.busy()) and (not printQueue.isEmpty()):\n",
    "            nexttask=printQueue.dequeue()\n",
    "#             print(nexttask.waitTime(currentSecond))\n",
    "            waitingtimes.append(nexttask.waitTime(currentSecond))\n",
    "#             print(waitingtimes)\n",
    "            labprinter.startNext(nexttask)\n",
    "        labprinter.tick()\n",
    "    averageWait=sum(waitingtimes)/len(waitingtimes)\n",
    "    print('Average wait %6.2f secs %3d tasks remaining.'%(averageWait,printQueue.size()))\n",
    "for i in range(10):\n",
    "    simulation(3600,20)"
   ]
  },
  {
   "cell_type": "code",
   "execution_count": 2,
   "metadata": {},
   "outputs": [
    {
     "ename": "IndexError",
     "evalue": "list index out of range",
     "output_type": "error",
     "traceback": [
      "\u001b[1;31m---------------------------------------------------------------------------\u001b[0m",
      "\u001b[1;31mIndexError\u001b[0m                                Traceback (most recent call last)",
      "\u001b[1;32m<ipython-input-2-ec20c8820cc2>\u001b[0m in \u001b[0;36m<module>\u001b[1;34m\u001b[0m\n\u001b[0;32m     13\u001b[0m                 \u001b[0mknownResults\u001b[0m\u001b[1;33m[\u001b[0m\u001b[0mchange\u001b[0m\u001b[1;33m]\u001b[0m\u001b[1;33m=\u001b[0m\u001b[0mminCoins\u001b[0m\u001b[1;33m\u001b[0m\u001b[1;33m\u001b[0m\u001b[0m\n\u001b[0;32m     14\u001b[0m     \u001b[1;32mreturn\u001b[0m \u001b[0mminCoins\u001b[0m\u001b[1;33m\u001b[0m\u001b[1;33m\u001b[0m\u001b[0m\n\u001b[1;32m---> 15\u001b[1;33m \u001b[0mrecDC\u001b[0m\u001b[1;33m(\u001b[0m\u001b[1;33m[\u001b[0m\u001b[1;36m1\u001b[0m\u001b[1;33m,\u001b[0m\u001b[1;36m5\u001b[0m\u001b[1;33m,\u001b[0m\u001b[1;36m10\u001b[0m\u001b[1;33m,\u001b[0m\u001b[1;36m25\u001b[0m\u001b[1;33m]\u001b[0m\u001b[1;33m,\u001b[0m\u001b[1;36m63\u001b[0m\u001b[1;33m,\u001b[0m\u001b[1;33m[\u001b[0m\u001b[1;36m0\u001b[0m\u001b[1;33m]\u001b[0m\u001b[1;33m*\u001b[0m\u001b[1;36m63\u001b[0m\u001b[1;33m)\u001b[0m\u001b[1;33m\u001b[0m\u001b[1;33m\u001b[0m\u001b[0m\n\u001b[0m",
      "\u001b[1;32m<ipython-input-2-ec20c8820cc2>\u001b[0m in \u001b[0;36mrecDC\u001b[1;34m(coinValueList, change, knownResults)\u001b[0m\n\u001b[0;32m      4\u001b[0m         \u001b[0mknownResults\u001b[0m\u001b[1;33m[\u001b[0m\u001b[0mchange\u001b[0m\u001b[1;33m]\u001b[0m\u001b[1;33m=\u001b[0m\u001b[1;36m1\u001b[0m\u001b[1;33m\u001b[0m\u001b[1;33m\u001b[0m\u001b[0m\n\u001b[0;32m      5\u001b[0m         \u001b[1;32mreturn\u001b[0m \u001b[1;36m1\u001b[0m\u001b[1;33m\u001b[0m\u001b[1;33m\u001b[0m\u001b[0m\n\u001b[1;32m----> 6\u001b[1;33m     \u001b[1;32melif\u001b[0m \u001b[0mknownResults\u001b[0m\u001b[1;33m[\u001b[0m\u001b[0mchange\u001b[0m\u001b[1;33m]\u001b[0m\u001b[1;33m>\u001b[0m\u001b[1;36m0\u001b[0m\u001b[1;33m:\u001b[0m\u001b[1;33m\u001b[0m\u001b[1;33m\u001b[0m\u001b[0m\n\u001b[0m\u001b[0;32m      7\u001b[0m         \u001b[1;32mreturn\u001b[0m \u001b[0mknownResults\u001b[0m\u001b[1;33m[\u001b[0m\u001b[0mchange\u001b[0m\u001b[1;33m]\u001b[0m\u001b[1;33m\u001b[0m\u001b[1;33m\u001b[0m\u001b[0m\n\u001b[0;32m      8\u001b[0m     \u001b[1;32melse\u001b[0m\u001b[1;33m:\u001b[0m\u001b[1;33m\u001b[0m\u001b[1;33m\u001b[0m\u001b[0m\n",
      "\u001b[1;31mIndexError\u001b[0m: list index out of range"
     ]
    }
   ],
   "source": [
    "def recDC(coinValueList,change,knownResults):\n",
    "    minCoins=change\n",
    "    if change in coinValueList:\n",
    "        knownResults[change]=1\n",
    "        return 1\n",
    "    elif knownResults[change]>0:\n",
    "        return knownResults[change]\n",
    "    else:\n",
    "        for i in [c for c in coinValueList if c <=change]:\n",
    "            numCoin=1+recDC(coinValueList,change-i,knownResults)\n",
    "            if numCoins<minCoins:\n",
    "                minCoins=numCoins\n",
    "                knownResults[change]=minCoins\n",
    "    return minCoins\n",
    "recDC([1,5,10,25],63,[0]*63)"
   ]
  },
  {
   "cell_type": "code",
   "execution_count": 57,
   "metadata": {},
   "outputs": [
    {
     "name": "stdout",
     "output_type": "stream",
     "text": [
      "<pythonds.trees.binaryTree.BinaryTree object at 0x0000016253E94550>\n"
     ]
    }
   ],
   "source": [
    "from pythonds.basic import Stack\n",
    "from pythonds.trees import BinaryTree\n",
    "\n",
    "def buildParseTree(fpexp):\n",
    "    fplist=fpexp.split()\n",
    "    pStack=Stack()\n",
    "    eTree=BinaryTree('')\n",
    "    pStack.push(eTree)\n",
    "    currentTree=eTree\n",
    "    for i in fplist:\n",
    "        if i=='(':\n",
    "            currentTree.insertLeft('')\n",
    "            pStack.push(currentTree)\n",
    "            currentTree=currentTree.getLeftChild()\n",
    "        elif i not in '+-*/)':\n",
    "            currentTree.setRootVal(eval(i))\n",
    "            parent=pStack.pop()\n",
    "            currentTree=parent\n",
    "        elif i in '+-*/':\n",
    "            currentTree.setRootVal(i)\n",
    "            currentTree.insertRight('')\n",
    "            pStack.push(currentTree)\n",
    "            currentTree=currentTree.getRightChild()\n",
    "        elif i==')':\n",
    "            currentTree=pStack.pop()\n",
    "        else:\n",
    "            raise ValueError('Unknown Operator:'+i)\n",
    "    return eTree\n",
    "parseTree=buildParseTree('( ( 7 + 3 ) * ( 4 + 5 ) )')\n",
    "print(parseTree)"
   ]
  },
  {
   "cell_type": "code",
   "execution_count": 45,
   "metadata": {},
   "outputs": [
    {
     "data": {
      "text/plain": [
       "'((3)*((4)+(5)))'"
      ]
     },
     "execution_count": 45,
     "metadata": {},
     "output_type": "execute_result"
    }
   ],
   "source": [
    "def printexp(tree):\n",
    "    sVal=''\n",
    "    if tree:\n",
    "        if type(tree)!='NoneType':\n",
    "            sVal='('+printexp(tree.getLeftChild())\n",
    "        else:\n",
    "            sVal=printexp(tree.getLeftChild())\n",
    "        sVal=sVal+str(tree.getRootVal())\n",
    "        if type(tree.getRightChild())!='NoneType':\n",
    "            sVal=sVal+printexp(tree.getRightChild())+')'\n",
    "        else:\n",
    "            sVal=sVal+printexp(tree.getRightChild())\n",
    "    return sVal\n",
    "printexp(parseTree)"
   ]
  },
  {
   "cell_type": "code",
   "execution_count": 29,
   "metadata": {},
   "outputs": [
    {
     "data": {
      "text/plain": [
       "type"
      ]
     },
     "execution_count": 29,
     "metadata": {},
     "output_type": "execute_result"
    }
   ],
   "source": [
    "type(type(parseTree.getLeftChild().getLeftChild()))"
   ]
  },
  {
   "cell_type": "code",
   "execution_count": 32,
   "metadata": {},
   "outputs": [
    {
     "ename": "ImportError",
     "evalue": "cannot import name 'BinaryHeap' from 'pythonds.trees' (D:\\anaconda\\lib\\site-packages\\pythonds\\trees\\__init__.py)",
     "output_type": "error",
     "traceback": [
      "\u001b[1;31m---------------------------------------------------------------------------\u001b[0m",
      "\u001b[1;31mImportError\u001b[0m                               Traceback (most recent call last)",
      "\u001b[1;32m<ipython-input-32-5a75eade1dd5>\u001b[0m in \u001b[0;36m<module>\u001b[1;34m\u001b[0m\n\u001b[1;32m----> 1\u001b[1;33m \u001b[1;32mfrom\u001b[0m \u001b[0mpythonds\u001b[0m\u001b[1;33m.\u001b[0m\u001b[0mtrees\u001b[0m \u001b[1;32mimport\u001b[0m \u001b[0mBinaryHeap\u001b[0m\u001b[1;33m\u001b[0m\u001b[1;33m\u001b[0m\u001b[0m\n\u001b[0m",
      "\u001b[1;31mImportError\u001b[0m: cannot import name 'BinaryHeap' from 'pythonds.trees' (D:\\anaconda\\lib\\site-packages\\pythonds\\trees\\__init__.py)"
     ]
    }
   ],
   "source": [
    "from pythonds.trees import BinaryHeap"
   ]
  },
  {
   "cell_type": "code",
   "execution_count": 54,
   "metadata": {},
   "outputs": [
    {
     "data": {
      "text/plain": [
       "'((3)*((4)+(5)))'"
      ]
     },
     "execution_count": 54,
     "metadata": {},
     "output_type": "execute_result"
    }
   ],
   "source": [
    "def printexp(tree):\n",
    "    sVal=''\n",
    "    if tree:\n",
    "        if str(type(tree.getLeftChild()))!='NoneType' and str(type(tree.getRightChild()))!='NoneType':\n",
    "            sVal='('+printexp(tree.getLeftChild())\n",
    "            sVal=sVal+str(tree.getRootVal())\n",
    "            sVal=sVal+printexp(tree.getRightChild())+')'\n",
    "        else:\n",
    "            sVal=printexp(tree.getLeftChild())\n",
    "            sVal=sVal+str(tree.getRootVal())\n",
    "            sVal=sVal+printexp(tree.getRightChild())\n",
    "#         sVal=sVal+str(tree.getRootVal())\n",
    "#         if type(tree.getRightChild())!='NoneType':\n",
    "#             sVal=sVal+printexp(tree.getRightChild())+')'\n",
    "#         else:\n",
    "#             sVal=sVal+printexp(tree.getRightChild())\n",
    "    return sVal\n",
    "printexp(parseTree)"
   ]
  },
  {
   "cell_type": "code",
   "execution_count": 58,
   "metadata": {},
   "outputs": [
    {
     "data": {
      "text/plain": [
       "'((7+3)*(4+5))'"
      ]
     },
     "execution_count": 58,
     "metadata": {},
     "output_type": "execute_result"
    }
   ],
   "source": [
    "def printexp(tree):\n",
    "    sVal=''\n",
    "    if tree:\n",
    "        if tree.getLeftChild() and tree.getRightChild():\n",
    "            sVal='('+printexp(tree.getLeftChild())\n",
    "            sVal=sVal+str(tree.getRootVal())\n",
    "            sVal=sVal+printexp(tree.getRightChild())+')'\n",
    "        else:\n",
    "            sVal=printexp(tree.getLeftChild())\n",
    "            sVal=sVal+str(tree.getRootVal())\n",
    "            sVal=sVal+printexp(tree.getRightChild())\n",
    "#         sVal=sVal+str(tree.getRootVal())\n",
    "#         if type(tree.getRightChild())!='NoneType':\n",
    "#             sVal=sVal+printexp(tree.getRightChild())+')'\n",
    "#         else:\n",
    "#             sVal=sVal+printexp(tree.getRightChild())\n",
    "    return sVal\n",
    "printexp(parseTree)"
   ]
  },
  {
   "cell_type": "code",
   "execution_count": 60,
   "metadata": {},
   "outputs": [
    {
     "data": {
      "text/plain": [
       "\"<class 'pythonds.trees.binaryTree.BinaryTree'>\""
      ]
     },
     "execution_count": 60,
     "metadata": {},
     "output_type": "execute_result"
    }
   ],
   "source": [
    "str(type(parseTree.getLeftChild()))"
   ]
  },
  {
   "cell_type": "code",
   "execution_count": null,
   "metadata": {},
   "outputs": [],
   "source": []
  }
 ],
 "metadata": {
  "kernelspec": {
   "display_name": "Python 3",
   "language": "python",
   "name": "python3"
  },
  "language_info": {
   "codemirror_mode": {
    "name": "ipython",
    "version": 3
   },
   "file_extension": ".py",
   "mimetype": "text/x-python",
   "name": "python",
   "nbconvert_exporter": "python",
   "pygments_lexer": "ipython3",
   "version": "3.7.6"
  }
 },
 "nbformat": 4,
 "nbformat_minor": 2
}
