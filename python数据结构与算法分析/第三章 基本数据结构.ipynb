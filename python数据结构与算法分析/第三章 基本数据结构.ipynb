{
 "cells": [
  {
   "cell_type": "code",
   "execution_count": 2,
   "metadata": {},
   "outputs": [],
   "source": [
    "#用python实现栈，假设列表的尾部是栈的顶部\n",
    "class Stack():\n",
    "    def __init__(self):\n",
    "        self.items=[]\n",
    "    def isEmpty(self): #检查栈是否为空\n",
    "        return self.items==[]\n",
    "    def push(self,item): #添加元素到栈顶端\n",
    "        self.items.append(item)\n",
    "    def pop(self): #从顶端删除元素\n",
    "        return self.items.pop()\n",
    "    def peek(self): #返回顶端元素不修改栈\n",
    "        return self.items[len(self.items)-1]\n",
    "    def size(self):#返回栈的长度\n",
    "        return len(self.items)"
   ]
  },
  {
   "cell_type": "code",
   "execution_count": 3,
   "metadata": {},
   "outputs": [
    {
     "data": {
      "text/plain": [
       "True"
      ]
     },
     "execution_count": 3,
     "metadata": {},
     "output_type": "execute_result"
    }
   ],
   "source": [
    "s=Stack()\n",
    "s.isEmpty()"
   ]
  },
  {
   "cell_type": "code",
   "execution_count": 4,
   "metadata": {},
   "outputs": [
    {
     "data": {
      "text/plain": [
       "'dog'"
      ]
     },
     "execution_count": 4,
     "metadata": {},
     "output_type": "execute_result"
    }
   ],
   "source": [
    "s.push(4)\n",
    "s.push('dog')\n",
    "s.peek()"
   ]
  },
  {
   "cell_type": "code",
   "execution_count": 5,
   "metadata": {},
   "outputs": [
    {
     "data": {
      "text/plain": [
       "3"
      ]
     },
     "execution_count": 5,
     "metadata": {},
     "output_type": "execute_result"
    }
   ],
   "source": [
    "s.push(True)\n",
    "s.size()"
   ]
  },
  {
   "cell_type": "code",
   "execution_count": 6,
   "metadata": {},
   "outputs": [
    {
     "data": {
      "text/plain": [
       "False"
      ]
     },
     "execution_count": 6,
     "metadata": {},
     "output_type": "execute_result"
    }
   ],
   "source": [
    "s.isEmpty()"
   ]
  },
  {
   "cell_type": "code",
   "execution_count": 7,
   "metadata": {},
   "outputs": [
    {
     "data": {
      "text/plain": [
       "8.4"
      ]
     },
     "execution_count": 7,
     "metadata": {},
     "output_type": "execute_result"
    }
   ],
   "source": [
    "s.push(8.4)\n",
    "s.pop()"
   ]
  },
  {
   "cell_type": "code",
   "execution_count": 8,
   "metadata": {},
   "outputs": [
    {
     "data": {
      "text/plain": [
       "True"
      ]
     },
     "execution_count": 8,
     "metadata": {},
     "output_type": "execute_result"
    }
   ],
   "source": [
    "s.pop()"
   ]
  },
  {
   "cell_type": "code",
   "execution_count": 9,
   "metadata": {},
   "outputs": [
    {
     "data": {
      "text/plain": [
       "2"
      ]
     },
     "execution_count": 9,
     "metadata": {},
     "output_type": "execute_result"
    }
   ],
   "source": [
    "s.size()"
   ]
  },
  {
   "cell_type": "code",
   "execution_count": 10,
   "metadata": {},
   "outputs": [],
   "source": [
    "#将列表头部作为栈的顶部\n",
    "class Stack1():\n",
    "    def __init__(self):\n",
    "        self.items=[]\n",
    "    def isEmpty(self):\n",
    "        return self.items==[]\n",
    "    def pop(self):\n",
    "        return self.items.pop(0)\n",
    "    def push(self,item):\n",
    "        self.items[0].insert(item)\n",
    "    def peek(self):\n",
    "        return self.items[0]\n",
    "    def size(self):\n",
    "        return len(self.items)\n",
    "        "
   ]
  },
  {
   "cell_type": "code",
   "execution_count": 12,
   "metadata": {},
   "outputs": [
    {
     "ename": "IndexError",
     "evalue": "list index out of range",
     "output_type": "error",
     "traceback": [
      "\u001b[1;31m---------------------------------------------------------------------------\u001b[0m",
      "\u001b[1;31mIndexError\u001b[0m                                Traceback (most recent call last)",
      "\u001b[1;32m<ipython-input-12-3efcebe6c123>\u001b[0m in \u001b[0;36m<module>\u001b[1;34m\u001b[0m\n\u001b[0;32m      1\u001b[0m \u001b[0ma\u001b[0m\u001b[1;33m=\u001b[0m\u001b[0mStack1\u001b[0m\u001b[1;33m(\u001b[0m\u001b[1;33m)\u001b[0m\u001b[1;33m\u001b[0m\u001b[1;33m\u001b[0m\u001b[0m\n\u001b[1;32m----> 2\u001b[1;33m \u001b[0ma\u001b[0m\u001b[1;33m.\u001b[0m\u001b[0mpush\u001b[0m\u001b[1;33m(\u001b[0m\u001b[1;36m1\u001b[0m\u001b[1;33m)\u001b[0m\u001b[1;33m\u001b[0m\u001b[1;33m\u001b[0m\u001b[0m\n\u001b[0m\u001b[0;32m      3\u001b[0m \u001b[0mlen\u001b[0m\u001b[1;33m(\u001b[0m\u001b[0ma\u001b[0m\u001b[1;33m)\u001b[0m\u001b[1;33m\u001b[0m\u001b[1;33m\u001b[0m\u001b[0m\n",
      "\u001b[1;32m<ipython-input-10-ac44917fde2a>\u001b[0m in \u001b[0;36mpush\u001b[1;34m(self, item)\u001b[0m\n\u001b[0;32m      8\u001b[0m         \u001b[1;32mreturn\u001b[0m \u001b[0mself\u001b[0m\u001b[1;33m.\u001b[0m\u001b[0mitems\u001b[0m\u001b[1;33m.\u001b[0m\u001b[0mpop\u001b[0m\u001b[1;33m(\u001b[0m\u001b[1;36m0\u001b[0m\u001b[1;33m)\u001b[0m\u001b[1;33m\u001b[0m\u001b[1;33m\u001b[0m\u001b[0m\n\u001b[0;32m      9\u001b[0m     \u001b[1;32mdef\u001b[0m \u001b[0mpush\u001b[0m\u001b[1;33m(\u001b[0m\u001b[0mself\u001b[0m\u001b[1;33m,\u001b[0m\u001b[0mitem\u001b[0m\u001b[1;33m)\u001b[0m\u001b[1;33m:\u001b[0m\u001b[1;33m\u001b[0m\u001b[1;33m\u001b[0m\u001b[0m\n\u001b[1;32m---> 10\u001b[1;33m         \u001b[0mself\u001b[0m\u001b[1;33m.\u001b[0m\u001b[0mitems\u001b[0m\u001b[1;33m[\u001b[0m\u001b[1;36m0\u001b[0m\u001b[1;33m]\u001b[0m\u001b[1;33m.\u001b[0m\u001b[0minsert\u001b[0m\u001b[1;33m(\u001b[0m\u001b[0mitem\u001b[0m\u001b[1;33m)\u001b[0m\u001b[1;33m\u001b[0m\u001b[1;33m\u001b[0m\u001b[0m\n\u001b[0m\u001b[0;32m     11\u001b[0m     \u001b[1;32mdef\u001b[0m \u001b[0mpeek\u001b[0m\u001b[1;33m(\u001b[0m\u001b[0mself\u001b[0m\u001b[1;33m)\u001b[0m\u001b[1;33m:\u001b[0m\u001b[1;33m\u001b[0m\u001b[1;33m\u001b[0m\u001b[0m\n\u001b[0;32m     12\u001b[0m         \u001b[1;32mreturn\u001b[0m \u001b[0mself\u001b[0m\u001b[1;33m.\u001b[0m\u001b[0mitems\u001b[0m\u001b[1;33m[\u001b[0m\u001b[1;36m0\u001b[0m\u001b[1;33m]\u001b[0m\u001b[1;33m\u001b[0m\u001b[1;33m\u001b[0m\u001b[0m\n",
      "\u001b[1;31mIndexError\u001b[0m: list index out of range"
     ]
    }
   ],
   "source": [
    "a=Stack1()\n",
    "a.push(1)\n",
    "len(a)"
   ]
  },
  {
   "cell_type": "code",
   "execution_count": 1,
   "metadata": {},
   "outputs": [],
   "source": [
    "class Stack1():\n",
    "    def __init__(self):\n",
    "        self.items=[]\n",
    "    def isEmpty(self):\n",
    "        return self.items==[]\n",
    "    def pop(self):\n",
    "        return self.items.pop(0)\n",
    "    def push(self,item):\n",
    "        self.items.insert(0,item)\n",
    "    def peek(self):\n",
    "        return self.items[0]\n",
    "    def size(self):\n",
    "        return len(self.items)"
   ]
  },
  {
   "cell_type": "code",
   "execution_count": 2,
   "metadata": {},
   "outputs": [
    {
     "data": {
      "text/plain": [
       "1"
      ]
     },
     "execution_count": 2,
     "metadata": {},
     "output_type": "execute_result"
    }
   ],
   "source": [
    "a=Stack1()\n",
    "a.push(1)\n",
    "a.peek()"
   ]
  },
  {
   "cell_type": "code",
   "execution_count": 3,
   "metadata": {},
   "outputs": [
    {
     "data": {
      "text/plain": [
       "1"
      ]
     },
     "execution_count": 3,
     "metadata": {},
     "output_type": "execute_result"
    }
   ],
   "source": [
    "a.size()"
   ]
  },
  {
   "cell_type": "code",
   "execution_count": 7,
   "metadata": {},
   "outputs": [],
   "source": [
    "#匹配括号\n",
    "from pythonds.basic import Stack\n",
    "def parChecker(symbolString):\n",
    "    s=Stack()\n",
    "    balanced=True\n",
    "    index=0\n",
    "    while index<len(symbolString) and balanced:\n",
    "        symbol=symbolString[index]\n",
    "        if symbol==\"(\":\n",
    "            s.push(symbol)\n",
    "        else:\n",
    "            if s.isEmpty():\n",
    "                balanced=False\n",
    "            else:\n",
    "                s.pop()\n",
    "        index+=1\n",
    "    if balanced and s.isEmpty():\n",
    "        return True\n",
    "    else:\n",
    "        return False"
   ]
  },
  {
   "cell_type": "code",
   "execution_count": 21,
   "metadata": {},
   "outputs": [],
   "source": [
    "from pythonds.basic import Stack\n",
    "def parChecker1(symbolString):\n",
    "    s=Stack()\n",
    "#     balanced=True\n",
    "    index=0\n",
    "    while index<len(symbolString):\n",
    "        symbol=symbolString[index]\n",
    "        if symbol==\"(\":\n",
    "            s.push(symbol)\n",
    "        else:\n",
    "            if s.isEmpty():\n",
    "                return False\n",
    "            else:\n",
    "                s.pop()\n",
    "        index+=1\n",
    "    return True"
   ]
  },
  {
   "cell_type": "code",
   "execution_count": 25,
   "metadata": {},
   "outputs": [
    {
     "data": {
      "text/plain": [
       "True"
      ]
     },
     "execution_count": 25,
     "metadata": {},
     "output_type": "execute_result"
    }
   ],
   "source": [
    "a=''\n",
    "parChecker(a)"
   ]
  },
  {
   "cell_type": "code",
   "execution_count": 18,
   "metadata": {},
   "outputs": [],
   "source": [
    "#匹配括号,扩展至中括号花括号\n",
    "from pythonds.basic import Stack\n",
    "def parChecker(symbolString):\n",
    "    s=Stack()\n",
    "    balanced=True\n",
    "    index=0\n",
    "    while index<len(symbolString) and balanced:\n",
    "        symbol=symbolString[index]\n",
    "        if symbol in '([{':\n",
    "            s.push(symbol)\n",
    "        else:\n",
    "            if s.isEmpty():\n",
    "                balanced=False\n",
    "            else:\n",
    "                top=s.pop()\n",
    "                if not match(top,symbol):\n",
    "                    balanced=False\n",
    "        index+=1\n",
    "    if balanced and s.isEmpty():\n",
    "        return True\n",
    "    else:\n",
    "        return False\n",
    "def match(open,close):\n",
    "    opens=\"([{\"\n",
    "    closer=\")]}\"\n",
    "    return opens.index(open)==closer.index(close)"
   ]
  },
  {
   "cell_type": "code",
   "execution_count": 20,
   "metadata": {},
   "outputs": [
    {
     "data": {
      "text/plain": [
       "False"
      ]
     },
     "execution_count": 20,
     "metadata": {},
     "output_type": "execute_result"
    }
   ],
   "source": [
    "b='{[(]}'\n",
    "parChecker(b)"
   ]
  },
  {
   "cell_type": "code",
   "execution_count": 37,
   "metadata": {},
   "outputs": [
    {
     "ename": "TypeError",
     "evalue": "object of type 'Stack' has no len()",
     "output_type": "error",
     "traceback": [
      "\u001b[1;31m---------------------------------------------------------------------------\u001b[0m",
      "\u001b[1;31mTypeError\u001b[0m                                 Traceback (most recent call last)",
      "\u001b[1;32m<ipython-input-37-80b644294f33>\u001b[0m in \u001b[0;36m<module>\u001b[1;34m\u001b[0m\n\u001b[0;32m     12\u001b[0m         \u001b[0mb\u001b[0m\u001b[1;33m=\u001b[0m\u001b[0mb\u001b[0m\u001b[1;33m+\u001b[0m\u001b[0ms\u001b[0m\u001b[1;33m.\u001b[0m\u001b[0mpop\u001b[0m\u001b[1;33m(\u001b[0m\u001b[1;33m)\u001b[0m\u001b[1;33m\u001b[0m\u001b[1;33m\u001b[0m\u001b[0m\n\u001b[0;32m     13\u001b[0m     \u001b[1;32mreturn\u001b[0m \u001b[0mb\u001b[0m\u001b[1;33m\u001b[0m\u001b[1;33m\u001b[0m\u001b[0m\n\u001b[1;32m---> 14\u001b[1;33m \u001b[0mdivideBy2\u001b[0m\u001b[1;33m(\u001b[0m\u001b[1;36m12\u001b[0m\u001b[1;33m)\u001b[0m\u001b[1;33m\u001b[0m\u001b[1;33m\u001b[0m\u001b[0m\n\u001b[0m",
      "\u001b[1;32m<ipython-input-37-80b644294f33>\u001b[0m in \u001b[0;36mdivideBy2\u001b[1;34m(decNumber)\u001b[0m\n\u001b[0;32m      9\u001b[0m     \u001b[0ms\u001b[0m\u001b[1;33m.\u001b[0m\u001b[0mpush\u001b[0m\u001b[1;33m(\u001b[0m\u001b[1;36m1\u001b[0m\u001b[1;33m)\u001b[0m\u001b[1;33m\u001b[0m\u001b[1;33m\u001b[0m\u001b[0m\n\u001b[0;32m     10\u001b[0m     \u001b[0mb\u001b[0m\u001b[1;33m=\u001b[0m\u001b[1;34m''\u001b[0m\u001b[1;33m\u001b[0m\u001b[1;33m\u001b[0m\u001b[0m\n\u001b[1;32m---> 11\u001b[1;33m     \u001b[1;32mfor\u001b[0m \u001b[0mi\u001b[0m \u001b[1;32min\u001b[0m \u001b[0mlen\u001b[0m\u001b[1;33m(\u001b[0m\u001b[0ms\u001b[0m\u001b[1;33m)\u001b[0m\u001b[1;33m:\u001b[0m\u001b[1;33m\u001b[0m\u001b[1;33m\u001b[0m\u001b[0m\n\u001b[0m\u001b[0;32m     12\u001b[0m         \u001b[0mb\u001b[0m\u001b[1;33m=\u001b[0m\u001b[0mb\u001b[0m\u001b[1;33m+\u001b[0m\u001b[0ms\u001b[0m\u001b[1;33m.\u001b[0m\u001b[0mpop\u001b[0m\u001b[1;33m(\u001b[0m\u001b[1;33m)\u001b[0m\u001b[1;33m\u001b[0m\u001b[1;33m\u001b[0m\u001b[0m\n\u001b[0;32m     13\u001b[0m     \u001b[1;32mreturn\u001b[0m \u001b[0mb\u001b[0m\u001b[1;33m\u001b[0m\u001b[1;33m\u001b[0m\u001b[0m\n",
      "\u001b[1;31mTypeError\u001b[0m: object of type 'Stack' has no len()"
     ]
    }
   ],
   "source": [
    "#将十进制数转换为二进制数字\n",
    "from pythonds.basic import Stack\n",
    "def divideBy2(decNumber):\n",
    "    s=Stack()\n",
    "    while decNumber//2!=0:\n",
    "        a=decNumber%2\n",
    "        s.push(a)\n",
    "        decNumber=decNumber//2\n",
    "    s.push(1)\n",
    "    b=''\n",
    "    for i in len(s):\n",
    "        b=b+s.pop()\n",
    "    return b\n",
    "divideBy2(12)"
   ]
  },
  {
   "cell_type": "code",
   "execution_count": 1,
   "metadata": {},
   "outputs": [
    {
     "data": {
      "text/plain": [
       "'1'"
      ]
     },
     "execution_count": 1,
     "metadata": {},
     "output_type": "execute_result"
    }
   ],
   "source": [
    "from pythonds.basic import Stack\n",
    "def divideBy2(decNumber):\n",
    "    s=Stack()\n",
    "    while decNumber//2!=0:\n",
    "        a=decNumber%2\n",
    "        s.push(a)\n",
    "        decNumber=decNumber//2\n",
    "    s.push(1)\n",
    "    b=''\n",
    "    if not s.isEmpty(): #不应该用if而是用while\n",
    "        b=b+str(s.pop())\n",
    "    return b\n",
    "divideBy2(11)"
   ]
  },
  {
   "cell_type": "code",
   "execution_count": 46,
   "metadata": {},
   "outputs": [
    {
     "data": {
      "text/plain": [
       "'1011'"
      ]
     },
     "execution_count": 46,
     "metadata": {},
     "output_type": "execute_result"
    }
   ],
   "source": [
    "from pythonds.basic import Stack\n",
    "def divideBy2(decNumber):\n",
    "    s=Stack()\n",
    "    while decNumber//2!=0: #显然这个条件不具有通用性，只适合二进制\n",
    "        a=decNumber%2\n",
    "        s.push(a)\n",
    "        decNumber=decNumber//2\n",
    "    s.push(1)\n",
    "    b=''\n",
    "    while not s.isEmpty(): #不应该用if而是用while\n",
    "        b=b+str(s.pop())\n",
    "    return b\n",
    "divideBy2(11)"
   ]
  },
  {
   "cell_type": "code",
   "execution_count": 66,
   "metadata": {},
   "outputs": [
    {
     "data": {
      "text/plain": [
       "'810'"
      ]
     },
     "execution_count": 66,
     "metadata": {},
     "output_type": "execute_result"
    }
   ],
   "source": [
    "#将十进制数改成任意进制数\n",
    "from pythonds.basic import Stack\n",
    "def divideBy(decNumber,dec):\n",
    "    s=Stack()\n",
    "    while decNumber>0:\n",
    "        a=decNumber%dec\n",
    "        s.push(a)\n",
    "        decNumber=decNumber//dec\n",
    "    b=''\n",
    "    while not s.isEmpty(): #不应该用if而是用while\n",
    "        b=b+str(s.pop())\n",
    "    return b\n",
    "divideBy(138,16)"
   ]
  },
  {
   "cell_type": "code",
   "execution_count": 65,
   "metadata": {},
   "outputs": [
    {
     "data": {
      "text/plain": [
       "'112'"
      ]
     },
     "execution_count": 65,
     "metadata": {},
     "output_type": "execute_result"
    }
   ],
   "source": [
    "from pythonds.basic import Stack\n",
    "def divideBy(decNumber,dec):\n",
    "    s=Stack()\n",
    "    while decNumber//dec!=0: \n",
    "        a=decNumber%dec\n",
    "        s.push(a)\n",
    "        decNumber=decNumber//dec\n",
    "    s.push(1)\n",
    "    b=''\n",
    "    while not s.isEmpty(): #不应该用if而是用while\n",
    "        b=b+str(s.pop())\n",
    "    return b\n",
    "divideBy(138,8)"
   ]
  },
  {
   "cell_type": "code",
   "execution_count": 62,
   "metadata": {},
   "outputs": [
    {
     "data": {
      "text/plain": [
       "'8A'"
      ]
     },
     "execution_count": 62,
     "metadata": {},
     "output_type": "execute_result"
    }
   ],
   "source": [
    "#将十进制数改成任意进制数\n",
    "from pythonds.basic import Stack\n",
    "def divideBy(decNumber,dec):\n",
    "    digits='0123456789ABCDEF'\n",
    "    s=Stack()\n",
    "    while decNumber>0:\n",
    "        a=decNumber%dec\n",
    "        s.push(a)\n",
    "        decNumber=decNumber//dec\n",
    "    b=''\n",
    "    while not s.isEmpty(): #不应该用if而是用while\n",
    "        b=b+digits[s.pop()]\n",
    "    return b\n",
    "divideBy(138,16)"
   ]
  },
  {
   "cell_type": "code",
   "execution_count": 38,
   "metadata": {},
   "outputs": [],
   "source": [
    "#从中序表达式到后序表达式的转换\n",
    "from pythonds.basic import Stack\n",
    "import string\n",
    "def infixToPostfix(infixexpr):\n",
    "    prec={}\n",
    "    prec['*']=3\n",
    "    prec['/']=3\n",
    "    prec['+']=2\n",
    "    prec['-']=2\n",
    "    prec['(']=1\n",
    "    \n",
    "    opStack=Stack()\n",
    "    postfixList=[]\n",
    "    try:\n",
    "        tokenList=infixexpr.split() #要求字符串每个字符都必须以空格隔开\n",
    "        for token in tokenList:\n",
    "            if token in string.ascii_uppercase: #string.ascii_uppercase包含所有大写字母，这个判断也就是如果token是大写字母\n",
    "                postfixList.append(token)\n",
    "            elif token=='(':\n",
    "                opStack.push(token)\n",
    "            elif token==')':\n",
    "                topToken=opStack.pop()\n",
    "                while topToken!='(':\n",
    "                    postfixList.append(topToken)\n",
    "                    topToken=opStack.pop()\n",
    "            else:\n",
    "                while (not opStack.isEmpty()) and (prec[opStack.peek()]>=prec[token]):\n",
    "                    postfixList.append(opStack.pop())\n",
    "                opStack.push(token)\n",
    "        while not opStack.isEmpty():\n",
    "            postfixList.append(opStack.pop())\n",
    "        return ' '.join(postfixList)\n",
    "    except:\n",
    "        return '表达式不符合要求'"
   ]
  },
  {
   "cell_type": "code",
   "execution_count": 29,
   "metadata": {},
   "outputs": [
    {
     "data": {
      "text/plain": [
       "'A B + C D + *'"
      ]
     },
     "execution_count": 29,
     "metadata": {},
     "output_type": "execute_result"
    }
   ],
   "source": [
    "infixToPostfix('( A + B ) * ( C + D ) ')"
   ]
  },
  {
   "cell_type": "code",
   "execution_count": 39,
   "metadata": {},
   "outputs": [
    {
     "data": {
      "text/plain": [
       "'A B C * + D -'"
      ]
     },
     "execution_count": 39,
     "metadata": {},
     "output_type": "execute_result"
    }
   ],
   "source": [
    "infixToPostfix('A + B * C - D')"
   ]
  },
  {
   "cell_type": "code",
   "execution_count": 42,
   "metadata": {},
   "outputs": [],
   "source": [
    "from pythonds.basic import Stack\n",
    "import string\n",
    "def infixToPostfix1(infixexpr):\n",
    "    prec={}\n",
    "    prec['*']=3\n",
    "    prec['/']=3\n",
    "    prec['+']=2\n",
    "    prec['-']=2\n",
    "    prec['(']=1\n",
    "    \n",
    "    opStack=Stack()\n",
    "    postfixList=[]\n",
    "    try:\n",
    "        tokenList=infixexpr.split() #要求字符串每个字符都必须以空格隔开\n",
    "        for token in tokenList:\n",
    "            if token.isnumeric(): #.isnumeric判断token是不是数字\n",
    "                postfixList.append(token)\n",
    "            elif token=='(':\n",
    "                opStack.push(token)\n",
    "            elif token==')':\n",
    "                topToken=opStack.pop()\n",
    "                while topToken!='(':\n",
    "                    postfixList.append(topToken)\n",
    "                    topToken=opStack.pop()\n",
    "            else:\n",
    "                while (not opStack.isEmpty()) and (prec[opStack.peek()]>=prec[token]):\n",
    "                    postfixList.append(opStack.pop())\n",
    "                opStack.push(token)\n",
    "        while not opStack.isEmpty():\n",
    "            postfixList.append(opStack.pop())\n",
    "        return ' '.join(postfixList)\n",
    "    except:\n",
    "        return '表达式不符合要求'"
   ]
  },
  {
   "cell_type": "code",
   "execution_count": 43,
   "metadata": {},
   "outputs": [
    {
     "data": {
      "text/plain": [
       "'1 2 3 * +'"
      ]
     },
     "execution_count": 43,
     "metadata": {},
     "output_type": "execute_result"
    }
   ],
   "source": [
    "infixToPostfix1('1 + 2 * 3')"
   ]
  },
  {
   "cell_type": "code",
   "execution_count": 21,
   "metadata": {},
   "outputs": [],
   "source": [
    "#练习：结合从中序到后序的转换算法以及计算后序表达式的算法，直接实现的中序计算。\n",
    "from pythonds.basic import Stack\n",
    "def jisuan(zhongxu):\n",
    "    prec={}\n",
    "    prec['*']=3\n",
    "    prec['/']=3\n",
    "    prec['+']=2\n",
    "    prec['-']=2\n",
    "    prec['(']=1\n",
    "    \n",
    "    opStack=Stack()\n",
    "    operandStack=Stack()\n",
    "    tokenList=zhongxu.split()\n",
    "    for token in tokenList:\n",
    "        if token.isnumeric():\n",
    "#         if token in '0123456789':\n",
    "            operandStack.push(int(token))\n",
    "        elif token=='(':\n",
    "            opStack.push(token)\n",
    "        elif token==')':\n",
    "            topToken=opStack.pop()\n",
    "            while topToken!='(':\n",
    "                operand2=operandStack.pop()\n",
    "                operand1=operandStack.pop()\n",
    "#                 result=doMath(token,operand1,operand2)#遇到括号就报错原因是这一行误将topToken写成token了\n",
    "                result=doMath(topToken,operand1,operand2)\n",
    "                operandStack.push(result)\n",
    "                topToken=opStack.pop()\n",
    "        else:\n",
    "            while (not opStack.isEmpty()) and (prec[opStack.peek()]>=prec[token]):\n",
    "                operand2=operandStack.pop()\n",
    "                operand1=operandStack.pop()\n",
    "                result=doMath(opStack.pop(),operand1,operand2)\n",
    "                operandStack.push(result)\n",
    "            opStack.push(token)\n",
    "            \n",
    "    while not opStack.isEmpty():\n",
    "        operand2=operandStack.pop()\n",
    "        operand1=operandStack.pop()\n",
    "        result=doMath(opStack.pop(),operand1,operand2)\n",
    "        operandStack.push(result)\n",
    "    return operandStack.pop()\n",
    "def doMath(op,op1,op2):\n",
    "    if op=='*':\n",
    "        return op1*op2\n",
    "    elif op=='/':\n",
    "        return op1/op2\n",
    "    elif op=='+':\n",
    "        return op1+op2\n",
    "    else:\n",
    "        return op1-op2    "
   ]
  },
  {
   "cell_type": "code",
   "execution_count": 22,
   "metadata": {},
   "outputs": [
    {
     "data": {
      "text/plain": [
       "69.0"
      ]
     },
     "execution_count": 22,
     "metadata": {},
     "output_type": "execute_result"
    }
   ],
   "source": [
    "jisuan('( 21 + 1 )  * 3 + 4 - 2 / 2')"
   ]
  },
  {
   "cell_type": "code",
   "execution_count": 34,
   "metadata": {},
   "outputs": [],
   "source": [
    "from pythonds.basic import Stack\n",
    "def jisuan1(zhongxu):\n",
    "    prec={}\n",
    "    prec['*']=3\n",
    "    prec['/']=3\n",
    "    prec['+']=2\n",
    "    prec['-']=2\n",
    "    prec['(']=1\n",
    "    global opStack\n",
    "    opStack=Stack()\n",
    "#     global opStack\n",
    "    global operandStack\n",
    "    operandStack=Stack()\n",
    "#     global operandStack\n",
    "    tokenList=zhongxu.split()\n",
    "    for token in tokenList:\n",
    "        if token in '0123456789':\n",
    "            operandStack.push(int(token))\n",
    "        elif token=='(':\n",
    "            opStack.push(token)\n",
    "        elif token==')':\n",
    "#             topToken=opStack.pop()\n",
    "            while topToken!='(':\n",
    "#                 operand2=operandStack.pop()\n",
    "#                 operand1=operandStack.pop()\n",
    "#                 result=doMath(token,operand1,operand2)\n",
    "#                 operandStack.push(result)\n",
    "                chongfu()\n",
    "                topToken=opStack.pop()\n",
    "        else:\n",
    "            while (not opStack.isEmpty()) and (prec[opStack.peek()]>=prec[token]):\n",
    "#                 operand2=operandStack.pop()\n",
    "#                 operand1=operandStack.pop()\n",
    "#                 result=doMath(opStack.pop(),operand1,operand2)\n",
    "#                 operandStack.push(result)\n",
    "                chongfu()\n",
    "            opStack.push(token)\n",
    "            \n",
    "    while not opStack.isEmpty():\n",
    "        chongfu()\n",
    "#         operand2=operandStack.pop()\n",
    "#         operand1=operandStack.pop()\n",
    "#         result=doMath(opStack.pop(),operand1,operand2)\n",
    "#         operandStack.push(result)\n",
    "    return operandStack.pop()\n",
    "def doMath(op,op1,op2):\n",
    "    if op=='*':\n",
    "        return op1*op2\n",
    "    elif op=='/':\n",
    "        return op1/op2\n",
    "    elif op=='+':\n",
    "        return op1+op2\n",
    "    else:\n",
    "        return op1-op2 \n",
    "def chongfu():\n",
    "    operand2=operandStack.pop()\n",
    "    operand1=operandStack.pop()\n",
    "    result=doMath(opStack.pop(),operand1,operand2)\n",
    "    operandStack.push(result)"
   ]
  },
  {
   "cell_type": "code",
   "execution_count": 40,
   "metadata": {},
   "outputs": [
    {
     "ename": "UnboundLocalError",
     "evalue": "local variable 'topToken' referenced before assignment",
     "output_type": "error",
     "traceback": [
      "\u001b[1;31m---------------------------------------------------------------------------\u001b[0m",
      "\u001b[1;31mUnboundLocalError\u001b[0m                         Traceback (most recent call last)",
      "\u001b[1;32m<ipython-input-40-2b869a25a352>\u001b[0m in \u001b[0;36m<module>\u001b[1;34m\u001b[0m\n\u001b[1;32m----> 1\u001b[1;33m \u001b[0mjisuan\u001b[0m\u001b[1;33m(\u001b[0m\u001b[1;34m'( 1 + 2 * 3 - 1 ) / 2'\u001b[0m\u001b[1;33m)\u001b[0m\u001b[1;33m\u001b[0m\u001b[1;33m\u001b[0m\u001b[0m\n\u001b[0m",
      "\u001b[1;32m<ipython-input-33-b39c13c8e5c9>\u001b[0m in \u001b[0;36mjisuan\u001b[1;34m(zhongxu)\u001b[0m\n\u001b[0;32m     21\u001b[0m         \u001b[1;32melif\u001b[0m \u001b[0mtoken\u001b[0m\u001b[1;33m==\u001b[0m\u001b[1;34m')'\u001b[0m\u001b[1;33m:\u001b[0m\u001b[1;33m\u001b[0m\u001b[1;33m\u001b[0m\u001b[0m\n\u001b[0;32m     22\u001b[0m \u001b[1;31m#             topToken=opStack.pop()\u001b[0m\u001b[1;33m\u001b[0m\u001b[1;33m\u001b[0m\u001b[1;33m\u001b[0m\u001b[0m\n\u001b[1;32m---> 23\u001b[1;33m             \u001b[1;32mwhile\u001b[0m \u001b[0mtopToken\u001b[0m\u001b[1;33m!=\u001b[0m\u001b[1;34m'('\u001b[0m\u001b[1;33m:\u001b[0m\u001b[1;33m\u001b[0m\u001b[1;33m\u001b[0m\u001b[0m\n\u001b[0m\u001b[0;32m     24\u001b[0m \u001b[1;31m#                 operand2=operandStack.pop()\u001b[0m\u001b[1;33m\u001b[0m\u001b[1;33m\u001b[0m\u001b[1;33m\u001b[0m\u001b[0m\n\u001b[0;32m     25\u001b[0m \u001b[1;31m#                 operand1=operandStack.pop()\u001b[0m\u001b[1;33m\u001b[0m\u001b[1;33m\u001b[0m\u001b[1;33m\u001b[0m\u001b[0m\n",
      "\u001b[1;31mUnboundLocalError\u001b[0m: local variable 'topToken' referenced before assignment"
     ]
    }
   ],
   "source": [
    "jisuan('( 1 + 2 * 3 - 1 ) / 2')"
   ]
  },
  {
   "cell_type": "code",
   "execution_count": 19,
   "metadata": {},
   "outputs": [],
   "source": [
    "#计算后序表达式，缺少对参数的判断\n",
    "from pythonds.basic import Stack\n",
    "def postfixEval(postfixExpr):\n",
    "    operandStack=Stack()\n",
    "    try:\n",
    "        tokenList=postfixExpr.split()\n",
    "        for token in tokenList:\n",
    "            if token.isnumeric():\n",
    "#             if token in '0123456789':\n",
    "                operandStack.push(int(token))\n",
    "            else:\n",
    "                operand2=operandStack.pop()\n",
    "                operand1=operandStack.pop()\n",
    "                result=doMath(token,operand1,operand2)\n",
    "                operandStack.push(result)\n",
    "        return operandStack.pop()\n",
    "    except:\n",
    "        return '参数不符合要求'\n",
    "def doMath(op,op1,op2):\n",
    "    if op=='*':\n",
    "        return op1*op2\n",
    "    elif op=='/':\n",
    "        return op1/op2\n",
    "    elif op=='+':\n",
    "        return op1+op2\n",
    "    else:\n",
    "        return op1-op2"
   ]
  },
  {
   "cell_type": "code",
   "execution_count": 44,
   "metadata": {},
   "outputs": [
    {
     "data": {
      "text/plain": [
       "'参数不符合要求'"
      ]
     },
     "execution_count": 44,
     "metadata": {},
     "output_type": "execute_result"
    }
   ],
   "source": [
    "postfixEval('21.2 2 + 3 *')"
   ]
  },
  {
   "cell_type": "code",
   "execution_count": 1,
   "metadata": {},
   "outputs": [],
   "source": [
    "#用列表实现队列\n",
    "class Queue:\n",
    "    def __init__(self):\n",
    "        self.items=[]\n",
    "    def isEmpty(self):\n",
    "        return self.items==[]\n",
    "    def enqueue(self,item):\n",
    "        self.items.insert(0,item)\n",
    "    def dequeue(self):\n",
    "        return self.items.pop()\n",
    "    def size(self):\n",
    "        return len(self.items)"
   ]
  },
  {
   "cell_type": "code",
   "execution_count": 2,
   "metadata": {},
   "outputs": [
    {
     "data": {
      "text/plain": [
       "True"
      ]
     },
     "execution_count": 2,
     "metadata": {},
     "output_type": "execute_result"
    }
   ],
   "source": [
    "q=Queue()\n",
    "q.isEmpty()"
   ]
  },
  {
   "cell_type": "code",
   "execution_count": 3,
   "metadata": {},
   "outputs": [
    {
     "data": {
      "text/plain": [
       "True"
      ]
     },
     "execution_count": 3,
     "metadata": {},
     "output_type": "execute_result"
    }
   ],
   "source": [
    "q.enqueue('dog')\n",
    "q.enqueue(4)\n",
    "q=Queue()\n",
    "q.isEmpty()"
   ]
  },
  {
   "cell_type": "code",
   "execution_count": 4,
   "metadata": {},
   "outputs": [
    {
     "data": {
      "text/plain": [
       "3"
      ]
     },
     "execution_count": 4,
     "metadata": {},
     "output_type": "execute_result"
    }
   ],
   "source": [
    "q.enqueue('dog')\n",
    "q.enqueue(4)\n",
    "q.enqueue(True)\n",
    "q.size()"
   ]
  },
  {
   "cell_type": "code",
   "execution_count": 5,
   "metadata": {},
   "outputs": [
    {
     "data": {
      "text/plain": [
       "False"
      ]
     },
     "execution_count": 5,
     "metadata": {},
     "output_type": "execute_result"
    }
   ],
   "source": [
    "q.isEmpty()"
   ]
  },
  {
   "cell_type": "code",
   "execution_count": 6,
   "metadata": {},
   "outputs": [
    {
     "data": {
      "text/plain": [
       "'dog'"
      ]
     },
     "execution_count": 6,
     "metadata": {},
     "output_type": "execute_result"
    }
   ],
   "source": [
    "q.enqueue(8.4)\n",
    "q.dequeue()"
   ]
  },
  {
   "cell_type": "code",
   "execution_count": 7,
   "metadata": {},
   "outputs": [
    {
     "data": {
      "text/plain": [
       "4"
      ]
     },
     "execution_count": 7,
     "metadata": {},
     "output_type": "execute_result"
    }
   ],
   "source": [
    "q.dequeue()"
   ]
  },
  {
   "cell_type": "code",
   "execution_count": 8,
   "metadata": {},
   "outputs": [
    {
     "data": {
      "text/plain": [
       "2"
      ]
     },
     "execution_count": 8,
     "metadata": {},
     "output_type": "execute_result"
    }
   ],
   "source": [
    "q.size()"
   ]
  },
  {
   "cell_type": "code",
   "execution_count": 9,
   "metadata": {},
   "outputs": [],
   "source": [
    "#模拟：传土豆\n",
    "from pythonds.basic import Queue\n",
    "def hotPotato(namelist,num):\n",
    "    simqueue=Queue()\n",
    "    for name in namelist:\n",
    "        simqueue.enqueue(name)\n",
    "    while simqueue.size()>1:\n",
    "        for i in range(num):\n",
    "            simqueue.enqueue(simqueue.dequeue())\n",
    "        simqueue.dequeue()\n",
    "    return simqueue.dequeue()"
   ]
  },
  {
   "cell_type": "code",
   "execution_count": 12,
   "metadata": {},
   "outputs": [
    {
     "data": {
      "text/plain": [
       "'Jane'"
      ]
     },
     "execution_count": 12,
     "metadata": {},
     "output_type": "execute_result"
    }
   ],
   "source": [
    "hotPotato(['Bill','David','Susan','Jane','Kent','Brad'],5)"
   ]
  },
  {
   "cell_type": "code",
   "execution_count": 4,
   "metadata": {},
   "outputs": [],
   "source": [
    "#模拟：打印任务\n",
    "class Printer:\n",
    "    def __init__(self,ppm):\n",
    "        self.pagerate=ppm\n",
    "        self.currentTask=None\n",
    "        self.timeRemaining=0\n",
    "    def tick(self):\n",
    "        if self.currentTask!=None:\n",
    "            self.timeRemaining=self.timeRemaining-1\n",
    "            if self.timeRemaining<=0:\n",
    "                self.currentTask=None\n",
    "    def busy(self):\n",
    "        if self.currentTask!=None:\n",
    "            return True\n",
    "        else:\n",
    "            return False\n",
    "    def startNext(self,newtask):\n",
    "        self.currentTask=newtask\n",
    "        self.timeRemaining=newtask.getPages()*60/self.pagerate"
   ]
  },
  {
   "cell_type": "code",
   "execution_count": 5,
   "metadata": {},
   "outputs": [],
   "source": [
    "import random\n",
    "class Task:\n",
    "    def __init__(self,time):\n",
    "        self.timestamp=time\n",
    "        self.pages=random.randrange(1,21)\n",
    "        \n",
    "    def getStamp(self):\n",
    "        return self.timestamp\n",
    "    def getPages(self):\n",
    "        return self.pages\n",
    "    def waitTime(self,currenttime):\n",
    "        return currenttime - self.timestamp\n",
    "\n",
    "from pythonds.basic import Queue\n",
    "# import random\n",
    "def newPrintTask():\n",
    "    num=random.randrange(1,181)\n",
    "    if num==180:\n",
    "        return True\n",
    "    else:\n",
    "        return False\n",
    "def simulation(numSeconds,pagesPerMinute):\n",
    "    labprinter=Printer(pagesPerMinute)\n",
    "    printQueue=Queue()\n",
    "    waitingtimes=[]\n",
    "    \n",
    "    for currentSecond in range(numSeconds):\n",
    "        if newPrintTask():\n",
    "            task=Task(currentSecond)\n",
    "            printQueue.enqueue(task)\n",
    "#             print(task.timestamp)\n",
    "        if (not labprinter.busy()) and (not printQueue.isEmpty()):\n",
    "            nexttask=printQueue.dequeue()\n",
    "#             print(nexttask.waitTime(currentSecond))\n",
    "            waitingtimes.append(nexttask.waitTime(currentSecond))\n",
    "#             print(waitingtimes)\n",
    "            labprinter.startNext(nexttask)\n",
    "        labprinter.tick()\n",
    "    averageWait=sum(waitingtimes)/len(waitingtimes)\n",
    "    print('Average wait %6.2f secs %3d tasks remaining.'%(averageWait,printQueue.size()))\n",
    "\n"
   ]
  },
  {
   "cell_type": "code",
   "execution_count": 6,
   "metadata": {},
   "outputs": [
    {
     "name": "stdout",
     "output_type": "stream",
     "text": [
      "Average wait 246.81 secs   4 tasks remaining.\n",
      "Average wait 450.86 secs   5 tasks remaining.\n",
      "Average wait  80.85 secs   0 tasks remaining.\n",
      "Average wait  29.07 secs   0 tasks remaining.\n",
      "Average wait  47.59 secs   2 tasks remaining.\n",
      "Average wait 247.89 secs   0 tasks remaining.\n",
      "Average wait 161.30 secs   1 tasks remaining.\n",
      "Average wait 126.28 secs   0 tasks remaining.\n",
      "Average wait 207.05 secs   0 tasks remaining.\n",
      "Average wait 132.59 secs   1 tasks remaining.\n"
     ]
    }
   ],
   "source": [
    "for i in range(10):\n",
    "    simulation(3600,5)"
   ]
  },
  {
   "cell_type": "code",
   "execution_count": 1,
   "metadata": {},
   "outputs": [],
   "source": [
    "#双端队列\n",
    "class Deque:\n",
    "    def __init__(self):\n",
    "        self.items=[]\n",
    "    def isEmpty(self):\n",
    "        return self.items==[]\n",
    "    def addFront(self,item):\n",
    "        self.items.append(item)\n",
    "    def addRear(self,item):\n",
    "        self.items.insert(0,item)\n",
    "    def removeFront(self):\n",
    "        return self.items.pop()\n",
    "    def removeRear(self):\n",
    "        return self.items.pop(0)\n",
    "    def size(self):\n",
    "        return len(self.items)"
   ]
  },
  {
   "cell_type": "code",
   "execution_count": 2,
   "metadata": {},
   "outputs": [
    {
     "data": {
      "text/plain": [
       "True"
      ]
     },
     "execution_count": 2,
     "metadata": {},
     "output_type": "execute_result"
    }
   ],
   "source": [
    "d=Deque()\n",
    "d.isEmpty()"
   ]
  },
  {
   "cell_type": "code",
   "execution_count": 3,
   "metadata": {},
   "outputs": [
    {
     "data": {
      "text/plain": [
       "4"
      ]
     },
     "execution_count": 3,
     "metadata": {},
     "output_type": "execute_result"
    }
   ],
   "source": [
    "d.addRear(4)\n",
    "d.addRear('dog')\n",
    "d.addFront('cat')\n",
    "d.addFront(True)\n",
    "d.size()"
   ]
  },
  {
   "cell_type": "code",
   "execution_count": 4,
   "metadata": {},
   "outputs": [
    {
     "data": {
      "text/plain": [
       "False"
      ]
     },
     "execution_count": 4,
     "metadata": {},
     "output_type": "execute_result"
    }
   ],
   "source": [
    "d.isEmpty()"
   ]
  },
  {
   "cell_type": "code",
   "execution_count": 5,
   "metadata": {},
   "outputs": [
    {
     "data": {
      "text/plain": [
       "8.4"
      ]
     },
     "execution_count": 5,
     "metadata": {},
     "output_type": "execute_result"
    }
   ],
   "source": [
    "d.addRear(8.4)\n",
    "d.removeRear()"
   ]
  },
  {
   "cell_type": "code",
   "execution_count": 6,
   "metadata": {},
   "outputs": [
    {
     "data": {
      "text/plain": [
       "True"
      ]
     },
     "execution_count": 6,
     "metadata": {},
     "output_type": "execute_result"
    }
   ],
   "source": [
    "d.removeFront()"
   ]
  },
  {
   "cell_type": "code",
   "execution_count": 7,
   "metadata": {},
   "outputs": [],
   "source": [
    "#回文检测器\n",
    "from pythonds.basic import Deque\n",
    "def palchecker(aString):\n",
    "    chardeque=Deque()\n",
    "    \n",
    "    for ch in aString:\n",
    "        chardeque.addRear(ch)\n",
    "    stillEqual=True\n",
    "    while chardeque.size()>1 and stillEqual:\n",
    "        first=chardeque.removeFront()\n",
    "        last=chardeque.removeRear()\n",
    "        if first!=last:\n",
    "            stillEqual=False\n",
    "    return stillEqual"
   ]
  },
  {
   "cell_type": "code",
   "execution_count": 8,
   "metadata": {},
   "outputs": [
    {
     "data": {
      "text/plain": [
       "False"
      ]
     },
     "execution_count": 8,
     "metadata": {},
     "output_type": "execute_result"
    }
   ],
   "source": [
    "palchecker('hello')"
   ]
  },
  {
   "cell_type": "code",
   "execution_count": 9,
   "metadata": {},
   "outputs": [
    {
     "data": {
      "text/plain": [
       "True"
      ]
     },
     "execution_count": 9,
     "metadata": {},
     "output_type": "execute_result"
    }
   ],
   "source": [
    "palchecker('helleh')"
   ]
  },
  {
   "cell_type": "code",
   "execution_count": 1,
   "metadata": {},
   "outputs": [],
   "source": [
    "#列表\n",
    "#无序列表抽象数据类型\n",
    "#链表：节点\n",
    "class Node:\n",
    "    def __init__(self,initdata):\n",
    "        self.data=initdata\n",
    "        self.next=None\n",
    "    def getData(self):\n",
    "        return self.data\n",
    "    def getNext(self):\n",
    "        return self.next\n",
    "    def setData(self,newdata):\n",
    "        self.data=newdata\n",
    "    def setNext(self,newnext):\n",
    "        self.next=newnext\n",
    "class UnorderedList:\n",
    "    def __init__(self):\n",
    "        self.head=None\n",
    "    def isEmpty(self):\n",
    "        return self.head==None\n",
    "    def add(self,item):\n",
    "        temp=Node(item)\n",
    "        temp.setNext(self.head)\n",
    "        self.head=temp\n",
    "    def length(self):\n",
    "        current=self.head\n",
    "        count=0\n",
    "        while current!=None:\n",
    "            count=count+1\n",
    "            current=current.getNext()\n",
    "        return count\n",
    "    def search(self,item):\n",
    "        current=self.head\n",
    "        found=False\n",
    "        while current!=None and not found:\n",
    "            if current.getData()==item:\n",
    "                found=True\n",
    "            else:\n",
    "                current=current.getNext()\n",
    "        return found\n",
    "    def remove(self,item):\n",
    "        current=self.head\n",
    "        previous=None\n",
    "        found=False\n",
    "        while not found:\n",
    "            if current.getData()==item:\n",
    "                found=True\n",
    "            else:\n",
    "                previous=current\n",
    "                current=current.getNext()\n",
    "        if previous==None:\n",
    "            self.head=current.getNext()\n",
    "        else:\n",
    "            previous.setNext(current.getNext())\n",
    "    def append(self,item): #append添加元素到链表尾部\n",
    "        current=self.head\n",
    "        previous=None\n",
    "        temp=Node(item)\n",
    "        while current!=None:\n",
    "            previous=current\n",
    "            current=current.getNext()\n",
    "            \n",
    "        if previous==None:\n",
    "            temp.setNext(self.head)\n",
    "            self.head=temp\n",
    "        else:\n",
    "            previous.setNext(temp)\n",
    "    def index(self,item):\n",
    "        current=self.head\n",
    "        count=0\n",
    "        while current.getData()!=item:\n",
    "            current=current.getNext()\n",
    "            count=count+1\n",
    "            \n",
    "        return count\n",
    "    def insert(self,pos,item):\n",
    "        current=self.head\n",
    "        previous=None\n",
    "        temp=Node(item)\n",
    "        count=0\n",
    "        while count!=pos:\n",
    "            previous=current\n",
    "            current=current.getNext()\n",
    "            count=count+1\n",
    "        if pos==0:\n",
    "            temp.setNext(self.head)\n",
    "            self.head=temp\n",
    "        if pos>0:\n",
    "            previous.setNext(temp)\n",
    "            temp.setNext(current)\n",
    "    def pop(self):\n",
    "        current=self.head\n",
    "        previous1=None\n",
    "        previous2=None #由于要删除最后一个元素，需要当current==None时，倒数第二个指向current，删除倒数第一个\n",
    "        while current!=None:\n",
    "            previous2=previous1\n",
    "            previous1=current\n",
    "            current=current.getNext()\n",
    "        if previous2==None:\n",
    "            self.head=current\n",
    "            return previous1.getData()\n",
    "        else:\n",
    "            previous2.setNext(current)\n",
    "            return previous1.getData()\n",
    "    def pop(self,pos):\n",
    "        current=self.head\n",
    "        previous1=None\n",
    "#         previous2=None\n",
    "        count=0\n",
    "        while count!=pos:\n",
    "#             previous2=previous1\n",
    "            previous1=current\n",
    "            current=current.getNext()\n",
    "            count=count+1\n",
    "        if pos==0:\n",
    "#             self.head=None\n",
    "#             self.head.setNext(current)\n",
    "            self.head=current.getNext()\n",
    "#             return previous1.getData()\n",
    "            return current.getData()\n",
    "        else:\n",
    "#             current.getdata()\n",
    "            previous1.setNext(current.getNext())\n",
    "            return current.getData()"
   ]
  },
  {
   "cell_type": "code",
   "execution_count": 2,
   "metadata": {},
   "outputs": [
    {
     "name": "stdout",
     "output_type": "stream",
     "text": [
      "<__main__.UnorderedList object at 0x000001F99C4A1988>\n"
     ]
    }
   ],
   "source": [
    "mylist=UnorderedList()\n",
    "mylist.add(31)\n",
    "mylist.add(77)\n",
    "mylist.add(17)\n",
    "print(mylist)"
   ]
  },
  {
   "cell_type": "code",
   "execution_count": 4,
   "metadata": {},
   "outputs": [
    {
     "data": {
      "text/plain": [
       "77"
      ]
     },
     "execution_count": 4,
     "metadata": {},
     "output_type": "execute_result"
    }
   ],
   "source": [
    "mylist.pop(1)"
   ]
  },
  {
   "cell_type": "code",
   "execution_count": 3,
   "metadata": {},
   "outputs": [
    {
     "data": {
      "text/plain": [
       "True"
      ]
     },
     "execution_count": 3,
     "metadata": {},
     "output_type": "execute_result"
    }
   ],
   "source": [
    "mylist.search(17)"
   ]
  },
  {
   "cell_type": "code",
   "execution_count": 5,
   "metadata": {},
   "outputs": [
    {
     "data": {
      "text/plain": [
       "2"
      ]
     },
     "execution_count": 5,
     "metadata": {},
     "output_type": "execute_result"
    }
   ],
   "source": [
    "mylist.length()"
   ]
  },
  {
   "cell_type": "code",
   "execution_count": 6,
   "metadata": {},
   "outputs": [],
   "source": [
    "mylist.append(13)"
   ]
  },
  {
   "cell_type": "code",
   "execution_count": 7,
   "metadata": {},
   "outputs": [
    {
     "data": {
      "text/plain": [
       "3"
      ]
     },
     "execution_count": 7,
     "metadata": {},
     "output_type": "execute_result"
    }
   ],
   "source": [
    "mylist.length()"
   ]
  },
  {
   "cell_type": "code",
   "execution_count": 8,
   "metadata": {},
   "outputs": [
    {
     "data": {
      "text/plain": [
       "2"
      ]
     },
     "execution_count": 8,
     "metadata": {},
     "output_type": "execute_result"
    }
   ],
   "source": [
    "mylist.index(13)"
   ]
  },
  {
   "cell_type": "code",
   "execution_count": 9,
   "metadata": {},
   "outputs": [],
   "source": [
    "mylist.insert(0,12)"
   ]
  },
  {
   "cell_type": "code",
   "execution_count": 10,
   "metadata": {},
   "outputs": [
    {
     "data": {
      "text/plain": [
       "0"
      ]
     },
     "execution_count": 10,
     "metadata": {},
     "output_type": "execute_result"
    }
   ],
   "source": [
    "mylist.index(12)"
   ]
  },
  {
   "cell_type": "code",
   "execution_count": 11,
   "metadata": {},
   "outputs": [
    {
     "data": {
      "text/plain": [
       "3"
      ]
     },
     "execution_count": 11,
     "metadata": {},
     "output_type": "execute_result"
    }
   ],
   "source": [
    "mylist.index(13)"
   ]
  },
  {
   "cell_type": "code",
   "execution_count": 12,
   "metadata": {},
   "outputs": [
    {
     "data": {
      "text/plain": [
       "13"
      ]
     },
     "execution_count": 12,
     "metadata": {},
     "output_type": "execute_result"
    }
   ],
   "source": [
    "mylist.pop(3)"
   ]
  },
  {
   "cell_type": "code",
   "execution_count": 11,
   "metadata": {},
   "outputs": [],
   "source": [
    "mylist.insert(4,20)"
   ]
  },
  {
   "cell_type": "code",
   "execution_count": 12,
   "metadata": {},
   "outputs": [
    {
     "data": {
      "text/plain": [
       "4"
      ]
     },
     "execution_count": 12,
     "metadata": {},
     "output_type": "execute_result"
    }
   ],
   "source": [
    "mylist.index(20)"
   ]
  },
  {
   "cell_type": "code",
   "execution_count": 13,
   "metadata": {},
   "outputs": [
    {
     "data": {
      "text/plain": [
       "5"
      ]
     },
     "execution_count": 13,
     "metadata": {},
     "output_type": "execute_result"
    }
   ],
   "source": [
    "mylist.index(13)"
   ]
  },
  {
   "cell_type": "code",
   "execution_count": 18,
   "metadata": {},
   "outputs": [
    {
     "ename": "AttributeError",
     "evalue": "'NoneType' object has no attribute 'getNext'",
     "output_type": "error",
     "traceback": [
      "\u001b[1;31m---------------------------------------------------------------------------\u001b[0m",
      "\u001b[1;31mAttributeError\u001b[0m                            Traceback (most recent call last)",
      "\u001b[1;32m<ipython-input-18-c7e3cf6bb44f>\u001b[0m in \u001b[0;36m<module>\u001b[1;34m\u001b[0m\n\u001b[1;32m----> 1\u001b[1;33m \u001b[0mmylist\u001b[0m\u001b[1;33m.\u001b[0m\u001b[0mpop\u001b[0m\u001b[1;33m(\u001b[0m\u001b[1;36m13\u001b[0m\u001b[1;33m)\u001b[0m\u001b[1;33m\u001b[0m\u001b[1;33m\u001b[0m\u001b[0m\n\u001b[0m",
      "\u001b[1;32m<ipython-input-1-26c99bfff9c1>\u001b[0m in \u001b[0;36mpop\u001b[1;34m(self, pos)\u001b[0m\n\u001b[0;32m    111\u001b[0m \u001b[1;31m#             previous2=previous1\u001b[0m\u001b[1;33m\u001b[0m\u001b[1;33m\u001b[0m\u001b[1;33m\u001b[0m\u001b[0m\n\u001b[0;32m    112\u001b[0m             \u001b[0mprevious1\u001b[0m\u001b[1;33m=\u001b[0m\u001b[0mcurrent\u001b[0m\u001b[1;33m\u001b[0m\u001b[1;33m\u001b[0m\u001b[0m\n\u001b[1;32m--> 113\u001b[1;33m             \u001b[0mcurrent\u001b[0m\u001b[1;33m=\u001b[0m\u001b[0mcurrent\u001b[0m\u001b[1;33m.\u001b[0m\u001b[0mgetNext\u001b[0m\u001b[1;33m(\u001b[0m\u001b[1;33m)\u001b[0m\u001b[1;33m\u001b[0m\u001b[1;33m\u001b[0m\u001b[0m\n\u001b[0m\u001b[0;32m    114\u001b[0m             \u001b[0mcount\u001b[0m\u001b[1;33m+=\u001b[0m\u001b[1;36m1\u001b[0m\u001b[1;33m\u001b[0m\u001b[1;33m\u001b[0m\u001b[0m\n\u001b[0;32m    115\u001b[0m         \u001b[1;32mif\u001b[0m \u001b[0mpos\u001b[0m\u001b[1;33m==\u001b[0m\u001b[1;36m0\u001b[0m\u001b[1;33m:\u001b[0m\u001b[1;33m\u001b[0m\u001b[1;33m\u001b[0m\u001b[0m\n",
      "\u001b[1;31mAttributeError\u001b[0m: 'NoneType' object has no attribute 'getNext'"
     ]
    }
   ],
   "source": [
    "mylist.pop()"
   ]
  },
  {
   "cell_type": "code",
   "execution_count": 14,
   "metadata": {},
   "outputs": [
    {
     "data": {
      "text/plain": [
       "12"
      ]
     },
     "execution_count": 14,
     "metadata": {},
     "output_type": "execute_result"
    }
   ],
   "source": [
    "mylist.pop(0)"
   ]
  },
  {
   "cell_type": "code",
   "execution_count": 19,
   "metadata": {},
   "outputs": [
    {
     "data": {
      "text/plain": [
       "4"
      ]
     },
     "execution_count": 19,
     "metadata": {},
     "output_type": "execute_result"
    }
   ],
   "source": [
    "mylist.index(13)"
   ]
  },
  {
   "cell_type": "code",
   "execution_count": 20,
   "metadata": {},
   "outputs": [
    {
     "ename": "AttributeError",
     "evalue": "'Node' object has no attribute 'getdata'",
     "output_type": "error",
     "traceback": [
      "\u001b[1;31m---------------------------------------------------------------------------\u001b[0m",
      "\u001b[1;31mAttributeError\u001b[0m                            Traceback (most recent call last)",
      "\u001b[1;32m<ipython-input-20-e058e5ffb9af>\u001b[0m in \u001b[0;36m<module>\u001b[1;34m\u001b[0m\n\u001b[1;32m----> 1\u001b[1;33m \u001b[0mmylist\u001b[0m\u001b[1;33m.\u001b[0m\u001b[0mpop\u001b[0m\u001b[1;33m(\u001b[0m\u001b[1;36m4\u001b[0m\u001b[1;33m)\u001b[0m\u001b[1;33m\u001b[0m\u001b[1;33m\u001b[0m\u001b[0m\n\u001b[0m",
      "\u001b[1;32m<ipython-input-1-26c99bfff9c1>\u001b[0m in \u001b[0;36mpop\u001b[1;34m(self, pos)\u001b[0m\n\u001b[0;32m    121\u001b[0m         \u001b[1;32melse\u001b[0m\u001b[1;33m:\u001b[0m\u001b[1;33m\u001b[0m\u001b[1;33m\u001b[0m\u001b[0m\n\u001b[0;32m    122\u001b[0m             \u001b[0mprevious1\u001b[0m\u001b[1;33m.\u001b[0m\u001b[0msetNext\u001b[0m\u001b[1;33m(\u001b[0m\u001b[0mcurrent\u001b[0m\u001b[1;33m.\u001b[0m\u001b[0mgetNext\u001b[0m\u001b[1;33m(\u001b[0m\u001b[1;33m)\u001b[0m\u001b[1;33m)\u001b[0m\u001b[1;33m\u001b[0m\u001b[1;33m\u001b[0m\u001b[0m\n\u001b[1;32m--> 123\u001b[1;33m             \u001b[1;32mreturn\u001b[0m \u001b[0mcurrent\u001b[0m\u001b[1;33m.\u001b[0m\u001b[0mgetdata\u001b[0m\u001b[1;33m(\u001b[0m\u001b[1;33m)\u001b[0m\u001b[1;33m\u001b[0m\u001b[1;33m\u001b[0m\u001b[0m\n\u001b[0m",
      "\u001b[1;31mAttributeError\u001b[0m: 'Node' object has no attribute 'getdata'"
     ]
    }
   ],
   "source": [
    "mylist.pop(4)"
   ]
  },
  {
   "cell_type": "code",
   "execution_count": 21,
   "metadata": {},
   "outputs": [
    {
     "data": {
      "text/plain": [
       "17"
      ]
     },
     "execution_count": 21,
     "metadata": {},
     "output_type": "execute_result"
    }
   ],
   "source": [
    "mylist.pop(0)"
   ]
  },
  {
   "cell_type": "code",
   "execution_count": 22,
   "metadata": {},
   "outputs": [
    {
     "data": {
      "text/plain": [
       "77"
      ]
     },
     "execution_count": 22,
     "metadata": {},
     "output_type": "execute_result"
    }
   ],
   "source": [
    "mylist.pop(0)"
   ]
  },
  {
   "cell_type": "code",
   "execution_count": 23,
   "metadata": {},
   "outputs": [
    {
     "ename": "AttributeError",
     "evalue": "'Node' object has no attribute 'getdata'",
     "output_type": "error",
     "traceback": [
      "\u001b[1;31m---------------------------------------------------------------------------\u001b[0m",
      "\u001b[1;31mAttributeError\u001b[0m                            Traceback (most recent call last)",
      "\u001b[1;32m<ipython-input-23-ec820acc2465>\u001b[0m in \u001b[0;36m<module>\u001b[1;34m\u001b[0m\n\u001b[1;32m----> 1\u001b[1;33m \u001b[0mmylist\u001b[0m\u001b[1;33m.\u001b[0m\u001b[0mpop\u001b[0m\u001b[1;33m(\u001b[0m\u001b[1;36m1\u001b[0m\u001b[1;33m)\u001b[0m\u001b[1;33m\u001b[0m\u001b[1;33m\u001b[0m\u001b[0m\n\u001b[0m",
      "\u001b[1;32m<ipython-input-1-26c99bfff9c1>\u001b[0m in \u001b[0;36mpop\u001b[1;34m(self, pos)\u001b[0m\n\u001b[0;32m    121\u001b[0m         \u001b[1;32melse\u001b[0m\u001b[1;33m:\u001b[0m\u001b[1;33m\u001b[0m\u001b[1;33m\u001b[0m\u001b[0m\n\u001b[0;32m    122\u001b[0m             \u001b[0mprevious1\u001b[0m\u001b[1;33m.\u001b[0m\u001b[0msetNext\u001b[0m\u001b[1;33m(\u001b[0m\u001b[0mcurrent\u001b[0m\u001b[1;33m.\u001b[0m\u001b[0mgetNext\u001b[0m\u001b[1;33m(\u001b[0m\u001b[1;33m)\u001b[0m\u001b[1;33m)\u001b[0m\u001b[1;33m\u001b[0m\u001b[1;33m\u001b[0m\u001b[0m\n\u001b[1;32m--> 123\u001b[1;33m             \u001b[1;32mreturn\u001b[0m \u001b[0mcurrent\u001b[0m\u001b[1;33m.\u001b[0m\u001b[0mgetdata\u001b[0m\u001b[1;33m(\u001b[0m\u001b[1;33m)\u001b[0m\u001b[1;33m\u001b[0m\u001b[1;33m\u001b[0m\u001b[0m\n\u001b[0m",
      "\u001b[1;31mAttributeError\u001b[0m: 'Node' object has no attribute 'getdata'"
     ]
    }
   ],
   "source": [
    "mylist.pop(1)"
   ]
  },
  {
   "cell_type": "code",
   "execution_count": 22,
   "metadata": {},
   "outputs": [],
   "source": [
    "mylist.insert(1,2)"
   ]
  },
  {
   "cell_type": "code",
   "execution_count": 1,
   "metadata": {},
   "outputs": [],
   "source": [
    "#实现有序列表\n",
    "class OrderList:\n",
    "    def __init__(self):\n",
    "        self.head=None\n",
    "    def search(self,item):\n",
    "        found=False\n",
    "        stop=False\n",
    "        while current!=None and not found and not stop:\n",
    "            if current.getData()==item:\n",
    "                found=True\n",
    "            else:\n",
    "                if current.getData()>item:\n",
    "                    stop=True\n",
    "                else:\n",
    "                    current=current.getNext()\n",
    "        return found\n",
    "    def add(self,item):\n",
    "        current=self.head\n",
    "        previous=None\n",
    "        stop=False\n",
    "        while current!=None and not stop:\n",
    "            if current.getData()>item:\n",
    "                stop=True\n",
    "            else:\n",
    "                previous=current\n",
    "                current=current.getNext()\n",
    "        temp=Node(item)\n",
    "        if previous==None:\n",
    "            temp.setNext(self.head)\n",
    "            self.head=temp\n",
    "        else:\n",
    "            temp.setNext(current)\n",
    "            previous.setNext(temp)"
   ]
  },
  {
   "cell_type": "code",
   "execution_count": 2,
   "metadata": {},
   "outputs": [],
   "source": [
    "#练习：使用列表实现队列抽象数据类型，将列表的后端作为队列的尾部\n",
    "class Deque:\n",
    "    def __init__(self):\n",
    "        self.items=[]\n",
    "    def isEmpty(self):\n",
    "        return self.items==[]\n",
    "    def enqueue(self,item):\n",
    "        self.items.append(item)\n",
    "    def dequeue(self,item):\n",
    "        self.items.pop(0)\n",
    "    def size(self):\n",
    "        return len(self.items)\n",
    "    "
   ]
  },
  {
   "cell_type": "code",
   "execution_count": 3,
   "metadata": {},
   "outputs": [],
   "source": [
    "#实现一个队列，使其添加操作和移除操作的平均时间复杂度为O(1)。这意味着在大多数\n",
    "#情况下，两个操作的时间复杂度都是O(1)，仅在一种特殊情况下，移除操作为O(n)\n"
   ]
  },
  {
   "cell_type": "code",
   "execution_count": 7,
   "metadata": {},
   "outputs": [
    {
     "name": "stdout",
     "output_type": "stream",
     "text": [
      "平均等待  73.00 secs 139 任务还在等待中\n",
      "平均等待  76.00 secs  91 任务还在等待中\n",
      "平均等待  79.00 secs 103 任务还在等待中\n",
      "平均等待  80.00 secs 144 任务还在等待中\n",
      "平均等待  77.00 secs 119 任务还在等待中\n",
      "平均等待  77.00 secs 143 任务还在等待中\n",
      "平均等待  86.00 secs 114 任务还在等待中\n",
      "平均等待  85.00 secs 121 任务还在等待中\n",
      "平均等待  81.00 secs 114 任务还在等待中\n",
      "平均等待  70.00 secs 139 任务还在等待中\n"
     ]
    }
   ],
   "source": [
    "#超市待结算问题\n",
    "import random\n",
    "from pythonds.basic import Queue  \n",
    "def new_task():\n",
    "    num=random.randrange(1,19)\n",
    "    if num==18:\n",
    "        return True\n",
    "    else:\n",
    "        return False\n",
    "\n",
    "class CheckStand:\n",
    "    def __init__(self,cpm):\n",
    "        self.cpm=cpm\n",
    "        self.currentTask=None\n",
    "        self.timeRemaining=0\n",
    "    def busy(self):\n",
    "        if self.currentTask!=None:\n",
    "            return True\n",
    "        else:\n",
    "            return False\n",
    "    def tick(self):\n",
    "        if self.currentTask!=None:\n",
    "            self.timeRemaining=self.timeRemaining-1\n",
    "            if self.timeRemaining<=0:\n",
    "#                 self.currentTask==None #问题所在，用了两个等号，该用一个的\n",
    "                self.currentTask=None\n",
    "    def startNext(self,newtask):\n",
    "        self.currentTask=newtask\n",
    "        self.timeRemaining=newtask.getChecks()*60/self.cpm #忘记使用getChecks了\n",
    "        \n",
    "\n",
    "class Task:\n",
    "    def __init__(self,time):\n",
    "        self.timestamp=time\n",
    "        self.checks=random.randrange(1,31)\n",
    "    def getStamp(self):\n",
    "        return self.timestamp\n",
    "    def getChecks(self):\n",
    "        return self.checks\n",
    "    def waitTime(self,currenttime):\n",
    "        return currenttime-self.timestamp\n",
    "\n",
    "#主程序\n",
    "def check_simulation(numSeconds,checksPerMinute):\n",
    "    checkstander=CheckStand(checksPerMinute)\n",
    "    checkqueue=Queue()\n",
    "    waitingtimes=[]\n",
    "    \n",
    "    for currentSecond in range(numSeconds):\n",
    "        if new_task():\n",
    "            task=Task(currentSecond)\n",
    "#             print(task.getStamp())\n",
    "            checkqueue.enqueue(task)\n",
    "        if (not checkstander.busy()) and (not checkqueue.isEmpty()):\n",
    "#             print('开始执行新任务')\n",
    "            nexttask=checkqueue.dequeue()\n",
    "            waitingtimes.append(nexttask.waitTime(currentSecond))\n",
    "            checkstander.startNext(nexttask)\n",
    "        checkstander.tick()\n",
    "#     averageWait=sum(waitingtimes)/len(waitingtimes)\n",
    "    averageWait=len(waitingtimes)\n",
    "    print('平均等待 %6.2f secs %3d 任务还在等待中'%(averageWait,checkqueue.size()))\n",
    "for i in range(10):\n",
    "    check_simulation(3600,20)"
   ]
  },
  {
   "cell_type": "code",
   "execution_count": null,
   "metadata": {},
   "outputs": [],
   "source": []
  }
 ],
 "metadata": {
  "kernelspec": {
   "display_name": "Python 3",
   "language": "python",
   "name": "python3"
  },
  "language_info": {
   "codemirror_mode": {
    "name": "ipython",
    "version": 3
   },
   "file_extension": ".py",
   "mimetype": "text/x-python",
   "name": "python",
   "nbconvert_exporter": "python",
   "pygments_lexer": "ipython3",
   "version": "3.7.6"
  }
 },
 "nbformat": 4,
 "nbformat_minor": 2
}
