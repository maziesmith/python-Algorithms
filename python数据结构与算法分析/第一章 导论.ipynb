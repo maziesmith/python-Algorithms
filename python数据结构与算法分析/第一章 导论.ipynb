{
 "cells": [
  {
   "cell_type": "markdown",
   "metadata": {},
   "source": [
    "python基础查漏补缺"
   ]
  },
  {
   "cell_type": "code",
   "execution_count": 2,
   "metadata": {},
   "outputs": [
    {
     "data": {
      "text/plain": [
       "'DAVID'"
      ]
     },
     "execution_count": 2,
     "metadata": {},
     "output_type": "execute_result"
    }
   ],
   "source": [
    "#字符串\n",
    "myname='David'\n",
    "myname.upper()"
   ]
  },
  {
   "cell_type": "code",
   "execution_count": 3,
   "metadata": {},
   "outputs": [
    {
     "data": {
      "text/plain": [
       "'  David   '"
      ]
     },
     "execution_count": 3,
     "metadata": {},
     "output_type": "execute_result"
    }
   ],
   "source": [
    "myname.center(10) #返回一个字符串，元字符串居中，使用空格填充新字符串，使其长度为10（传入参数）"
   ]
  },
  {
   "cell_type": "code",
   "execution_count": 4,
   "metadata": {},
   "outputs": [
    {
     "data": {
      "text/plain": [
       "2"
      ]
     },
     "execution_count": 4,
     "metadata": {},
     "output_type": "execute_result"
    }
   ],
   "source": [
    "myname.find('v')"
   ]
  },
  {
   "cell_type": "code",
   "execution_count": 6,
   "metadata": {},
   "outputs": [
    {
     "data": {
      "text/plain": [
       "1"
      ]
     },
     "execution_count": 6,
     "metadata": {},
     "output_type": "execute_result"
    }
   ],
   "source": [
    "myname.count('D')"
   ]
  },
  {
   "cell_type": "code",
   "execution_count": 9,
   "metadata": {},
   "outputs": [
    {
     "data": {
      "text/plain": [
       "'David     '"
      ]
     },
     "execution_count": 9,
     "metadata": {},
     "output_type": "execute_result"
    }
   ],
   "source": [
    "myname.ljust(10) #返回一个字符串，将原字符串靠左放置并填充空格至长度10"
   ]
  },
  {
   "cell_type": "code",
   "execution_count": 10,
   "metadata": {},
   "outputs": [
    {
     "data": {
      "text/plain": [
       "'               David'"
      ]
     },
     "execution_count": 10,
     "metadata": {},
     "output_type": "execute_result"
    }
   ],
   "source": [
    "myname.rjust(20)#返回一个字符串，将原字符串靠又放置并填充空格至长度20"
   ]
  },
  {
   "cell_type": "code",
   "execution_count": 11,
   "metadata": {},
   "outputs": [
    {
     "data": {
      "text/plain": [
       "['Da', 'id']"
      ]
     },
     "execution_count": 11,
     "metadata": {},
     "output_type": "execute_result"
    }
   ],
   "source": [
    "myname.split('v')"
   ]
  },
  {
   "cell_type": "code",
   "execution_count": 12,
   "metadata": {},
   "outputs": [
    {
     "name": "stdout",
     "output_type": "stream",
     "text": [
      "hello world\n"
     ]
    }
   ],
   "source": [
    "#格式化字符串\n",
    "#print函数默认以单个空格作为分隔符，设置sep可修改分隔符\n",
    "print('hello','world')"
   ]
  },
  {
   "cell_type": "code",
   "execution_count": 13,
   "metadata": {},
   "outputs": [
    {
     "name": "stdout",
     "output_type": "stream",
     "text": [
      "hello***world\n"
     ]
    }
   ],
   "source": [
    "print('hello','world',sep='***')"
   ]
  },
  {
   "cell_type": "code",
   "execution_count": 14,
   "metadata": {},
   "outputs": [
    {
     "name": "stdout",
     "output_type": "stream",
     "text": [
      "The banana costs 24 cents\n"
     ]
    }
   ],
   "source": [
    "price=24\n",
    "item='banana'\n",
    "print('The %s costs %d cents'%(item,price))"
   ]
  },
  {
   "cell_type": "code",
   "execution_count": 17,
   "metadata": {},
   "outputs": [
    {
     "name": "stdout",
     "output_type": "stream",
     "text": [
      "The     banana costs 24.00 cents\n"
     ]
    }
   ],
   "source": [
    "print('The %+10s costs %5.2f cents'%(item,price)) #%+10s:将值放在10个字符宽的区域中；%5.2f：将值放在5个字符宽区域中并保留1位小数"
   ]
  },
  {
   "cell_type": "code",
   "execution_count": 1,
   "metadata": {},
   "outputs": [
    {
     "name": "stdout",
     "output_type": "stream",
     "text": [
      "The banana costs    24.0 cents\n"
     ]
    }
   ],
   "source": [
    "itemdict={'item':'banana','cost':24}\n",
    "print('The %(item)s costs %(cost)7.1f cents'%itemdict) #%(item)s从字典中获取item键对应的值"
   ]
  },
  {
   "cell_type": "code",
   "execution_count": 3,
   "metadata": {},
   "outputs": [
    {
     "data": {
      "text/plain": [
       "[1, 4, 9, 16, 25, 36, 49, 64, 81]"
      ]
     },
     "execution_count": 3,
     "metadata": {},
     "output_type": "execute_result"
    }
   ],
   "source": [
    "#列表创建：列表解析式\n",
    "sqlist=[x*x for x in range(1,10)]\n",
    "sqlist"
   ]
  },
  {
   "cell_type": "code",
   "execution_count": 12,
   "metadata": {},
   "outputs": [
    {
     "data": {
      "text/plain": [
       "3"
      ]
     },
     "execution_count": 12,
     "metadata": {},
     "output_type": "execute_result"
    }
   ],
   "source": [
    "#最大公约数\n",
    "def gcd(m,n):\n",
    "    while m%n!=0:\n",
    "        oldm=m\n",
    "        oldn=n\n",
    "        \n",
    "        m=oldn\n",
    "        n=oldm%oldn\n",
    "    return n\n",
    "gcd(3,9)"
   ]
  },
  {
   "cell_type": "code",
   "execution_count": 24,
   "metadata": {},
   "outputs": [
    {
     "name": "stdout",
     "output_type": "stream",
     "text": [
      "1\n"
     ]
    }
   ],
   "source": [
    "def gcd(a,b):\n",
    "    if b==0:\n",
    "        return a\n",
    "    elif a%b==0:\n",
    "        print(b)\n",
    "    else:\n",
    "        gcd(b,a%b)\n",
    "gcd(3,5)"
   ]
  },
  {
   "cell_type": "code",
   "execution_count": 28,
   "metadata": {},
   "outputs": [
    {
     "data": {
      "text/plain": [
       "10"
      ]
     },
     "execution_count": 28,
     "metadata": {},
     "output_type": "execute_result"
    }
   ],
   "source": [
    "def gcd1(a,b):\n",
    "    if b==0:\n",
    "        return a\n",
    "    elif a%b!=0:\n",
    "        gcd(b,a%b)\n",
    "    return b\n",
    "gcd(10,0)"
   ]
  },
  {
   "cell_type": "code",
   "execution_count": 1,
   "metadata": {},
   "outputs": [],
   "source": [
    "#继承：模拟数字电路\n",
    "class LogicGate:\n",
    "    def __init__(self,n):\n",
    "        self.label=n\n",
    "        self.output=None\n",
    "    def getLabel(self):\n",
    "        return self.label\n",
    "    def getOutput(self):\n",
    "        self.output=self.performGateLogic()\n",
    "        return self.output\n",
    "\n",
    "class BinaryGate(LogicGate):\n",
    "    def __init__(self,n):\n",
    "        super().__init__(n)\n",
    "        \n",
    "        self.pinA=None\n",
    "        self.pinB=None\n",
    "        \n",
    "    def getPinA(self):\n",
    "        if self.pinA==None:\n",
    "            return int(input('Enter Pin A input for gate'+self.getLabel()+'-->'))\n",
    "        else:\n",
    "            return self.pinA.getFrom().getOutput()\n",
    "    def getPinB(self):\n",
    "        if self.pinB==None:\n",
    "            return int(input('Enter Pin B input for gate'+self.getLabel()+'-->'))\n",
    "        else:\n",
    "            return self.pinB.getFrom().getOutput()\n",
    "\n",
    "class UnaryGate(LogicGate):\n",
    "    def __init__(self,n):\n",
    "        super().__init__(n)\n",
    "        self.pin=None\n",
    "    def getPin(self):\n",
    "        return int(input('Enter Pin input for gate'+self.getLabel()+'-->'))\n",
    "    \n",
    "class AndGate(BinaryGate):\n",
    "    def __init__(self,n):\n",
    "        super().__init__(n)\n",
    "    def performGateLogic(self):\n",
    "        a=self.getPinA()\n",
    "        b=self.getPinB()\n",
    "        if a==1 and b==1:\n",
    "            return 1\n",
    "        else:\n",
    "            return 0\n",
    "class OrGate(BinaryGate):\n",
    "    def __init__(self,n):\n",
    "        super().__init__(n)\n",
    "    def performGateLogic(self):\n",
    "        a=self.getPinA()\n",
    "        b=self.getPinB()\n",
    "        if a==0 and b==0:\n",
    "            return 0\n",
    "        else:\n",
    "            return 1\n",
    "class NotGate(UnaryGate):\n",
    "    def __init__(self,n):\n",
    "        super().__init__(n)\n",
    "    def performGateLogic(self):\n",
    "        a=self.getPin()\n",
    "        if a==1:\n",
    "            return 0\n",
    "        elif a==0:\n",
    "            return 1\n",
    "class Connector:\n",
    "    def __init__(self,fgate,tgate):\n",
    "        self.fromgate=fgate\n",
    "        self.togate=tgate\n",
    "        tgate.setNextPin(self)\n",
    "        \n",
    "    def getFrom(self):\n",
    "        return self.fromgate\n",
    "    def getTo(self):\n",
    "        return self.togate\n",
    "    def setNextPin(self,source):\n",
    "        if self.pinA==None:\n",
    "            self.pinA=source\n",
    "        else:\n",
    "            if self.pinB==None:\n",
    "                self.pinB=source\n",
    "            else:\n",
    "                raise RuntimeError('Error:NO EMPTY PINS')"
   ]
  },
  {
   "cell_type": "code",
   "execution_count": 4,
   "metadata": {},
   "outputs": [
    {
     "name": "stdout",
     "output_type": "stream",
     "text": [
      "Enter Pin A input for gateG1-->1\n",
      "Enter Pin B input for gateG1-->1\n"
     ]
    },
    {
     "data": {
      "text/plain": [
       "1"
      ]
     },
     "execution_count": 4,
     "metadata": {},
     "output_type": "execute_result"
    }
   ],
   "source": [
    "g1=AndGate('G1')\n",
    "g1.getOutput()"
   ]
  },
  {
   "cell_type": "code",
   "execution_count": 5,
   "metadata": {},
   "outputs": [
    {
     "name": "stdout",
     "output_type": "stream",
     "text": [
      "Enter Pin A input for gateG2-->1\n",
      "Enter Pin B input for gateG2-->0\n"
     ]
    },
    {
     "data": {
      "text/plain": [
       "1"
      ]
     },
     "execution_count": 5,
     "metadata": {},
     "output_type": "execute_result"
    }
   ],
   "source": [
    "g2=OrGate('G2')\n",
    "g2.getOutput()"
   ]
  },
  {
   "cell_type": "code",
   "execution_count": 6,
   "metadata": {},
   "outputs": [
    {
     "name": "stdout",
     "output_type": "stream",
     "text": [
      "Enter Pin input for gateG3-->0\n"
     ]
    },
    {
     "data": {
      "text/plain": [
       "1"
      ]
     },
     "execution_count": 6,
     "metadata": {},
     "output_type": "execute_result"
    }
   ],
   "source": [
    "g3=NotGate('G3')\n",
    "g3.getOutput()"
   ]
  },
  {
   "cell_type": "code",
   "execution_count": 2,
   "metadata": {},
   "outputs": [],
   "source": [
    "#HAS-A关系\n",
    "#在设计类时，区分IS-A关系（需要继承）和HAS-A关系（不需要继承）非常重要\n",
    "\n",
    "                "
   ]
  },
  {
   "cell_type": "code",
   "execution_count": 2,
   "metadata": {},
   "outputs": [
    {
     "ename": "AttributeError",
     "evalue": "'OrGate' object has no attribute 'setNextPin'",
     "output_type": "error",
     "traceback": [
      "\u001b[1;31m---------------------------------------------------------------------------\u001b[0m",
      "\u001b[1;31mAttributeError\u001b[0m                            Traceback (most recent call last)",
      "\u001b[1;32m<ipython-input-2-542e7fc186c5>\u001b[0m in \u001b[0;36m<module>\u001b[1;34m\u001b[0m\n\u001b[0;32m      3\u001b[0m \u001b[0mg3\u001b[0m\u001b[1;33m=\u001b[0m\u001b[0mOrGate\u001b[0m\u001b[1;33m(\u001b[0m\u001b[1;34m'G3'\u001b[0m\u001b[1;33m)\u001b[0m\u001b[1;33m\u001b[0m\u001b[1;33m\u001b[0m\u001b[0m\n\u001b[0;32m      4\u001b[0m \u001b[0mg4\u001b[0m\u001b[1;33m=\u001b[0m\u001b[0mNotGate\u001b[0m\u001b[1;33m(\u001b[0m\u001b[1;34m'G4'\u001b[0m\u001b[1;33m)\u001b[0m\u001b[1;33m\u001b[0m\u001b[1;33m\u001b[0m\u001b[0m\n\u001b[1;32m----> 5\u001b[1;33m \u001b[0mc1\u001b[0m\u001b[1;33m=\u001b[0m\u001b[0mConnector\u001b[0m\u001b[1;33m(\u001b[0m\u001b[0mg1\u001b[0m\u001b[1;33m,\u001b[0m\u001b[0mg3\u001b[0m\u001b[1;33m)\u001b[0m\u001b[1;33m\u001b[0m\u001b[1;33m\u001b[0m\u001b[0m\n\u001b[0m\u001b[0;32m      6\u001b[0m \u001b[1;33m\u001b[0m\u001b[0m\n",
      "\u001b[1;32m<ipython-input-1-ffcb40186ada>\u001b[0m in \u001b[0;36m__init__\u001b[1;34m(self, fgate, tgate)\u001b[0m\n\u001b[0;32m     68\u001b[0m         \u001b[0mself\u001b[0m\u001b[1;33m.\u001b[0m\u001b[0mfromgate\u001b[0m\u001b[1;33m=\u001b[0m\u001b[0mfgate\u001b[0m\u001b[1;33m\u001b[0m\u001b[1;33m\u001b[0m\u001b[0m\n\u001b[0;32m     69\u001b[0m         \u001b[0mself\u001b[0m\u001b[1;33m.\u001b[0m\u001b[0mtogate\u001b[0m\u001b[1;33m=\u001b[0m\u001b[0mtgate\u001b[0m\u001b[1;33m\u001b[0m\u001b[1;33m\u001b[0m\u001b[0m\n\u001b[1;32m---> 70\u001b[1;33m         \u001b[0mtgate\u001b[0m\u001b[1;33m.\u001b[0m\u001b[0msetNextPin\u001b[0m\u001b[1;33m(\u001b[0m\u001b[0mself\u001b[0m\u001b[1;33m)\u001b[0m\u001b[1;33m\u001b[0m\u001b[1;33m\u001b[0m\u001b[0m\n\u001b[0m\u001b[0;32m     71\u001b[0m \u001b[1;33m\u001b[0m\u001b[0m\n\u001b[0;32m     72\u001b[0m     \u001b[1;32mdef\u001b[0m \u001b[0mgetFrom\u001b[0m\u001b[1;33m(\u001b[0m\u001b[0mself\u001b[0m\u001b[1;33m)\u001b[0m\u001b[1;33m:\u001b[0m\u001b[1;33m\u001b[0m\u001b[1;33m\u001b[0m\u001b[0m\n",
      "\u001b[1;31mAttributeError\u001b[0m: 'OrGate' object has no attribute 'setNextPin'"
     ]
    }
   ],
   "source": [
    "g1=AndGate('G1')\n",
    "g2=AndGate('G2')\n",
    "g3=OrGate('G3')\n",
    "g4=NotGate('G4')\n",
    "c1=Connector(g1,g3)\n",
    "\n"
   ]
  },
  {
   "cell_type": "code",
   "execution_count": 6,
   "metadata": {},
   "outputs": [
    {
     "data": {
      "text/plain": [
       "['__class__',\n",
       " '__delattr__',\n",
       " '__dict__',\n",
       " '__dir__',\n",
       " '__doc__',\n",
       " '__eq__',\n",
       " '__format__',\n",
       " '__ge__',\n",
       " '__getattribute__',\n",
       " '__gt__',\n",
       " '__hash__',\n",
       " '__init__',\n",
       " '__init_subclass__',\n",
       " '__le__',\n",
       " '__lt__',\n",
       " '__module__',\n",
       " '__ne__',\n",
       " '__new__',\n",
       " '__reduce__',\n",
       " '__reduce_ex__',\n",
       " '__repr__',\n",
       " '__setattr__',\n",
       " '__sizeof__',\n",
       " '__str__',\n",
       " '__subclasshook__',\n",
       " '__weakref__',\n",
       " 'getLabel',\n",
       " 'getOutput',\n",
       " 'getPinA',\n",
       " 'getPinB',\n",
       " 'performGateLogic']"
      ]
     },
     "execution_count": 6,
     "metadata": {},
     "output_type": "execute_result"
    }
   ],
   "source": [
    "dir(OrGate)"
   ]
  },
  {
   "cell_type": "code",
   "execution_count": 7,
   "metadata": {},
   "outputs": [
    {
     "data": {
      "text/plain": [
       "['__class__',\n",
       " '__delattr__',\n",
       " '__dict__',\n",
       " '__dir__',\n",
       " '__doc__',\n",
       " '__eq__',\n",
       " '__format__',\n",
       " '__ge__',\n",
       " '__getattribute__',\n",
       " '__gt__',\n",
       " '__hash__',\n",
       " '__init__',\n",
       " '__init_subclass__',\n",
       " '__le__',\n",
       " '__lt__',\n",
       " '__module__',\n",
       " '__ne__',\n",
       " '__new__',\n",
       " '__reduce__',\n",
       " '__reduce_ex__',\n",
       " '__repr__',\n",
       " '__setattr__',\n",
       " '__sizeof__',\n",
       " '__str__',\n",
       " '__subclasshook__',\n",
       " '__weakref__',\n",
       " 'getLabel',\n",
       " 'getOutput',\n",
       " 'getPinA',\n",
       " 'getPinB',\n",
       " 'performGateLogic']"
      ]
     },
     "execution_count": 7,
     "metadata": {},
     "output_type": "execute_result"
    }
   ],
   "source": [
    "dir(AndGate)"
   ]
  },
  {
   "cell_type": "code",
   "execution_count": 22,
   "metadata": {},
   "outputs": [
    {
     "name": "stdout",
     "output_type": "stream",
     "text": [
      "0 1\n",
      "1 2\n",
      "2 3\n",
      "3 4\n"
     ]
    }
   ],
   "source": [
    "a=[1,2,3,4]\n",
    "for i,j in enumerate(a):\n",
    "    print(i, j)\n"
   ]
  },
  {
   "cell_type": "code",
   "execution_count": null,
   "metadata": {},
   "outputs": [],
   "source": []
  }
 ],
 "metadata": {
  "kernelspec": {
   "display_name": "Python 3",
   "language": "python",
   "name": "python3"
  },
  "language_info": {
   "codemirror_mode": {
    "name": "ipython",
    "version": 3
   },
   "file_extension": ".py",
   "mimetype": "text/x-python",
   "name": "python",
   "nbconvert_exporter": "python",
   "pygments_lexer": "ipython3",
   "version": "3.7.6"
  }
 },
 "nbformat": 4,
 "nbformat_minor": 2
}
