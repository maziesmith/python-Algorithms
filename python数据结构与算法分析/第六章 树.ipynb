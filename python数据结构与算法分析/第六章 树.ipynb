{
 "cells": [
  {
   "cell_type": "code",
   "execution_count": 1,
   "metadata": {},
   "outputs": [],
   "source": [
    "#列表之列表：列表函数BinaryTree\n",
    "def BinaryTree(r):\n",
    "    return [r,[],[]]\n",
    "def insertLeft(root,newBranch):\n",
    "    t=root.pop(1)\n",
    "    if len(t)>1:\n",
    "        root.insert(1,[newBranch,t,[]])\n",
    "    else:\n",
    "        root.insert(1,[newBranch,[],[]])\n",
    "    return root\n",
    "def insertRight(root,newBranch):\n",
    "    t=root.pop(2)\n",
    "    if len(t)>1:\n",
    "        root.insert(2,[newBranch,[],t])\n",
    "    else:\n",
    "        root.insert(2,[newBranch,[],[]])\n",
    "    return root\n",
    "#树的访问函数\n",
    "def getRootVal(root):\n",
    "    return root[0]\n",
    "def setRootVal(root,newVal):\n",
    "    root[0]=newVal\n",
    "def getLeftChild(root):\n",
    "    return root[1]\n",
    "def getRightChild(root):\n",
    "    return root[2]"
   ]
  },
  {
   "cell_type": "code",
   "execution_count": 2,
   "metadata": {},
   "outputs": [
    {
     "data": {
      "text/plain": [
       "[3, [4, [], []], []]"
      ]
     },
     "execution_count": 2,
     "metadata": {},
     "output_type": "execute_result"
    }
   ],
   "source": [
    "r=BinaryTree(3)\n",
    "insertLeft(r,4)"
   ]
  },
  {
   "cell_type": "code",
   "execution_count": 3,
   "metadata": {},
   "outputs": [
    {
     "data": {
      "text/plain": [
       "[3, [5, [4, [], []], []], []]"
      ]
     },
     "execution_count": 3,
     "metadata": {},
     "output_type": "execute_result"
    }
   ],
   "source": [
    "insertLeft(r,5)"
   ]
  },
  {
   "cell_type": "code",
   "execution_count": 4,
   "metadata": {},
   "outputs": [
    {
     "data": {
      "text/plain": [
       "[3, [5, [4, [], []], []], [6, [], []]]"
      ]
     },
     "execution_count": 4,
     "metadata": {},
     "output_type": "execute_result"
    }
   ],
   "source": [
    "insertRight(r,6)"
   ]
  },
  {
   "cell_type": "code",
   "execution_count": 5,
   "metadata": {},
   "outputs": [
    {
     "data": {
      "text/plain": [
       "[3, [5, [4, [], []], []], [7, [], [6, [], []]]]"
      ]
     },
     "execution_count": 5,
     "metadata": {},
     "output_type": "execute_result"
    }
   ],
   "source": [
    "insertRight(r,7)"
   ]
  },
  {
   "cell_type": "code",
   "execution_count": 7,
   "metadata": {},
   "outputs": [
    {
     "data": {
      "text/plain": [
       "[5, [4, [], []], []]"
      ]
     },
     "execution_count": 7,
     "metadata": {},
     "output_type": "execute_result"
    }
   ],
   "source": [
    "l=getLeftChild(r)\n",
    "l"
   ]
  },
  {
   "cell_type": "code",
   "execution_count": 9,
   "metadata": {},
   "outputs": [
    {
     "data": {
      "text/plain": [
       "[3, [9, [4, [], []], []], [7, [], [6, [], []]]]"
      ]
     },
     "execution_count": 9,
     "metadata": {},
     "output_type": "execute_result"
    }
   ],
   "source": [
    "setRootVal(l,9)\n",
    "r"
   ]
  },
  {
   "cell_type": "code",
   "execution_count": 10,
   "metadata": {},
   "outputs": [
    {
     "data": {
      "text/plain": [
       "[9, [11, [4, [], []], []], []]"
      ]
     },
     "execution_count": 10,
     "metadata": {},
     "output_type": "execute_result"
    }
   ],
   "source": [
    "insertLeft(l,11)"
   ]
  },
  {
   "cell_type": "code",
   "execution_count": 11,
   "metadata": {},
   "outputs": [
    {
     "data": {
      "text/plain": [
       "[3, [9, [11, [4, [], []], []], []], [7, [], [6, [], []]]]"
      ]
     },
     "execution_count": 11,
     "metadata": {},
     "output_type": "execute_result"
    }
   ],
   "source": [
    "r"
   ]
  },
  {
   "cell_type": "code",
   "execution_count": 12,
   "metadata": {},
   "outputs": [
    {
     "data": {
      "text/plain": [
       "[6, [], []]"
      ]
     },
     "execution_count": 12,
     "metadata": {},
     "output_type": "execute_result"
    }
   ],
   "source": [
    "getRightChild(getRightChild(r))"
   ]
  },
  {
   "cell_type": "code",
   "execution_count": 1,
   "metadata": {},
   "outputs": [],
   "source": [
    "#节点与节点\n",
    "class BinaryTree:\n",
    "    def __init__(self,RootObj):\n",
    "        self.key=RootObj\n",
    "        self.leftChild=None\n",
    "        self.rightChild=None\n",
    "    def insertLeft(self,newNode):\n",
    "        if self.leftChild==None:\n",
    "            self.leftChild=BinaryTree(newNode)\n",
    "        else:\n",
    "            t=BinaryTree(newNode)\n",
    "            t.leftChild=self.leftChild\n",
    "            self.leftChild=t\n",
    "    def insertRight(self,newNode):\n",
    "        if self.rightChild==None:\n",
    "            self.rightChild=BinaryTree(newNode)\n",
    "        else:\n",
    "            t=BinaryTree(newNode)\n",
    "            t.right=self.rightChild\n",
    "            self.rightChild=t\n",
    "    def getRightChild(self):\n",
    "        return self.rightChild\n",
    "    def getLeftChild(self):\n",
    "        return self.leftChild\n",
    "    def setRootVal(self,obj):\n",
    "        self.key=obj\n",
    "    def getRootVal(self):\n",
    "        return self.key"
   ]
  },
  {
   "cell_type": "code",
   "execution_count": 2,
   "metadata": {},
   "outputs": [
    {
     "data": {
      "text/plain": [
       "'a'"
      ]
     },
     "execution_count": 2,
     "metadata": {},
     "output_type": "execute_result"
    }
   ],
   "source": [
    "r=BinaryTree('a')\n",
    "r.getRootVal()"
   ]
  },
  {
   "cell_type": "code",
   "execution_count": 3,
   "metadata": {},
   "outputs": [
    {
     "name": "stdout",
     "output_type": "stream",
     "text": [
      "None\n"
     ]
    }
   ],
   "source": [
    "print(r.getLeftChild())"
   ]
  },
  {
   "cell_type": "code",
   "execution_count": 4,
   "metadata": {},
   "outputs": [
    {
     "name": "stdout",
     "output_type": "stream",
     "text": [
      "<__main__.BinaryTree object at 0x00000195ECC23D68>\n",
      "b\n"
     ]
    }
   ],
   "source": [
    "r.insertLeft('b')\n",
    "print(r.getLeftChild())\n",
    "print(r.getLeftChild().getRootVal())"
   ]
  },
  {
   "cell_type": "code",
   "execution_count": 6,
   "metadata": {},
   "outputs": [
    {
     "name": "stdout",
     "output_type": "stream",
     "text": [
      "<__main__.BinaryTree object at 0x00000195ECC23DD8>\n",
      "c\n"
     ]
    }
   ],
   "source": [
    "r.insertRight('c')\n",
    "print(r.getRightChild())\n",
    "print(r.getRightChild().getRootVal())"
   ]
  },
  {
   "cell_type": "code",
   "execution_count": 15,
   "metadata": {},
   "outputs": [
    {
     "data": {
      "text/plain": [
       "'a'"
      ]
     },
     "execution_count": 15,
     "metadata": {},
     "output_type": "execute_result"
    }
   ],
   "source": [
    "from pythonds.trees import BinaryTree\n",
    "r=BinaryTree('a')\n",
    "r.getRootVal()"
   ]
  },
  {
   "cell_type": "code",
   "execution_count": 16,
   "metadata": {},
   "outputs": [
    {
     "name": "stdout",
     "output_type": "stream",
     "text": [
      "None\n"
     ]
    }
   ],
   "source": [
    "print(r.getLeftChild())"
   ]
  },
  {
   "cell_type": "code",
   "execution_count": 17,
   "metadata": {},
   "outputs": [
    {
     "name": "stdout",
     "output_type": "stream",
     "text": [
      "<pythonds.trees.binaryTree.BinaryTree object at 0x0000023843D98400>\n"
     ]
    }
   ],
   "source": [
    "r.insertLeft('b')\n",
    "print(r.getLeftChild())"
   ]
  },
  {
   "cell_type": "code",
   "execution_count": 18,
   "metadata": {},
   "outputs": [
    {
     "name": "stdout",
     "output_type": "stream",
     "text": [
      "b\n"
     ]
    }
   ],
   "source": [
    "print(r.getLeftChild().getRootVal())"
   ]
  },
  {
   "cell_type": "code",
   "execution_count": 19,
   "metadata": {},
   "outputs": [
    {
     "name": "stdout",
     "output_type": "stream",
     "text": [
      "<pythonds.trees.binaryTree.BinaryTree object at 0x0000023843DAD710>\n"
     ]
    }
   ],
   "source": [
    "r.insertRight('c')\n",
    "print(r.getRightChild())"
   ]
  },
  {
   "cell_type": "code",
   "execution_count": 20,
   "metadata": {},
   "outputs": [
    {
     "name": "stdout",
     "output_type": "stream",
     "text": [
      "c\n"
     ]
    }
   ],
   "source": [
    "print(r.getRightChild().getRootVal())"
   ]
  },
  {
   "cell_type": "code",
   "execution_count": 21,
   "metadata": {},
   "outputs": [
    {
     "name": "stdout",
     "output_type": "stream",
     "text": [
      "hello\n"
     ]
    }
   ],
   "source": [
    "r.getRightChild().setRootVal('hello')\n",
    "print(r.getRightChild().getRootVal())"
   ]
  },
  {
   "cell_type": "code",
   "execution_count": 3,
   "metadata": {},
   "outputs": [
    {
     "data": {
      "text/plain": [
       "<pythonds.trees.binaryTree.BinaryTree at 0x1da0aacceb8>"
      ]
     },
     "execution_count": 3,
     "metadata": {},
     "output_type": "execute_result"
    }
   ],
   "source": [
    "#二叉树的应用\n",
    "#解析树\n",
    "from pythonds.basic import Stack\n",
    "from pythonds.trees import BinaryTree\n",
    "\n",
    "def buildParseTree(fpexp):\n",
    "    fplist=fpexp.split()\n",
    "    pStack=Stack()\n",
    "    eTree=BinaryTree('')\n",
    "    pStack.push(eTree)\n",
    "    currentTree=eTree\n",
    "    for i in fplist:\n",
    "        if i=='(':\n",
    "            currentTree.insertLeft('')\n",
    "            pStack.push(currentTree)\n",
    "            currentTree=currentTree.getLeftChild()\n",
    "        elif i not in '+-*/)':\n",
    "            currentTree.setRootVal(eval(i))\n",
    "            parent=pStack.pop()\n",
    "            currentTree=parent\n",
    "        elif i in '+-*/':\n",
    "            currentTree.setRootVal(i)\n",
    "            currentTree.insertRight('')\n",
    "            pStack.push(currentTree)\n",
    "            currentTree=currentTree.getRightChild()\n",
    "        elif i==')':\n",
    "            currentTree=pStack.pop()\n",
    "        else:\n",
    "            raise ValueError('Unknown Operator:'+i)\n",
    "    return eTree\n",
    "buildParseTree('( 3 + ( 4 * 5 ) )')"
   ]
  },
  {
   "cell_type": "code",
   "execution_count": 2,
   "metadata": {},
   "outputs": [
    {
     "data": {
      "text/plain": [
       "<pythonds.trees.binaryTree.BinaryTree at 0x16fc97dacf8>"
      ]
     },
     "execution_count": 2,
     "metadata": {},
     "output_type": "execute_result"
    }
   ],
   "source": [
    "#练习：扩展buildParseTree方法，使其能处理字符键没有空格的数学表达式\n",
    "from pythonds.basic import Stack\n",
    "from pythonds.trees import BinaryTree\n",
    "\n",
    "def buildParseTree1(fpexp):\n",
    "    fplist=len(fpexp)\n",
    "    pStack=Stack()\n",
    "    eTree=BinaryTree('')\n",
    "    pStack.push(eTree)\n",
    "    currentTree=eTree\n",
    "    for i in range(fplist):#从直接遍历每个元素到遍历每个元素的下标\n",
    "        if fpexp[i]=='(':\n",
    "            currentTree.insertLeft('')\n",
    "            pStack.push(currentTree)\n",
    "            currentTree=currentTree.getLeftChild()\n",
    "        elif fpexp[i] not in '+-*/)':\n",
    "            currentTree.setRootVal(eval(fpexp[i]))\n",
    "            parent=pStack.pop()\n",
    "            currentTree=parent\n",
    "        elif fpexp[i] in '+-*/':\n",
    "            currentTree.setRootVal(fpexp[i])\n",
    "            currentTree.insertRight('')\n",
    "            pStack.push(currentTree)\n",
    "            currentTree=currentTree.getRightChild()\n",
    "        elif fpexp[i]==')':\n",
    "            currentTree=pStack.pop()\n",
    "        else:\n",
    "            raise ValueError('Unknown Operator:'+fpexp[i])\n",
    "    return eTree\n",
    "buildParseTree1('(3+(4*5))')  "
   ]
  },
  {
   "cell_type": "code",
   "execution_count": 4,
   "metadata": {},
   "outputs": [
    {
     "data": {
      "text/plain": [
       "<pythonds.trees.binaryTree.BinaryTree at 0x1da0aeb2780>"
      ]
     },
     "execution_count": 4,
     "metadata": {},
     "output_type": "execute_result"
    }
   ],
   "source": [
    "#计算二叉解析树的递归函数\n",
    "import operator\n",
    "def evaluate(parseTree):\n",
    "    opers={'+':operator.add,'-':operator.sub,'*':operator.mul,'/':operator.truediv}\n",
    "    leftC=parseTree.getLeftChild()\n",
    "    rightC=parseTree.getRightChild()\n",
    "    \n",
    "    if leftC and rightC:\n",
    "        fn=opers[parseTree.getRootVal()]\n",
    "        return fn(evaluate(leftC),evaluate(rightC))\n",
    "    else:\n",
    "        return parseTree.getRootVal()\n",
    "      "
   ]
  },
  {
   "cell_type": "code",
   "execution_count": 12,
   "metadata": {},
   "outputs": [
    {
     "data": {
      "text/plain": [
       "23"
      ]
     },
     "execution_count": 12,
     "metadata": {},
     "output_type": "execute_result"
    }
   ],
   "source": [
    "parseTree=buildParseTree('( 3 + ( 4 * 5 ) )')\n",
    "evaluate(parseTree)\n",
    "#问题：在上一个函数中currentTree未定义便引用\n",
    "#问题2，没有导入operator模块，getRootval，v没有大写"
   ]
  },
  {
   "cell_type": "code",
   "execution_count": 34,
   "metadata": {},
   "outputs": [],
   "source": [
    "#树的遍历\n",
    "#前序遍历\n",
    "#将前序遍历算法实现为外部函数\n",
    "def preorder(tree):\n",
    "    if tree:\n",
    "        print(tree.getRootVal())\n",
    "        preorder(tree.getLeftChild())\n",
    "        preorder(tree.getRightChild())"
   ]
  },
  {
   "cell_type": "code",
   "execution_count": 13,
   "metadata": {},
   "outputs": [],
   "source": [
    "#将前序遍历算法实现为BinaryTree类的方法\n",
    "class BinaryTree:\n",
    "    def __init__(self,rootObj):\n",
    "        self.key=RootObj\n",
    "        self.leftChild=None\n",
    "        self.rightChild=None\n",
    "    def insertLeft(self,newNode):\n",
    "        if self.leftChild==None:\n",
    "            self.leftChild=BinaryTree(newNode)\n",
    "        else:\n",
    "            t=BinaryTree(newNode)\n",
    "            t.left=self.leftChild\n",
    "            self.leftChild=t\n",
    "    def insertRight(self,newNode):\n",
    "        if self.rightChild==None:\n",
    "            self.rightChild=BinaryTree(newNode)\n",
    "        else:\n",
    "            t=BinaryTree(newNode)\n",
    "            self.right=self.rightChild\n",
    "            self.rightChild=t\n",
    "    def getRightChild(self):\n",
    "        return self.rightChild\n",
    "    def getLeftChild(self):\n",
    "        return self.leftChild\n",
    "    def setRootVal(self,obj):\n",
    "        self.key=obj\n",
    "    def getRootVal(self):\n",
    "        return self.key\n",
    "    def preorder(self):\n",
    "        print(self.key)\n",
    "        if self.leftChild:\n",
    "            self.left.preorder()\n",
    "        if self.rightChild:\n",
    "            self.right.preorder()"
   ]
  },
  {
   "cell_type": "code",
   "execution_count": 38,
   "metadata": {},
   "outputs": [
    {
     "name": "stdout",
     "output_type": "stream",
     "text": [
      "3\n",
      "4\n",
      "5\n",
      "*\n",
      "+\n"
     ]
    }
   ],
   "source": [
    "#后序遍历函数\n",
    "def postorder(tree):\n",
    "    if tree!=None:\n",
    "#         postorder(tree.getRightChild())\n",
    "        postorder(tree.getLeftChild())\n",
    "        postorder(tree.getRightChild())\n",
    "        print(tree.getRootVal())\n",
    "postorder(parseTree)"
   ]
  },
  {
   "cell_type": "code",
   "execution_count": 39,
   "metadata": {},
   "outputs": [
    {
     "data": {
      "text/plain": [
       "23"
      ]
     },
     "execution_count": 39,
     "metadata": {},
     "output_type": "execute_result"
    }
   ],
   "source": [
    "#后序求值函数\n",
    "import operator\n",
    "def postordereval(tree):\n",
    "    opers={'+':operator.add,'-':operator.sub,\n",
    "          '*':operator.mul,'/':operator.truediv}\n",
    "    res1=None\n",
    "    res2=None\n",
    "    if tree:\n",
    "        res1=postordereval(tree.getLeftChild())\n",
    "        res2=postordereval(tree.getRightChild())\n",
    "        if res1 and res2:\n",
    "            return opers[tree.getRootVal()](res1,res2)\n",
    "        else:\n",
    "            return tree.getRootVal()\n",
    "postordereval(parseTree)"
   ]
  },
  {
   "cell_type": "code",
   "execution_count": 40,
   "metadata": {},
   "outputs": [
    {
     "name": "stdout",
     "output_type": "stream",
     "text": [
      "3\n",
      "+\n",
      "4\n",
      "*\n",
      "5\n"
     ]
    }
   ],
   "source": [
    "#中序遍历函数：三个遍历函数的区别仅在于print语句与递归调用语句的相对位置\n",
    "def inorder(tree):\n",
    "    if tree!=None:\n",
    "        inorder(tree.getLeftChild())\n",
    "        print(tree.getRootVal())\n",
    "        inorder(tree.getRightChild())\n",
    "inorder(parseTree)"
   ]
  },
  {
   "cell_type": "code",
   "execution_count": 52,
   "metadata": {},
   "outputs": [
    {
     "data": {
      "text/plain": [
       "'((3)+((4)*(5)))'"
      ]
     },
     "execution_count": 52,
     "metadata": {},
     "output_type": "execute_result"
    }
   ],
   "source": [
    "#修改后的中序遍历函数，它能还原完全括号表达式\n",
    "def printexp(tree):\n",
    "    sVal=''\n",
    "    if tree:\n",
    "        sVal='('+printexp(tree.getLeftChild())\n",
    "        sVal=sVal+str(tree.getRootVal())\n",
    "        sVal=sVal+printexp(tree.getRightChild())+')'\n",
    "    return sVal\n",
    "printexp(parseTree)"
   ]
  },
  {
   "cell_type": "code",
   "execution_count": 56,
   "metadata": {},
   "outputs": [
    {
     "name": "stdout",
     "output_type": "stream",
     "text": [
      "(((4)+(5))*(7))\n"
     ]
    }
   ],
   "source": [
    "from pythonds.trees import BinaryTree\n",
    "x=BinaryTree('*')\n",
    "x.insertLeft('+')\n",
    "l=x.getLeftChild()\n",
    "# print(x.getRootVal())\n",
    "l.insertLeft(4)\n",
    "l.insertRight(5)\n",
    "x.insertRight(7)\n",
    "print(printexp(x))"
   ]
  },
  {
   "cell_type": "code",
   "execution_count": 46,
   "metadata": {},
   "outputs": [
    {
     "name": "stdout",
     "output_type": "stream",
     "text": [
      "63\n"
     ]
    }
   ],
   "source": [
    "print(postordereval(x))"
   ]
  },
  {
   "cell_type": "code",
   "execution_count": 14,
   "metadata": {},
   "outputs": [
    {
     "data": {
      "text/plain": [
       "'(3+(4*5))'"
      ]
     },
     "execution_count": 14,
     "metadata": {},
     "output_type": "execute_result"
    }
   ],
   "source": [
    "#练习：修改printexp函数，移除不必要的括号\n",
    "def printexp(tree):\n",
    "    sVal=''\n",
    "    if tree:\n",
    "        if tree.getRightChild()!=None:\n",
    "            sVal='('+printexp(tree.getLeftChild())\n",
    "        else:\n",
    "            sVal=printexp(tree.getLeftChild())\n",
    "        sVal=sVal+str(tree.getRootVal())\n",
    "        if tree.getLeftChild()!=None:\n",
    "            sVal=sVal+printexp(tree.getRightChild())+')'\n",
    "        else:\n",
    "            sVal=sVal+printexp(tree.getRightChild())#原来是少了个括号导致报错\n",
    "    return sVal\n",
    "printexp(parseTree)"
   ]
  },
  {
   "cell_type": "code",
   "execution_count": 74,
   "metadata": {
    "scrolled": true
   },
   "outputs": [
    {
     "ename": "AttributeError",
     "evalue": "'NoneType' object has no attribute 'getRightChild'",
     "output_type": "error",
     "traceback": [
      "\u001b[1;31m---------------------------------------------------------------------------\u001b[0m",
      "\u001b[1;31mAttributeError\u001b[0m                            Traceback (most recent call last)",
      "\u001b[1;32m<ipython-input-74-70dec6230af6>\u001b[0m in \u001b[0;36m<module>\u001b[1;34m\u001b[0m\n\u001b[0;32m     10\u001b[0m         \u001b[0msVal\u001b[0m\u001b[1;33m=\u001b[0m\u001b[0msVal\u001b[0m\u001b[1;33m+\u001b[0m\u001b[0mprintexp\u001b[0m\u001b[1;33m(\u001b[0m\u001b[0mtree\u001b[0m\u001b[1;33m.\u001b[0m\u001b[0mgetRightChild\u001b[0m\u001b[1;33m(\u001b[0m\u001b[1;33m)\u001b[0m\u001b[1;33m)\u001b[0m\u001b[1;33m\u001b[0m\u001b[1;33m\u001b[0m\u001b[0m\n\u001b[0;32m     11\u001b[0m     \u001b[1;32mreturn\u001b[0m \u001b[0msVal\u001b[0m\u001b[1;33m\u001b[0m\u001b[1;33m\u001b[0m\u001b[0m\n\u001b[1;32m---> 12\u001b[1;33m \u001b[0mprintexp\u001b[0m\u001b[1;33m(\u001b[0m\u001b[0mparseTree\u001b[0m\u001b[1;33m)\u001b[0m\u001b[1;33m\u001b[0m\u001b[1;33m\u001b[0m\u001b[0m\n\u001b[0m",
      "\u001b[1;32m<ipython-input-74-70dec6230af6>\u001b[0m in \u001b[0;36mprintexp\u001b[1;34m(tree)\u001b[0m\n\u001b[0;32m      2\u001b[0m     \u001b[0msVal\u001b[0m\u001b[1;33m=\u001b[0m\u001b[1;34m''\u001b[0m\u001b[1;33m\u001b[0m\u001b[1;33m\u001b[0m\u001b[0m\n\u001b[0;32m      3\u001b[0m     \u001b[1;32mif\u001b[0m \u001b[0mtype\u001b[0m\u001b[1;33m(\u001b[0m\u001b[0mtree\u001b[0m\u001b[1;33m.\u001b[0m\u001b[0mgetRightChild\u001b[0m\u001b[1;33m(\u001b[0m\u001b[1;33m)\u001b[0m\u001b[1;33m)\u001b[0m\u001b[1;33m!=\u001b[0m\u001b[1;34m'NoneType'\u001b[0m\u001b[1;33m:\u001b[0m\u001b[1;33m\u001b[0m\u001b[1;33m\u001b[0m\u001b[0m\n\u001b[1;32m----> 4\u001b[1;33m         \u001b[0msVal\u001b[0m\u001b[1;33m=\u001b[0m\u001b[1;34m'('\u001b[0m\u001b[1;33m+\u001b[0m\u001b[0mprintexp\u001b[0m\u001b[1;33m(\u001b[0m\u001b[0mtree\u001b[0m\u001b[1;33m.\u001b[0m\u001b[0mgetLeftChild\u001b[0m\u001b[1;33m(\u001b[0m\u001b[1;33m)\u001b[0m\u001b[1;33m)\u001b[0m\u001b[1;33m\u001b[0m\u001b[1;33m\u001b[0m\u001b[0m\n\u001b[0m\u001b[0;32m      5\u001b[0m         \u001b[0msVal\u001b[0m\u001b[1;33m=\u001b[0m\u001b[0msVal\u001b[0m\u001b[1;33m+\u001b[0m\u001b[0mstr\u001b[0m\u001b[1;33m(\u001b[0m\u001b[0mtree\u001b[0m\u001b[1;33m.\u001b[0m\u001b[0mgetRootVal\u001b[0m\u001b[1;33m(\u001b[0m\u001b[1;33m)\u001b[0m\u001b[1;33m)\u001b[0m\u001b[1;33m\u001b[0m\u001b[1;33m\u001b[0m\u001b[0m\n\u001b[0;32m      6\u001b[0m         \u001b[0msVal\u001b[0m\u001b[1;33m=\u001b[0m\u001b[0msVal\u001b[0m\u001b[1;33m+\u001b[0m\u001b[0mprintexp\u001b[0m\u001b[1;33m(\u001b[0m\u001b[0mtree\u001b[0m\u001b[1;33m.\u001b[0m\u001b[0mgetRightChild\u001b[0m\u001b[1;33m(\u001b[0m\u001b[1;33m)\u001b[0m\u001b[1;33m)\u001b[0m\u001b[1;33m+\u001b[0m\u001b[1;34m')'\u001b[0m\u001b[1;33m\u001b[0m\u001b[1;33m\u001b[0m\u001b[0m\n",
      "\u001b[1;32m<ipython-input-74-70dec6230af6>\u001b[0m in \u001b[0;36mprintexp\u001b[1;34m(tree)\u001b[0m\n\u001b[0;32m      2\u001b[0m     \u001b[0msVal\u001b[0m\u001b[1;33m=\u001b[0m\u001b[1;34m''\u001b[0m\u001b[1;33m\u001b[0m\u001b[1;33m\u001b[0m\u001b[0m\n\u001b[0;32m      3\u001b[0m     \u001b[1;32mif\u001b[0m \u001b[0mtype\u001b[0m\u001b[1;33m(\u001b[0m\u001b[0mtree\u001b[0m\u001b[1;33m.\u001b[0m\u001b[0mgetRightChild\u001b[0m\u001b[1;33m(\u001b[0m\u001b[1;33m)\u001b[0m\u001b[1;33m)\u001b[0m\u001b[1;33m!=\u001b[0m\u001b[1;34m'NoneType'\u001b[0m\u001b[1;33m:\u001b[0m\u001b[1;33m\u001b[0m\u001b[1;33m\u001b[0m\u001b[0m\n\u001b[1;32m----> 4\u001b[1;33m         \u001b[0msVal\u001b[0m\u001b[1;33m=\u001b[0m\u001b[1;34m'('\u001b[0m\u001b[1;33m+\u001b[0m\u001b[0mprintexp\u001b[0m\u001b[1;33m(\u001b[0m\u001b[0mtree\u001b[0m\u001b[1;33m.\u001b[0m\u001b[0mgetLeftChild\u001b[0m\u001b[1;33m(\u001b[0m\u001b[1;33m)\u001b[0m\u001b[1;33m)\u001b[0m\u001b[1;33m\u001b[0m\u001b[1;33m\u001b[0m\u001b[0m\n\u001b[0m\u001b[0;32m      5\u001b[0m         \u001b[0msVal\u001b[0m\u001b[1;33m=\u001b[0m\u001b[0msVal\u001b[0m\u001b[1;33m+\u001b[0m\u001b[0mstr\u001b[0m\u001b[1;33m(\u001b[0m\u001b[0mtree\u001b[0m\u001b[1;33m.\u001b[0m\u001b[0mgetRootVal\u001b[0m\u001b[1;33m(\u001b[0m\u001b[1;33m)\u001b[0m\u001b[1;33m)\u001b[0m\u001b[1;33m\u001b[0m\u001b[1;33m\u001b[0m\u001b[0m\n\u001b[0;32m      6\u001b[0m         \u001b[0msVal\u001b[0m\u001b[1;33m=\u001b[0m\u001b[0msVal\u001b[0m\u001b[1;33m+\u001b[0m\u001b[0mprintexp\u001b[0m\u001b[1;33m(\u001b[0m\u001b[0mtree\u001b[0m\u001b[1;33m.\u001b[0m\u001b[0mgetRightChild\u001b[0m\u001b[1;33m(\u001b[0m\u001b[1;33m)\u001b[0m\u001b[1;33m)\u001b[0m\u001b[1;33m+\u001b[0m\u001b[1;34m')'\u001b[0m\u001b[1;33m\u001b[0m\u001b[1;33m\u001b[0m\u001b[0m\n",
      "\u001b[1;32m<ipython-input-74-70dec6230af6>\u001b[0m in \u001b[0;36mprintexp\u001b[1;34m(tree)\u001b[0m\n\u001b[0;32m      1\u001b[0m \u001b[1;32mdef\u001b[0m \u001b[0mprintexp\u001b[0m\u001b[1;33m(\u001b[0m\u001b[0mtree\u001b[0m\u001b[1;33m)\u001b[0m\u001b[1;33m:\u001b[0m\u001b[1;33m\u001b[0m\u001b[1;33m\u001b[0m\u001b[0m\n\u001b[0;32m      2\u001b[0m     \u001b[0msVal\u001b[0m\u001b[1;33m=\u001b[0m\u001b[1;34m''\u001b[0m\u001b[1;33m\u001b[0m\u001b[1;33m\u001b[0m\u001b[0m\n\u001b[1;32m----> 3\u001b[1;33m     \u001b[1;32mif\u001b[0m \u001b[0mtype\u001b[0m\u001b[1;33m(\u001b[0m\u001b[0mtree\u001b[0m\u001b[1;33m.\u001b[0m\u001b[0mgetRightChild\u001b[0m\u001b[1;33m(\u001b[0m\u001b[1;33m)\u001b[0m\u001b[1;33m)\u001b[0m\u001b[1;33m!=\u001b[0m\u001b[1;34m'NoneType'\u001b[0m\u001b[1;33m:\u001b[0m\u001b[1;33m\u001b[0m\u001b[1;33m\u001b[0m\u001b[0m\n\u001b[0m\u001b[0;32m      4\u001b[0m         \u001b[0msVal\u001b[0m\u001b[1;33m=\u001b[0m\u001b[1;34m'('\u001b[0m\u001b[1;33m+\u001b[0m\u001b[0mprintexp\u001b[0m\u001b[1;33m(\u001b[0m\u001b[0mtree\u001b[0m\u001b[1;33m.\u001b[0m\u001b[0mgetLeftChild\u001b[0m\u001b[1;33m(\u001b[0m\u001b[1;33m)\u001b[0m\u001b[1;33m)\u001b[0m\u001b[1;33m\u001b[0m\u001b[1;33m\u001b[0m\u001b[0m\n\u001b[0;32m      5\u001b[0m         \u001b[0msVal\u001b[0m\u001b[1;33m=\u001b[0m\u001b[0msVal\u001b[0m\u001b[1;33m+\u001b[0m\u001b[0mstr\u001b[0m\u001b[1;33m(\u001b[0m\u001b[0mtree\u001b[0m\u001b[1;33m.\u001b[0m\u001b[0mgetRootVal\u001b[0m\u001b[1;33m(\u001b[0m\u001b[1;33m)\u001b[0m\u001b[1;33m)\u001b[0m\u001b[1;33m\u001b[0m\u001b[1;33m\u001b[0m\u001b[0m\n",
      "\u001b[1;31mAttributeError\u001b[0m: 'NoneType' object has no attribute 'getRightChild'"
     ]
    }
   ],
   "source": [
    "def printexp(tree):\n",
    "    sVal=''\n",
    "    if type(tree.getRightChild())!='NoneType':\n",
    "        sVal='('+printexp(tree.getLeftChild())\n",
    "        sVal=sVal+str(tree.getRootVal())\n",
    "        sVal=sVal+printexp(tree.getRightChild())+')'\n",
    "    else:\n",
    "        sVal=printexp(tree.getLeftChild())\n",
    "        sVal=sVal+str(tree.getRootVal())\n",
    "        sVal=sVal+printexp(tree.getRightChild())\n",
    "    return sVal\n",
    "printexp(parseTree)"
   ]
  },
  {
   "cell_type": "code",
   "execution_count": 75,
   "metadata": {},
   "outputs": [
    {
     "data": {
      "text/plain": [
       "'(3+(4*5))'"
      ]
     },
     "execution_count": 75,
     "metadata": {},
     "output_type": "execute_result"
    }
   ],
   "source": [
    "def printexp(tree):\n",
    "    sVal=''\n",
    "    if tree:\n",
    "        if tree.getLeftChild() and tree.getRightChild():\n",
    "            sVal='('+printexp(tree.getLeftChild())\n",
    "            sVal=sVal+str(tree.getRootVal())\n",
    "            sVal=sVal+printexp(tree.getRightChild())+')'\n",
    "        else:\n",
    "            sVal=printexp(tree.getLeftChild())\n",
    "            sVal=sVal+str(tree.getRootVal())\n",
    "            sVal=sVal+printexp(tree.getRightChild())\n",
    "#         sVal=sVal+str(tree.getRootVal())\n",
    "#         if type(tree.getRightChild())!='NoneType':\n",
    "#             sVal=sVal+printexp(tree.getRightChild())+')'\n",
    "#         else:\n",
    "#             sVal=sVal+printexp(tree.getRightChild())\n",
    "    return sVal\n",
    "printexp(parseTree)"
   ]
  },
  {
   "cell_type": "code",
   "execution_count": 68,
   "metadata": {},
   "outputs": [
    {
     "name": "stdout",
     "output_type": "stream",
     "text": [
      "3\n"
     ]
    }
   ],
   "source": [
    "#利用二叉堆实现优先级队列\n",
    "from pythonds.trees import BinHeap\n",
    "bh=BinHeap()\n",
    "bh.insert(5)\n",
    "bh.insert(7)\n",
    "bh.insert(3)\n",
    "bh.insert(11)\n",
    "print(bh.delMin())"
   ]
  },
  {
   "cell_type": "code",
   "execution_count": 69,
   "metadata": {},
   "outputs": [
    {
     "name": "stdout",
     "output_type": "stream",
     "text": [
      "5\n"
     ]
    }
   ],
   "source": [
    "print(bh.delMin())"
   ]
  },
  {
   "cell_type": "code",
   "execution_count": 70,
   "metadata": {},
   "outputs": [
    {
     "name": "stdout",
     "output_type": "stream",
     "text": [
      "7\n"
     ]
    }
   ],
   "source": [
    "print(bh.delMin())"
   ]
  },
  {
   "cell_type": "code",
   "execution_count": 71,
   "metadata": {},
   "outputs": [
    {
     "name": "stdout",
     "output_type": "stream",
     "text": [
      "11\n"
     ]
    }
   ],
   "source": [
    "print(bh.delMin())"
   ]
  },
  {
   "cell_type": "code",
   "execution_count": 72,
   "metadata": {},
   "outputs": [],
   "source": [
    "#二叉堆的实现\n",
    "class BinHeap:\n",
    "    def __init__(self):\n",
    "        self.heapList=[0]\n",
    "        self.currentSize=0\n",
    "    def percUp(self,i):#将元素一直沿着树向上移动，直到重新获堆的结构性质\n",
    "        while i//2>0:\n",
    "            if self.heapList[i]<self.heapList[i//2]:\n",
    "                self.heapList[i],self.heapList[i//2]=self.heapList[i//2],self.heapList[i]\n",
    "            i=i//2\n",
    "    def insert(self,k):\n",
    "        self.heapList.append(k)\n",
    "        self.currentSize=self.currentSize+1\n",
    "        self.percUp(self.currentSize)\n",
    "        \n",
    "    def percDown(self,i):#将父节点大于子节点的进行替换\n",
    "        while (i*2)<=self.currentSize:\n",
    "            mc=self.minChild(i)\n",
    "            if self.heapList[i]>self.heapList[mc]:\n",
    "                self.heapList[i],self.heapList[mc]=self.heapList[mc],self.heapList[i]\n",
    "            i=mc\n",
    "    def minChild(self,i):#确定左右子树哪个值更小 \n",
    "        if i*2+1>self.currentSize:\n",
    "            return i*2\n",
    "        else:\n",
    "            if self.heapList[i*2]<self.heapList[i*2+1]:\n",
    "                return i*2\n",
    "            else:\n",
    "                return i*2+1\n",
    "    def delMin(self):\n",
    "        retval=self.heapList[1]\n",
    "        self.heapList[1]=self.heapList[self.currentSize]\n",
    "        self.currentSize=self.currentSize-1\n",
    "        self.heapList.pop()\n",
    "        self.percDown(1)\n",
    "        return retval \n",
    "    #根据元素列表构建堆\n",
    "    def buildHeap(self,alist):\n",
    "        i=len(alist)//2\n",
    "        self.currentSize=len(alist)\n",
    "        self.heapList=[0]+alist[:]\n",
    "        while i>0:\n",
    "            self.percDown(i)\n",
    "            i=i-1"
   ]
  },
  {
   "cell_type": "code",
   "execution_count": null,
   "metadata": {},
   "outputs": [],
   "source": [
    "#练习：实现最大二叉堆\n",
    "class BinHeap:\n",
    "    def __init__(self):\n",
    "        self.heapList=[0]\n",
    "        self.currentSize=0\n",
    "    def percUp(self,i):#将元素一直沿着树向上移动，直到重新获堆的结构性质\n",
    "        while i//2>0:\n",
    "            if self.heapList[i]>self.heapList[i//2]:\n",
    "                self.heapList[i],self.heapList[i//2]=self.heapList[i//2],self.heapList[i]\n",
    "            i=i//2\n",
    "    def insert(self,k):\n",
    "        self.heapList.append(k)\n",
    "        self.currentSize=self.currentSize+1\n",
    "        self.percUp(self.currentSize)\n",
    "        \n",
    "    def percDown(self,i):#将父节点大于子节点的进行替换\n",
    "        while (i*2)<=self.currentSize:\n",
    "            mc=self.minChild(i)\n",
    "            if self.heapList[i]<self.heapList[mc]:\n",
    "                self.heapList[i],self.heapList[mc]=self.heapList[mc],self.heapList[i]\n",
    "            i=mc\n",
    "    def maxChild(self,i):#确定左右子树哪个值更小 \n",
    "        if i*2+1>self.currentSize:\n",
    "            return i*2\n",
    "        else:\n",
    "            if self.heapList[i*2]<self.heapList[i*2+1]:\n",
    "                return i*2+1\n",
    "            else:\n",
    "                return i*2\n",
    "    def delMax(self):\n",
    "        retval=self.heapList[1]\n",
    "        self.heapList[1]=self.heapList[self.currentSize]\n",
    "        self.currentSize=self.currentSize-1\n",
    "        self.heapList.pop()\n",
    "        self.percDown(1)\n",
    "        return retval \n",
    "    #根据元素列表构建堆\n",
    "    def buildHeap(self,alist):\n",
    "        i=len(alist)//2\n",
    "        self.currentSize=len(alist)\n",
    "        self.heapList=[0]+alist[:]\n",
    "        while i>0:\n",
    "            self.percDown(i)\n",
    "            i=i-1"
   ]
  },
  {
   "cell_type": "code",
   "execution_count": 1,
   "metadata": {},
   "outputs": [],
   "source": [
    "#二叉搜索树\n",
    "class BinarySearchTree:\n",
    "    def __init__(self):\n",
    "        self.root=None\n",
    "        self.size=0\n",
    "    def length(self):\n",
    "        return self.size\n",
    "    def __len__(self):\n",
    "        return self.size\n",
    "    def __iter__(self):\n",
    "        return self.root.__iter__()\n",
    "    def put(self,key,val):\n",
    "        if self.root:\n",
    "            self._put(key,val,self.root)\n",
    "        else:\n",
    "            self.root=TreeNode(key,val)\n",
    "        self.size+=1\n",
    "    def _put(self,key,val,currentNode):\n",
    "        if key<currentNode.key:\n",
    "            if currentNode.hasLeftChild():\n",
    "                self._put(key,val,currentNode.leftChild)\n",
    "            else:\n",
    "                currentNode.leftChild=TreeNode(key,val,parent=currentNode)\n",
    "        elif key==currentNode.key:\n",
    "            currentNode.payload=val #这里看直接替换行不行，不行就用replaceNodeData\n",
    "        else:\n",
    "            if currentNode.hasRightChild():\n",
    "                self._put(key,val,currentNode.rightChild)\n",
    "            else:\n",
    "                currentNode.rightChild=TreeNode(key,vay,parent=currentNode)\n",
    "    def __setitem__(self,k,v):\n",
    "        self.put(k,v)\n",
    "    def get(self,key):\n",
    "        if self.root:\n",
    "            res=self._get(key,self.root)\n",
    "            if res:\n",
    "                return res.payload\n",
    "            else:\n",
    "                return None\n",
    "    def _get(self,key,currentNode):\n",
    "        if not currentNode:\n",
    "            return None\n",
    "        elif currentNode.key==key:\n",
    "            return currentNode\n",
    "        elif key<currentNode.key:\n",
    "            return self._get(key,currentNode.leftChild)\n",
    "        else:\n",
    "            return self._get(key,currentNode.rightChild)\n",
    "    def __getitem__(self,key):\n",
    "        return self.get(key)\n",
    "    def __contains__(self,key):\n",
    "        if self._get(key,self.root):\n",
    "            return True\n",
    "        else:\n",
    "            return False\n",
    "    def delete(self,key):\n",
    "        if self.size>1:\n",
    "            nodeToRemove=self._get(key,self.root)\n",
    "            if nodeToRemove:\n",
    "                self.remove(nodeToRemove)\n",
    "                self.size-=1\n",
    "            else:\n",
    "                raise KeyError('Error,key not in tree')\n",
    "        elif self.size==1 and self.root.key==key:\n",
    "            self.root=None\n",
    "            self.size-=1\n",
    "        else:\n",
    "            raise KeyError('Error,key not in tree')\n",
    "    def __dilitem__(self,key):\n",
    "        self.delete(key)\n",
    "    def remove(self,currentNode):\n",
    "        if currentNode.isLeaf():#叶子节点\n",
    "            if currentNode==current.parent.leftChild:\n",
    "                currentNode.parent.leftChild=None\n",
    "            else:\n",
    "                currentNode.parent.rightChild=None\n",
    "        elif currentNode.hasBothChildren():#有两个子节点\n",
    "            succ=currentNode.findSuccessor()\n",
    "            succ.spliceOut()\n",
    "            currentNode.key=succ.key\n",
    "            currentNode.payload=succ.payload\n",
    "        else:  #只有一个子节点\n",
    "            if currentNode.hasLeftChild():\n",
    "                if currentNode.isLeftChild():\n",
    "                    currentNode.leftChild.parent=currentNode.parent\n",
    "                    currentNode.parent.leftChild=currentNode.leftChild\n",
    "                elif currentNode.isRightChild():\n",
    "                    currentNode.leftChild.parent=currentNode.parent\n",
    "                    currentNode.parent.rightChild=currentNode.leftChild\n",
    "                else:\n",
    "                    currentNode.replaceNodeData(currentNode.leftChild.key,current.leftChild.payload,\n",
    "                                               currentNode.leftChild.leftChild,currentNode.leftChild.rightChild)\n",
    "            else:\n",
    "                if currentNode.isLeftChild():\n",
    "                    currentNode.rightChild.parent=currentNode.parent\n",
    "                    currentNode.parent.leftChild=currentNode.rightChild\n",
    "                elif currentNode.isRightChild():\n",
    "                    currentNode.rightChild.parent=currentNode.parent\n",
    "                    currentNode.parent.rightChild=currentNode.rightChild\n",
    "                else:\n",
    "                    currentNode.replaceNodeData(currentNode.rightChild.key,current.rightChild.payload,\n",
    "                                               currentNode.rightChild.leftChild,currentNode.rightChild.rightChild)\n",
    "            \n",
    "class TreeNode:\n",
    "    def __init__(self,key,val,left=None,right=None,parent=None):\n",
    "        self.key=key\n",
    "        self.payload=val\n",
    "        self.leftChild=left\n",
    "        self.rightChild=right\n",
    "        self.parent=parent\n",
    "    def hasLeftChild(self):\n",
    "        return self.leftChild\n",
    "    def hasRightChild(self):\n",
    "        return self.rightChild\n",
    "    def isLeftChild(self):\n",
    "        return self.parent and self.parent.leftChild==self\n",
    "    def isRightChild(self):\n",
    "        return self.parent and self.parent.rightChild==self\n",
    "    def isRoot(self):\n",
    "        return not self.parent\n",
    "    def isLeaf(self):\n",
    "        return not(self.rightChild and self.leftChild)\n",
    "    def hasAnyChildren(self):\n",
    "        return self.rightChild or self.leftChild\n",
    "    def hasBothChildren(self):\n",
    "        return self.rightChild and self.leftChild\n",
    "    def replaceNodeData(self,key,value,lc,rc):\n",
    "        self.key=key\n",
    "        self.payload=value\n",
    "        self.leftChild=lc\n",
    "        self.rightChild=rc\n",
    "        if self.hasLeftChild():\n",
    "            self.leftChild.parent=self\n",
    "        if self.hasRightChild():\n",
    "            self.rightChild.parent=self\n",
    "    #寻找后继节点\n",
    "    def findSuccessor(self):\n",
    "        succ=None\n",
    "        if self.hasRightChild():\n",
    "            succ=self.rightChild.findMin()\n",
    "        else:\n",
    "            if self.parent:\n",
    "                if self.isLeftChild():\n",
    "                    succ=self.parent\n",
    "                else:\n",
    "                    self.parent.rightChild=None\n",
    "                    succ=self.parent.findSuccessor()\n",
    "                    self.parent.rightChild=self\n",
    "        return succ\n",
    "    def findMin(self):\n",
    "        current=self\n",
    "        while current.hasLeftChild():\n",
    "            current=current.leftChild\n",
    "        return current\n",
    "    def spliceOut(self):\n",
    "        if self.isLeaf():\n",
    "            if self.isLeftChild():\n",
    "                self.parent.leftChild=None\n",
    "            else:\n",
    "                self.parent.rightChild=None\n",
    "        elif self.hasAnyChildren():\n",
    "            if self.hasLeftChild():\n",
    "                if self.isLeftChild():\n",
    "                    self.parent.leftChild=self.leftChild\n",
    "                else:\n",
    "                    self.parent.rightChild=self.leftChild\n",
    "                self.leftChild.parent=self.parent\n",
    "            else:\n",
    "                if self.isLeftChild():\n",
    "                    self.parent.leftChild=self.rightChild\n",
    "                else:\n",
    "                    self.parent.rightChild=self.rightChild\n",
    "                self.rightChild.parent=self.parent\n",
    "    def __iter__(self):#二叉搜索迭代器\n",
    "        if self:\n",
    "            if self.hasLeftChild():\n",
    "                for elem in self.leftChild:\n",
    "                    yield elem\n",
    "            yield self.key\n",
    "            if self.hasRightChild():\n",
    "                for elem in self.rightChild:\n",
    "                    yield elem\n",
    "                \n",
    "                "
   ]
  },
  {
   "cell_type": "code",
   "execution_count": 3,
   "metadata": {},
   "outputs": [],
   "source": [
    "#平衡二叉搜索树\n",
    "class AVLTree(BinarySearchTree):\n",
    "    def _put(self,key,val,currentNode):\n",
    "        if k<currentNode.key:\n",
    "            if currentNode.hasLeftChild():\n",
    "                self._put(key,val,currentNode.leftChild)\n",
    "            else:\n",
    "                currentNode.leftChild=TreeNode(key,val,parent=currentNode)\n",
    "                self.updateBalance(currentNode.leftChild)\n",
    "        else:\n",
    "            if currentNode.hasRightChild():\n",
    "                self._put(key,val,currentNode.rightChild)\n",
    "            else:\n",
    "                currentNode.rightChild=TreeNode(key,val,parent=currentNode)\n",
    "                self.updateBalance(currentNode.rightChild)\n",
    "    def updateBalance(self,node):\n",
    "        if node.balanceFactor>1 or node.balanceFactor<=-1:\n",
    "            self.rebalance(node)\n",
    "            return\n",
    "        if node.parent!=None:\n",
    "            if node.isLeftChild():\n",
    "                node.parent.balanceFactor+=1\n",
    "            elif node.isRightChild():\n",
    "                node.parent.balanceFactor-=1\n",
    "            if node.parent.balanceFactor!=0:\n",
    "                self.updateBalance(node.parent)\n",
    "    def rotateLeft(self,rotRoot):#左旋\n",
    "        newRoot=rotRoot.rightChild\n",
    "        rotRoot.rightChild=newRoot.leftChild\n",
    "        if newRoot.leftChild!=None:\n",
    "            newRoot.leftChild.parent=rotRoot\n",
    "        newRoot.parent=rotRoot.parent\n",
    "        if rotRoot.isRoot():\n",
    "            self.root=newRoot\n",
    "        else:\n",
    "            if rotRoot.isLeftChild():\n",
    "                rotRoot.parent.leftChild=newRoot\n",
    "            else:\n",
    "                rotRoot.parent.rightChild=newRoot\n",
    "        newRoot.leftChild=rotRoot\n",
    "        rotRoot.parent=newRoot\n",
    "        rotRoot.balanceFactor=rotRoot.balanceFactor+1-min(newRoot.balanceFactor,0)\n",
    "        newRoot.balanceFactor=newRoot.balanceFactor+1+max(rotRoot.balanceFactor,0)\n",
    "    def rebalance(self,node):\n",
    "        if node.balanceFactor<0:\n",
    "            if node.rightChild.balanceFactor>0:\n",
    "                self.rotateRight(node.rightChild)\n",
    "                self.rotateLeft(node)\n",
    "            else:\n",
    "                self.rotateLeft(node)\n",
    "        elif node.balanceFactor>0:\n",
    "            if node.leftChild.balanceFactor<0:\n",
    "                self.rotateLeft(node.leftChild)\n",
    "                self.rotateRight(node)\n",
    "            else:self.rotateRight(node)"
   ]
  },
  {
   "cell_type": "code",
   "execution_count": 8,
   "metadata": {},
   "outputs": [
    {
     "data": {
      "text/plain": [
       "<__main__.AVLTree at 0x14a8c5499e8>"
      ]
     },
     "execution_count": 8,
     "metadata": {},
     "output_type": "execute_result"
    }
   ],
   "source": [
    "#AVL平衡树的python实现\n",
    "#https://www.cnblogs.com/yscl/p/10077607.html"
   ]
  },
  {
   "cell_type": "code",
   "execution_count": null,
   "metadata": {},
   "outputs": [],
   "source": []
  }
 ],
 "metadata": {
  "kernelspec": {
   "display_name": "Python 3",
   "language": "python",
   "name": "python3"
  },
  "language_info": {
   "codemirror_mode": {
    "name": "ipython",
    "version": 3
   },
   "file_extension": ".py",
   "mimetype": "text/x-python",
   "name": "python",
   "nbconvert_exporter": "python",
   "pygments_lexer": "ipython3",
   "version": "3.7.2"
  }
 },
 "nbformat": 4,
 "nbformat_minor": 2
}
