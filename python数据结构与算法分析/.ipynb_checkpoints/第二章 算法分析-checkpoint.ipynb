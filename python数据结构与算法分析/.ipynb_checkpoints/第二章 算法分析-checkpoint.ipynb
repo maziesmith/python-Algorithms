{
 "cells": [
  {
   "cell_type": "code",
   "execution_count": 1,
   "metadata": {},
   "outputs": [
    {
     "data": {
      "text/plain": [
       "55"
      ]
     },
     "execution_count": 1,
     "metadata": {},
     "output_type": "execute_result"
    }
   ],
   "source": [
    "#区分算法和程序\n",
    "def sumOfN(n):\n",
    "    theSum=0\n",
    "    for i in range(1,n+1):\n",
    "        theSum=theSum+i\n",
    "    return theSum\n",
    "sumOfN(10)"
   ]
  },
  {
   "cell_type": "code",
   "execution_count": 2,
   "metadata": {},
   "outputs": [
    {
     "data": {
      "text/plain": [
       "55"
      ]
     },
     "execution_count": 2,
     "metadata": {},
     "output_type": "execute_result"
    }
   ],
   "source": [
    "def foo(tom):\n",
    "    fred=0\n",
    "    for bill in range(1,tom+1):\n",
    "        barney=bill\n",
    "        fred=fred+barney\n",
    "    return fred\n",
    "foo(10)"
   ]
  },
  {
   "cell_type": "code",
   "execution_count": 3,
   "metadata": {},
   "outputs": [],
   "source": [
    "import time\n",
    "def sumOfN2(n):\n",
    "    start=time.time()\n",
    "    theSum=0\n",
    "    for i in range(1,n+1):\n",
    "        theSum=theSum+i\n",
    "    end=time.time()\n",
    "    return theSum,end-start"
   ]
  },
  {
   "cell_type": "code",
   "execution_count": 4,
   "metadata": {},
   "outputs": [
    {
     "name": "stdout",
     "output_type": "stream",
     "text": [
      "Sum is 50005000 required  0.0019956 seconds\n",
      "Sum is 50005000 required  0.0010099 seconds\n",
      "Sum is 50005000 required  0.0009971 seconds\n",
      "Sum is 50005000 required  0.0019934 seconds\n",
      "Sum is 50005000 required  0.0009975 seconds\n"
     ]
    }
   ],
   "source": [
    "for i in range(5):\n",
    "    print('Sum is %d required %10.7f seconds'%sumOfN2(10000))"
   ]
  },
  {
   "cell_type": "code",
   "execution_count": 5,
   "metadata": {},
   "outputs": [
    {
     "name": "stdout",
     "output_type": "stream",
     "text": [
      "Sum is 5000050000 required  0.0119328 seconds\n",
      "Sum is 5000050000 required  0.0129633 seconds\n",
      "Sum is 5000050000 required  0.0139654 seconds\n",
      "Sum is 5000050000 required  0.0179780 seconds\n",
      "Sum is 5000050000 required  0.0169272 seconds\n"
     ]
    }
   ],
   "source": [
    "for i in range(5):\n",
    "    print('Sum is %d required %10.7f seconds'%sumOfN2(100000))"
   ]
  },
  {
   "cell_type": "code",
   "execution_count": 7,
   "metadata": {},
   "outputs": [],
   "source": [
    "#另一种算法求累加和\n",
    "def sumOfN3(n):\n",
    "    start=time.time()\n",
    "    return (n*(n+1))/2,time.time()-start"
   ]
  },
  {
   "cell_type": "code",
   "execution_count": 14,
   "metadata": {},
   "outputs": [
    {
     "name": "stdout",
     "output_type": "stream",
     "text": [
      "Sum is 50000000005000003584 required 0.0000000000 seconds\n",
      "Sum is 50000000005000003584 required 0.0009973049 seconds\n",
      "Sum is 50000000005000003584 required 0.0000000000 seconds\n",
      "Sum is 50000000005000003584 required 0.0000000000 seconds\n",
      "Sum is 50000000005000003584 required 0.0000000000 seconds\n"
     ]
    }
   ],
   "source": [
    "for i in range(5):\n",
    "    print('Sum is %d required %10.10f seconds'%sumOfN3(10000000000))"
   ]
  },
  {
   "cell_type": "code",
   "execution_count": 15,
   "metadata": {},
   "outputs": [
    {
     "ename": "NameError",
     "evalue": "name 'n' is not defined",
     "output_type": "error",
     "traceback": [
      "\u001b[1;31m---------------------------------------------------------------------------\u001b[0m",
      "\u001b[1;31mNameError\u001b[0m                                 Traceback (most recent call last)",
      "\u001b[1;32m<ipython-input-15-1a4385b073ac>\u001b[0m in \u001b[0;36m<module>\u001b[1;34m\u001b[0m\n\u001b[0;32m      2\u001b[0m \u001b[0mb\u001b[0m\u001b[1;33m=\u001b[0m\u001b[1;36m6\u001b[0m\u001b[1;33m\u001b[0m\u001b[1;33m\u001b[0m\u001b[0m\n\u001b[0;32m      3\u001b[0m \u001b[0mc\u001b[0m\u001b[1;33m=\u001b[0m\u001b[1;36m10\u001b[0m\u001b[1;33m\u001b[0m\u001b[1;33m\u001b[0m\u001b[0m\n\u001b[1;32m----> 4\u001b[1;33m \u001b[1;32mfor\u001b[0m \u001b[0mi\u001b[0m \u001b[1;32min\u001b[0m \u001b[0mrange\u001b[0m\u001b[1;33m(\u001b[0m\u001b[0mn\u001b[0m\u001b[1;33m)\u001b[0m\u001b[1;33m:\u001b[0m\u001b[1;33m\u001b[0m\u001b[1;33m\u001b[0m\u001b[0m\n\u001b[0m\u001b[0;32m      5\u001b[0m     \u001b[1;32mfor\u001b[0m \u001b[0mj\u001b[0m \u001b[1;32min\u001b[0m \u001b[0mrange\u001b[0m\u001b[1;33m(\u001b[0m\u001b[0mn\u001b[0m\u001b[1;33m)\u001b[0m\u001b[1;33m:\u001b[0m\u001b[1;33m\u001b[0m\u001b[1;33m\u001b[0m\u001b[0m\n\u001b[0;32m      6\u001b[0m         \u001b[0mx\u001b[0m\u001b[1;33m=\u001b[0m\u001b[0mi\u001b[0m\u001b[1;33m*\u001b[0m\u001b[0mi\u001b[0m\u001b[1;33m\u001b[0m\u001b[1;33m\u001b[0m\u001b[0m\n",
      "\u001b[1;31mNameError\u001b[0m: name 'n' is not defined"
     ]
    }
   ],
   "source": [
    "a=5\n",
    "b=6\n",
    "c=10\n",
    "for i in range(n):\n",
    "    for j in range(n):\n",
    "        x=i*i\n",
    "        y=i*j\n",
    "        z=j*j\n",
    "for k in range(n):\n",
    "    w=a*k+45\n",
    "    v=b*b\n",
    "d=33"
   ]
  },
  {
   "cell_type": "code",
   "execution_count": 16,
   "metadata": {},
   "outputs": [],
   "source": [
    "#异序词检测\n",
    "#方案1：清点法\n",
    "def anagramSolution1(s1,s2):\n",
    "    alist=list(s2)\n",
    "    pos1=0\n",
    "    stillOK=True\n",
    "    while pos1<len(s1) and stillOK:\n",
    "        pos2=0\n",
    "        found=False\n",
    "        while pos2<len(alist) and not found:\n",
    "            if s1[pos1]==alist[pos2]:\n",
    "                found=True\n",
    "            else:\n",
    "                pos2=pos2+1\n",
    "        if found:\n",
    "            alist[pos2]=None\n",
    "        else:\n",
    "            stillOK=False\n",
    "        pos1=pos1+1\n",
    "    return stillOK"
   ]
  },
  {
   "cell_type": "code",
   "execution_count": 20,
   "metadata": {},
   "outputs": [
    {
     "data": {
      "text/plain": [
       "True"
      ]
     },
     "execution_count": 20,
     "metadata": {},
     "output_type": "execute_result"
    }
   ],
   "source": [
    "#方案2：排序法\n",
    "def anagramSolution2(s1,s2):\n",
    "    alist1=list(s1)\n",
    "    alist2=list(s2)\n",
    "    alist1.sort()\n",
    "    alist2.sort()\n",
    "    return alist1==alist2\n",
    "anagramSolution2('hello','elloh')"
   ]
  },
  {
   "cell_type": "code",
   "execution_count": 21,
   "metadata": {},
   "outputs": [
    {
     "ename": "TypeError",
     "evalue": "unsupported operand type(s) for -: 'str' and 'int'",
     "output_type": "error",
     "traceback": [
      "\u001b[1;31m---------------------------------------------------------------------------\u001b[0m",
      "\u001b[1;31mTypeError\u001b[0m                                 Traceback (most recent call last)",
      "\u001b[1;32m<ipython-input-21-96100f3c05eb>\u001b[0m in \u001b[0;36m<module>\u001b[1;34m\u001b[0m\n\u001b[0;32m     11\u001b[0m         \u001b[0mc2\u001b[0m\u001b[1;33m[\u001b[0m\u001b[0mpos\u001b[0m\u001b[1;33m]\u001b[0m\u001b[1;33m=\u001b[0m\u001b[0mc2\u001b[0m\u001b[1;33m[\u001b[0m\u001b[0mpos\u001b[0m\u001b[1;33m]\u001b[0m\u001b[1;33m+\u001b[0m\u001b[1;36m1\u001b[0m\u001b[1;33m\u001b[0m\u001b[1;33m\u001b[0m\u001b[0m\n\u001b[0;32m     12\u001b[0m     \u001b[1;32mreturn\u001b[0m \u001b[0mc1\u001b[0m\u001b[1;33m==\u001b[0m\u001b[0mc2\u001b[0m\u001b[1;33m\u001b[0m\u001b[1;33m\u001b[0m\u001b[0m\n\u001b[1;32m---> 13\u001b[1;33m \u001b[0managramSolution3\u001b[0m\u001b[1;33m(\u001b[0m\u001b[1;34m'hello'\u001b[0m\u001b[1;33m,\u001b[0m\u001b[1;34m'elloh'\u001b[0m\u001b[1;33m)\u001b[0m\u001b[1;33m\u001b[0m\u001b[1;33m\u001b[0m\u001b[0m\n\u001b[0m",
      "\u001b[1;32m<ipython-input-21-96100f3c05eb>\u001b[0m in \u001b[0;36managramSolution3\u001b[1;34m(s1, s2)\u001b[0m\n\u001b[0;32m      5\u001b[0m \u001b[1;33m\u001b[0m\u001b[0m\n\u001b[0;32m      6\u001b[0m     \u001b[1;32mfor\u001b[0m \u001b[0mi\u001b[0m \u001b[1;32min\u001b[0m \u001b[0mrange\u001b[0m\u001b[1;33m(\u001b[0m\u001b[0mlen\u001b[0m\u001b[1;33m(\u001b[0m\u001b[0ms1\u001b[0m\u001b[1;33m)\u001b[0m\u001b[1;33m)\u001b[0m\u001b[1;33m:\u001b[0m\u001b[1;33m\u001b[0m\u001b[1;33m\u001b[0m\u001b[0m\n\u001b[1;32m----> 7\u001b[1;33m         \u001b[0mpos\u001b[0m\u001b[1;33m=\u001b[0m\u001b[0mord\u001b[0m\u001b[1;33m(\u001b[0m\u001b[0ms1\u001b[0m\u001b[1;33m[\u001b[0m\u001b[0mi\u001b[0m\u001b[1;33m]\u001b[0m\u001b[1;33m-\u001b[0m\u001b[0mord\u001b[0m\u001b[1;33m(\u001b[0m\u001b[1;34m'a'\u001b[0m\u001b[1;33m)\u001b[0m\u001b[1;33m)\u001b[0m\u001b[1;33m\u001b[0m\u001b[1;33m\u001b[0m\u001b[0m\n\u001b[0m\u001b[0;32m      8\u001b[0m         \u001b[0mc1\u001b[0m\u001b[1;33m[\u001b[0m\u001b[0mpos\u001b[0m\u001b[1;33m]\u001b[0m\u001b[1;33m=\u001b[0m\u001b[0mc1\u001b[0m\u001b[1;33m[\u001b[0m\u001b[0mpos\u001b[0m\u001b[1;33m]\u001b[0m\u001b[1;33m+\u001b[0m\u001b[1;36m1\u001b[0m\u001b[1;33m\u001b[0m\u001b[1;33m\u001b[0m\u001b[0m\n\u001b[0;32m      9\u001b[0m     \u001b[1;32mfor\u001b[0m \u001b[0mi\u001b[0m \u001b[1;32min\u001b[0m \u001b[0mrange\u001b[0m\u001b[1;33m(\u001b[0m\u001b[0mlen\u001b[0m\u001b[1;33m(\u001b[0m\u001b[0ms2\u001b[0m\u001b[1;33m)\u001b[0m\u001b[1;33m)\u001b[0m\u001b[1;33m:\u001b[0m\u001b[1;33m\u001b[0m\u001b[1;33m\u001b[0m\u001b[0m\n",
      "\u001b[1;31mTypeError\u001b[0m: unsupported operand type(s) for -: 'str' and 'int'"
     ]
    }
   ],
   "source": [
    "#方案3：计数法\n",
    "def anagramSolution3(s1,s2):\n",
    "    c1=[0]*26\n",
    "    c2=[0]*26\n",
    "    \n",
    "    for i in range(len(s1)):\n",
    "        pos=ord(s1[i]-ord('a'))\n",
    "        c1[pos]=c1[pos]+1\n",
    "    for i in range(len(s2)):\n",
    "        pos=ord(s2[i]-ord('a'))\n",
    "        c2[pos]=c2[pos]+1\n",
    "    return c1==c2\n",
    "anagramSolution3('hello','elloh')"
   ]
  },
  {
   "cell_type": "code",
   "execution_count": 22,
   "metadata": {},
   "outputs": [
    {
     "data": {
      "text/plain": [
       "True"
      ]
     },
     "execution_count": 22,
     "metadata": {},
     "output_type": "execute_result"
    }
   ],
   "source": [
    "def anagramSolution3(s1,s2):\n",
    "    c1=[0]*26\n",
    "    c2=[0]*26\n",
    "    \n",
    "    for i in range(len(s1)):\n",
    "        pos=ord(s1[i])-ord('a')\n",
    "        c1[pos]=c1[pos]+1\n",
    "    for i in range(len(s2)):\n",
    "        pos=ord(s2[i])-ord('a')\n",
    "        c2[pos]=c2[pos]+1\n",
    "    return c1==c2\n",
    "anagramSolution3('hello','elloh')"
   ]
  },
  {
   "cell_type": "code",
   "execution_count": 23,
   "metadata": {},
   "outputs": [
    {
     "data": {
      "text/plain": [
       "False"
      ]
     },
     "execution_count": 23,
     "metadata": {},
     "output_type": "execute_result"
    }
   ],
   "source": [
    "[1,2,3]==[3,2,1]"
   ]
  },
  {
   "cell_type": "code",
   "execution_count": 3,
   "metadata": {},
   "outputs": [
    {
     "name": "stdout",
     "output_type": "stream",
     "text": [
      "concat 3.00306510000064 milliseconds\n",
      "append 0.19774349999988772 milliseconds\n",
      "comprehension 0.0881204000006619 milliseconds\n",
      "list range 0.031072300000232644 milliseconds\n"
     ]
    }
   ],
   "source": [
    "#列表生成算法时间\n",
    "def test1():\n",
    "    l=[]\n",
    "    for i in range(1000):\n",
    "        l=l+[i]\n",
    "def test2():\n",
    "    l=[]\n",
    "    for i in range(1000):\n",
    "        l.append(i)\n",
    "def test3():\n",
    "    l=[i for i in range(1000)]\n",
    "def test4():\n",
    "    l=list(range(1000))\n",
    "from timeit import Timer\n",
    "t1=Timer('test1()','from __main__ import test1')\n",
    "print('concat',t1.timeit(number=1000),'milliseconds')\n",
    "t2=Timer('test2()','from __main__ import test2')\n",
    "print('append',t2.timeit(number=1000),'milliseconds')\n",
    "t3=Timer('test3()','from __main__ import test3')\n",
    "print('comprehension',t3.timeit(number=1000),'milliseconds')\n",
    "t4=Timer('test4()','from __main__ import test4')\n",
    "print('list range',t4.timeit(number=1000),'milliseconds')"
   ]
  },
  {
   "cell_type": "code",
   "execution_count": 5,
   "metadata": {},
   "outputs": [
    {
     "data": {
      "text/plain": [
       "0.12686029999986204"
      ]
     },
     "execution_count": 5,
     "metadata": {},
     "output_type": "execute_result"
    }
   ],
   "source": [
    "import timeit\n",
    "popzero=timeit.Timer('x.pop(0)','from __main__ import x')\n",
    "popend=timeit.Timer('x.pop()','from __main__ import x')\n",
    "x=list(range(200000))\n",
    "popzero.timeit(number=1000)"
   ]
  },
  {
   "cell_type": "code",
   "execution_count": 6,
   "metadata": {},
   "outputs": [
    {
     "data": {
      "text/plain": [
       "0.00033800000073824776"
      ]
     },
     "execution_count": 6,
     "metadata": {},
     "output_type": "execute_result"
    }
   ],
   "source": [
    "x=list(range(200000))\n",
    "popend.timeit(number=1000)"
   ]
  },
  {
   "cell_type": "code",
   "execution_count": 1,
   "metadata": {},
   "outputs": [
    {
     "name": "stdout",
     "output_type": "stream",
     "text": [
      "pop(0) pop()\n",
      "        0.80293,        0.00017\n",
      "        2.22443,        0.00016\n",
      "        3.19780,        0.00015\n",
      "        4.34164,        0.00020\n",
      "        6.57006,        0.00016\n",
      "        7.32653,        0.00040\n",
      "        8.32611,        0.00025\n",
      "       10.47300,        0.00016\n",
      "       10.93836,        0.00016\n",
      "       12.02214,        0.00016\n"
     ]
    }
   ],
   "source": [
    "#证明pop(0)时间复杂度是O(n)，pop()的是O(1)\n",
    "import timeit\n",
    "popzero=timeit.Timer('x.pop(0)','from __main__ import x')\n",
    "popend=timeit.Timer('x.pop()','from __main__ import x')\n",
    "print('pop(0) pop()')\n",
    "for i in range(1000000,10000001,1000000):\n",
    "    x=list(range(i))\n",
    "    pt=popend.timeit(number=1000)\n",
    "    x=list(range(i))\n",
    "    pz=popzero.timeit(number=1000)\n",
    "    print('%15.5f,%15.5f'%(pz,pt))"
   ]
  },
  {
   "cell_type": "code",
   "execution_count": 2,
   "metadata": {},
   "outputs": [
    {
     "name": "stdout",
     "output_type": "stream",
     "text": [
      "10000,      0.133,      0.002\n",
      "30000,      0.376,      0.003\n",
      "50000,      0.627,      0.002\n",
      "70000,      0.891,      0.002\n",
      "90000,      1.098,      0.002\n",
      "110000,      1.363,      0.002\n",
      "130000,      1.583,      0.002\n",
      "150000,      1.867,      0.002\n",
      "170000,      2.297,      0.002\n",
      "190000,      2.307,      0.003\n",
      "210000,      2.534,      0.002\n",
      "230000,      2.814,      0.003\n",
      "250000,      3.054,      0.004\n",
      "270000,      3.492,      0.002\n",
      "290000,      3.601,      0.004\n",
      "310000,      3.871,      0.002\n",
      "330000,      4.324,      0.002\n",
      "350000,      4.634,      0.002\n",
      "370000,      4.571,      0.003\n",
      "390000,      4.835,      0.002\n",
      "410000,      5.036,      0.002\n",
      "430000,      5.223,      0.002\n",
      "450000,      5.562,      0.002\n",
      "470000,      6.063,      0.002\n",
      "490000,      6.017,      0.002\n",
      "510000,      6.120,      0.003\n",
      "530000,      6.690,      0.003\n",
      "550000,      6.807,      0.003\n",
      "570000,      7.203,      0.004\n",
      "590000,      7.137,      0.003\n",
      "610000,      7.784,      0.003\n",
      "630000,      7.995,      0.002\n",
      "650000,      8.012,      0.003\n",
      "670000,      8.553,      0.002\n",
      "690000,      8.920,      0.002\n",
      "710000,      8.777,      0.004\n",
      "730000,      9.586,      0.002\n",
      "750000,      8.973,      0.002\n",
      "770000,      9.794,      0.002\n",
      "790000,      9.464,      0.002\n",
      "810000,      9.816,      0.002\n",
      "830000,     10.461,      0.002\n",
      "850000,     10.895,      0.004\n",
      "870000,     11.287,      0.002\n",
      "890000,     11.402,      0.002\n",
      "910000,     11.579,      0.002\n",
      "930000,     11.638,      0.002\n",
      "950000,     11.483,      0.002\n",
      "970000,     12.545,      0.004\n",
      "990000,     12.341,      0.004\n"
     ]
    }
   ],
   "source": [
    "import timeit\n",
    "import random\n",
    "\n",
    "for i in range(10000, 1000001, 20000):\n",
    "    t = timeit.Timer(\"random.randrange(%d) in x\" % i,\n",
    "        \"from __main__ import random, x\")\n",
    "    x = list(range(i))\n",
    "    lst_time = t.timeit(number=1000)\n",
    "    x = {j:None for j in range(i)}\n",
    "    d_time = t.timeit(number=1000)\n",
    "    print(\"%d, %10.3f, %10.3f\" % (i, lst_time, d_time))"
   ]
  },
  {
   "cell_type": "code",
   "execution_count": 5,
   "metadata": {},
   "outputs": [
    {
     "data": {
      "text/plain": [
       "5520"
      ]
     },
     "execution_count": 5,
     "metadata": {},
     "output_type": "execute_result"
    }
   ],
   "source": [
    "import random\n",
    "random.randrange(10000)"
   ]
  },
  {
   "cell_type": "code",
   "execution_count": 18,
   "metadata": {},
   "outputs": [
    {
     "name": "stdout",
     "output_type": "stream",
     "text": [
      "0.00006\n",
      "0.00006\n",
      "0.00006\n",
      "0.00006\n",
      "0.00024\n",
      "0.00006\n",
      "0.00006\n",
      "0.00006\n",
      "0.00006\n",
      "0.00006\n"
     ]
    }
   ],
   "source": [
    "\n",
    "from timeit import Timer\n",
    "t1=Timer('x[200]','from __main__ import x')\n",
    "for i in range(100000,1000001,100000):\n",
    "    \n",
    "    x=list(range(i))\n",
    "    pt=t1.timeit(number=1000)\n",
    "    print('%.5f'%pt)"
   ]
  },
  {
   "cell_type": "code",
   "execution_count": 19,
   "metadata": {},
   "outputs": [
    {
     "data": {
      "text/plain": [
       "[0, 1, 2, 3, 4, 5, 6, 7, 8, 9]"
      ]
     },
     "execution_count": 19,
     "metadata": {},
     "output_type": "execute_result"
    }
   ],
   "source": [
    "x=list(range(10))\n",
    "x"
   ]
  },
  {
   "cell_type": "code",
   "execution_count": 20,
   "metadata": {},
   "outputs": [],
   "source": [
    "del x[1]"
   ]
  },
  {
   "cell_type": "code",
   "execution_count": 21,
   "metadata": {},
   "outputs": [
    {
     "data": {
      "text/plain": [
       "[0, 2, 3, 4, 5, 6, 7, 8, 9]"
      ]
     },
     "execution_count": 21,
     "metadata": {},
     "output_type": "execute_result"
    }
   ],
   "source": [
    "x"
   ]
  },
  {
   "cell_type": "code",
   "execution_count": 22,
   "metadata": {},
   "outputs": [],
   "source": [
    "del x[2:4]"
   ]
  },
  {
   "cell_type": "code",
   "execution_count": 23,
   "metadata": {},
   "outputs": [
    {
     "data": {
      "text/plain": [
       "[0, 2, 5, 6, 7, 8, 9]"
      ]
     },
     "execution_count": 23,
     "metadata": {},
     "output_type": "execute_result"
    }
   ],
   "source": [
    "x"
   ]
  },
  {
   "cell_type": "code",
   "execution_count": 24,
   "metadata": {},
   "outputs": [],
   "source": [
    "a={'a':1,'b':2,'c':3}\n",
    "del a['a']"
   ]
  },
  {
   "cell_type": "code",
   "execution_count": 25,
   "metadata": {},
   "outputs": [
    {
     "data": {
      "text/plain": [
       "{'b': 2, 'c': 3}"
      ]
     },
     "execution_count": 25,
     "metadata": {},
     "output_type": "execute_result"
    }
   ],
   "source": [
    "a"
   ]
  },
  {
   "cell_type": "code",
   "execution_count": 29,
   "metadata": {},
   "outputs": [
    {
     "data": {
      "text/plain": [
       "5"
      ]
     },
     "execution_count": 29,
     "metadata": {},
     "output_type": "execute_result"
    }
   ],
   "source": [
    "x=[23,4,4,3,2,5,6]\n",
    "def find(x,k):\n",
    "    x.sort()\n",
    "    return x[k-1]\n",
    "find(x,5)"
   ]
  },
  {
   "cell_type": "code",
   "execution_count": 27,
   "metadata": {},
   "outputs": [
    {
     "data": {
      "text/plain": [
       "[2, 3, 4, 4, 5, 6, 23]"
      ]
     },
     "execution_count": 27,
     "metadata": {},
     "output_type": "execute_result"
    }
   ],
   "source": [
    "x"
   ]
  },
  {
   "cell_type": "code",
   "execution_count": null,
   "metadata": {},
   "outputs": [],
   "source": []
  }
 ],
 "metadata": {
  "kernelspec": {
   "display_name": "Python 3",
   "language": "python",
   "name": "python3"
  },
  "language_info": {
   "codemirror_mode": {
    "name": "ipython",
    "version": 3
   },
   "file_extension": ".py",
   "mimetype": "text/x-python",
   "name": "python",
   "nbconvert_exporter": "python",
   "pygments_lexer": "ipython3",
   "version": "3.7.6"
  }
 },
 "nbformat": 4,
 "nbformat_minor": 2
}
