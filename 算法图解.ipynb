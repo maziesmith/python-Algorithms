{
 "cells": [
  {
   "cell_type": "code",
   "execution_count": 3,
   "metadata": {},
   "outputs": [
    {
     "name": "stdout",
     "output_type": "stream",
     "text": [
      "4\n"
     ]
    }
   ],
   "source": [
    "def binary_search(list,item):\n",
    "    low=0\n",
    "    high=len(list)-1\n",
    "    \n",
    "    while low<=high: #只要范围没有缩小到只包含一个元素\n",
    "        mid=(low+high)//2 #就检查中间的元素\n",
    "        guess=list[mid]\n",
    "        if guess==item:\n",
    "            return mid\n",
    "        elif guess>item:\n",
    "            high=mid-1\n",
    "        else:\n",
    "            low=mid+1\n",
    "    return None\n",
    "my_list=[1,2,3,4,5]\n",
    "print(binary_search(my_list,5))"
   ]
  },
  {
   "cell_type": "code",
   "execution_count": 4,
   "metadata": {},
   "outputs": [
    {
     "name": "stdout",
     "output_type": "stream",
     "text": [
      "None\n"
     ]
    }
   ],
   "source": [
    "print(binary_search(my_list,-2))"
   ]
  },
  {
   "cell_type": "code",
   "execution_count": 6,
   "metadata": {},
   "outputs": [
    {
     "name": "stdout",
     "output_type": "stream",
     "text": [
      "[1, 2, 3, 4, 4, 10]\n"
     ]
    }
   ],
   "source": [
    "#Find the smallest value in an array\n",
    "def findSmallest(arr):\n",
    "    #Stores the smallest value\n",
    "    smallest=arr[0]\n",
    "    #Store the index of the smallest value\n",
    "    smallest_index=0\n",
    "    for i in range(1,len(arr)):\n",
    "        if arr[i]<smallest:\n",
    "            smallest=arr[i]\n",
    "            smallest_index=i\n",
    "    return smallest_index\n",
    "\n",
    "#Sort array\n",
    "def selectionSort(arr):\n",
    "    newArr=[]\n",
    "    for i in range(len(arr)):\n",
    "        #find the smallest element in the array and adds it to the new array\n",
    "        smallest=findSmallest(arr)\n",
    "        newArr.append(arr.pop(smallest))\n",
    "    return newArr\n",
    "print(selectionSort([2,3,4,1,10,4]))"
   ]
  },
  {
   "cell_type": "code",
   "execution_count": 7,
   "metadata": {},
   "outputs": [
    {
     "name": "stdout",
     "output_type": "stream",
     "text": [
      "5\n",
      "4\n",
      "3\n",
      "2\n",
      "1\n"
     ]
    },
    {
     "data": {
      "text/plain": [
       "0"
      ]
     },
     "execution_count": 7,
     "metadata": {},
     "output_type": "execute_result"
    }
   ],
   "source": [
    "#递归\n",
    "def countdown(i):\n",
    "    #base case\n",
    "    if i<=0: #基线条件\n",
    "        return 0\n",
    "    else:#递归条件\n",
    "        print(i)\n",
    "        return countdown(i-1)\n",
    "countdown(5)"
   ]
  },
  {
   "cell_type": "code",
   "execution_count": 10,
   "metadata": {},
   "outputs": [
    {
     "name": "stdout",
     "output_type": "stream",
     "text": [
      "Hello,adit!\n",
      "How are you,adit?\n",
      "Getting ready to say bye...\n",
      "OK,bye!\n"
     ]
    }
   ],
   "source": [
    "#调用栈\n",
    "def greet2(name):\n",
    "    print('How are you,'+name+'?')\n",
    "def bye():\n",
    "    print('OK,bye!')\n",
    "    \n",
    "def greet(name):\n",
    "    print('Hello,'+name+'!')\n",
    "    greet2(name)\n",
    "    print('Getting ready to say bye...')\n",
    "    bye()\n",
    "greet('adit')"
   ]
  },
  {
   "cell_type": "code",
   "execution_count": 11,
   "metadata": {},
   "outputs": [
    {
     "name": "stdout",
     "output_type": "stream",
     "text": [
      "120\n"
     ]
    }
   ],
   "source": [
    "#递归调用栈\n",
    "def fact(x):\n",
    "    if x==1:\n",
    "        return 1\n",
    "    else:\n",
    "        return x*fact(x-1)\n",
    "print(fact(5))"
   ]
  },
  {
   "cell_type": "code",
   "execution_count": 12,
   "metadata": {},
   "outputs": [
    {
     "data": {
      "text/plain": [
       "1"
      ]
     },
     "execution_count": 12,
     "metadata": {},
     "output_type": "execute_result"
    }
   ],
   "source": [
    "a=[1,2,3,4]\n",
    "a.pop(0)"
   ]
  },
  {
   "cell_type": "code",
   "execution_count": 13,
   "metadata": {},
   "outputs": [
    {
     "data": {
      "text/plain": [
       "[2, 3, 4]"
      ]
     },
     "execution_count": 13,
     "metadata": {},
     "output_type": "execute_result"
    }
   ],
   "source": [
    "a"
   ]
  },
  {
   "cell_type": "code",
   "execution_count": 14,
   "metadata": {},
   "outputs": [
    {
     "data": {
      "text/plain": [
       "[3, 4]"
      ]
     },
     "execution_count": 14,
     "metadata": {},
     "output_type": "execute_result"
    }
   ],
   "source": [
    "a[1:]"
   ]
  },
  {
   "cell_type": "code",
   "execution_count": 16,
   "metadata": {},
   "outputs": [
    {
     "data": {
      "text/plain": [
       "10"
      ]
     },
     "execution_count": 16,
     "metadata": {},
     "output_type": "execute_result"
    }
   ],
   "source": [
    "#递归法求和\n",
    "def sum(arr):\n",
    "    if arr==[]:\n",
    "        return 0\n",
    "    else:\n",
    "        return arr[0]+sum(arr[1:])\n",
    "sum([1,2,3,4])"
   ]
  },
  {
   "cell_type": "code",
   "execution_count": 17,
   "metadata": {},
   "outputs": [
    {
     "data": {
      "text/plain": [
       "5"
      ]
     },
     "execution_count": 17,
     "metadata": {},
     "output_type": "execute_result"
    }
   ],
   "source": [
    "#递归法求数组元素个数\n",
    "def num(lst):\n",
    "    if lst==[]:\n",
    "        return 0\n",
    "    else:\n",
    "        return 1+num(lst[1:])\n",
    "num([1,2,3,4,5])"
   ]
  },
  {
   "cell_type": "code",
   "execution_count": null,
   "metadata": {},
   "outputs": [],
   "source": [
    "#递归法求最大值\n",
    "def max(list):\n",
    "    if len(list)==2:\n",
    "        return list[0] if list[0]>list[1] else list[1]\n",
    "    sub_max=max(list[1:])\n",
    "    return list[0] if list[0]>sub_max else sub_max\n",
    "max([1])\n",
    "#这个有问题，1个值时不返回值"
   ]
  },
  {
   "cell_type": "code",
   "execution_count": 21,
   "metadata": {},
   "outputs": [
    {
     "data": {
      "text/plain": [
       "4"
      ]
     },
     "execution_count": 21,
     "metadata": {},
     "output_type": "execute_result"
    }
   ],
   "source": [
    "#递归法求最大值\n",
    "def max_(lst):\n",
    "    if len(lst)==0:\n",
    "        return None\n",
    "    if len(lst)==1:\n",
    "        return lst[0]\n",
    "    else:\n",
    "        sub_max=max_(lst[1:])\n",
    "        return lst[0] if lst[0]>sub_max else sub_max\n",
    "max_([1,2,3,4])"
   ]
  },
  {
   "cell_type": "code",
   "execution_count": 23,
   "metadata": {},
   "outputs": [
    {
     "name": "stdout",
     "output_type": "stream",
     "text": [
      "[1, 2, 3, 4, 5]\n"
     ]
    }
   ],
   "source": [
    "#快速排序\n",
    "def quicksort(array):\n",
    "    if len(array)<2:\n",
    "        #base case,array with 0 or 1 element are already sorted\n",
    "        return array\n",
    "    else:\n",
    "        #recursive case\n",
    "        pivot=array[0]\n",
    "        #sub-array of all the elements less than the pivot\n",
    "        less=[i for i in array[1:] if i <=pivot]\n",
    "        #sub-array of all the elements greater than the pivot\n",
    "        greater=[i for i in array[1:] if i >pivot]\n",
    "        return quicksort(less)+[pivot]+quicksort(greater)\n",
    "print(quicksort([2,5,1,4,3]))"
   ]
  },
  {
   "cell_type": "code",
   "execution_count": null,
   "metadata": {},
   "outputs": [],
   "source": [
    "#创建乘法表\n",
    "def mul(arr1):\n",
    "    if len(arr1)==0:\n",
    "        return None\n",
    "    if len(arr1)==1:\n",
    "        return '{}*{}={}'.format(arr1[0],arr1[0],arr1[0]*arr1[0])\n",
    "    else:\n",
    "        return \n",
    "        "
   ]
  },
  {
   "cell_type": "code",
   "execution_count": 28,
   "metadata": {},
   "outputs": [
    {
     "name": "stdout",
     "output_type": "stream",
     "text": [
      "1*1=1\n"
     ]
    }
   ],
   "source": [
    "a=[1]\n",
    "print('{}*{}={}'.format(a[0],a[0],a[0]*a[0]))"
   ]
  },
  {
   "cell_type": "code",
   "execution_count": 5,
   "metadata": {},
   "outputs": [
    {
     "name": "stdout",
     "output_type": "stream",
     "text": [
      "{'apple': 0.67, 'milk': 1.49, 'avocado': 1.49}\n"
     ]
    }
   ],
   "source": [
    "#散列表\n",
    "book={'apple':0.67,'milk':1.49,'avocado':1.49}\n",
    "print(book)"
   ]
  },
  {
   "cell_type": "code",
   "execution_count": 6,
   "metadata": {},
   "outputs": [
    {
     "name": "stdout",
     "output_type": "stream",
     "text": [
      "let them vote!\n"
     ]
    }
   ],
   "source": [
    "voted={}\n",
    "def check_voter(name):\n",
    "    if voted.get(name):\n",
    "        print('Kick them out!')\n",
    "    else:\n",
    "        voted[name]=True\n",
    "        print('let them vote!')\n",
    "        \n",
    "check_voter('tom')"
   ]
  },
  {
   "cell_type": "code",
   "execution_count": 7,
   "metadata": {},
   "outputs": [
    {
     "name": "stdout",
     "output_type": "stream",
     "text": [
      "let them vote!\n"
     ]
    }
   ],
   "source": [
    "check_voter('bob')"
   ]
  },
  {
   "cell_type": "code",
   "execution_count": 8,
   "metadata": {},
   "outputs": [
    {
     "name": "stdout",
     "output_type": "stream",
     "text": [
      "Kick them out!\n"
     ]
    }
   ],
   "source": [
    "check_voter('bob')"
   ]
  },
  {
   "cell_type": "code",
   "execution_count": 9,
   "metadata": {},
   "outputs": [
    {
     "data": {
      "text/plain": [
       "{'tom': True, 'bob': True}"
      ]
     },
     "execution_count": 9,
     "metadata": {},
     "output_type": "execute_result"
    }
   ],
   "source": [
    "voted"
   ]
  },
  {
   "cell_type": "code",
   "execution_count": 12,
   "metadata": {},
   "outputs": [
    {
     "name": "stdout",
     "output_type": "stream",
     "text": [
      "thom is a mango seller!\n"
     ]
    },
    {
     "data": {
      "text/plain": [
       "True"
      ]
     },
     "execution_count": 12,
     "metadata": {},
     "output_type": "execute_result"
    }
   ],
   "source": [
    "#广度优先搜索\n",
    "from collections import deque\n",
    "def person_is_seller(name):\n",
    "    return name[-1]=='m'\n",
    "\n",
    "graph={}\n",
    "graph['you']=['alice','bob','chaire']\n",
    "graph['bob']=['anuj','peggy']\n",
    "graph['alice']=['peggy']\n",
    "graph['chaire']=['thom','jonny']\n",
    "graph['anuj']=[]\n",
    "graph['peggy']=[]\n",
    "graph['thom']=[]\n",
    "graph['jonny']=[]\n",
    "\n",
    "def search(name):\n",
    "    search_queue=deque()\n",
    "    search_queue+=graph[name]\n",
    "    #This array is how you keep track of which people you've searched before\n",
    "    searched=[]\n",
    "    while search_queue:\n",
    "        person=search_queue.popleft()\n",
    "        #only search this person if you haven't already searched them.\n",
    "        if person not in searched:\n",
    "            if person_is_seller(person):\n",
    "                print(person+' is a mango seller!')\n",
    "                return True\n",
    "            else:\n",
    "                search_queue+=graph[person]\n",
    "                #marks this person as searched\n",
    "                searched.append(person)\n",
    "    return False\n",
    "search('you')"
   ]
  },
  {
   "cell_type": "code",
   "execution_count": 16,
   "metadata": {},
   "outputs": [
    {
     "name": "stdout",
     "output_type": "stream",
     "text": [
      "Cost from the start to each node:\n",
      "{'a': 5, 'b': 2, 'fin': 6}\n"
     ]
    }
   ],
   "source": [
    "#狄克斯特拉算法\n",
    "#the graph\n",
    "graph={}\n",
    "graph['start']={}\n",
    "graph['start']['a']=6\n",
    "graph['start']['b']=2\n",
    "\n",
    "graph['a']={}\n",
    "graph['a']['fin']=1\n",
    "\n",
    "graph['b']={}\n",
    "graph['b']['a']=3\n",
    "graph['b']['fin']=5\n",
    "\n",
    "graph['fin']={}\n",
    "\n",
    "#the costs table\n",
    "infinity=float('inf')\n",
    "costs={}\n",
    "costs['a']=6\n",
    "costs['b']=2\n",
    "costs['fin']=infinity\n",
    "\n",
    "#the parents table\n",
    "parents={}\n",
    "parents['a']='start'\n",
    "parents['b']='start'\n",
    "parents['fin']=None\n",
    "\n",
    "processed=[]\n",
    "\n",
    "def find_lowest_cost_node(costs):\n",
    "    lowest_cost=float('inf')\n",
    "    lowest_cost_node=None\n",
    "    #Go through each node.\n",
    "    for node in costs:\n",
    "        cost=costs[node]\n",
    "        #if it's the lowest cost so far and hasn't been processed yet\n",
    "        if cost<lowest_cost and node not in processed:\n",
    "            #...set it as the new lowest-cost node\n",
    "            lowest_cost=cost\n",
    "            lowest_cost_node=node\n",
    "    return lowest_cost_node\n",
    "\n",
    "#find the lowest-cost node that you haven't processed yet\n",
    "node=find_lowest_cost_node(costs)\n",
    "#if you've processed all the nodes,this while loop is done\n",
    "while node is not None:\n",
    "    cost=costs[node]\n",
    "    #go through all the neighbors of this node\n",
    "    neighbors=graph[node]\n",
    "    for n in neighbors.keys():\n",
    "        new_cost=cost+neighbors[n]\n",
    "        #if it's cheaper to get to this neighbor by going through this node\n",
    "        if costs[n]>new_cost:\n",
    "            #...update the cost for this node\n",
    "            costs[n]=new_cost\n",
    "            #this node becomes the new parent for this neighbor\n",
    "            parents[n]=node\n",
    "    #mark the node as processed\n",
    "    processed.append(node)\n",
    "    #find the next node to process,and loop\n",
    "    node=find_lowest_cost_node(costs)\n",
    "    \n",
    "print('Cost from the start to each node:')\n",
    "print(costs)"
   ]
  },
  {
   "cell_type": "code",
   "execution_count": 17,
   "metadata": {},
   "outputs": [
    {
     "name": "stdout",
     "output_type": "stream",
     "text": [
      "{'kthree', 'kfive', 'ktwo', 'kone'}\n"
     ]
    }
   ],
   "source": [
    "#贪婪算法、近似算法\n",
    "#you pass an array in,and it gets converted to a set\n",
    "states_needed=set(['mt','wa','or','id','nv','ut','ca','az'])\n",
    "\n",
    "stations={}\n",
    "stations['kone']=set(['id','nv','ut'])\n",
    "stations['ktwo']=set(['wa','id','mt'])\n",
    "stations['kthree']=set(['or','nv','ca'])\n",
    "stations['kfour']=set(['nv','ut'])\n",
    "stations['kfive']=set(['ca','az'])\n",
    "\n",
    "final_stations=set()\n",
    "\n",
    "while states_needed:\n",
    "    best_station=None\n",
    "    states_covered=set()\n",
    "    for station,states in stations.items():\n",
    "        covered=states_needed&states\n",
    "        if len(covered)>len(states_covered):\n",
    "            best_station=station\n",
    "            states_covered=covered\n",
    "            \n",
    "    states_needed-=states_covered\n",
    "    final_stations.add(best_station)\n",
    "print(final_stations)"
   ]
  },
  {
   "cell_type": "code",
   "execution_count": null,
   "metadata": {},
   "outputs": [],
   "source": [
    "#动态规划,以下为伪代码\n",
    "# if word_a[i]==word_b[j]:\n",
    "#     #the letters mathc\n",
    "#     cell[i][j]=cell[i-1][j-1]+1\n",
    "# else:\n",
    "#     cell[i][j]=max(cell[i-1][j],cell[i][j-1])"
   ]
  }
 ],
 "metadata": {
  "kernelspec": {
   "display_name": "Python 3",
   "language": "python",
   "name": "python3"
  },
  "language_info": {
   "codemirror_mode": {
    "name": "ipython",
    "version": 3
   },
   "file_extension": ".py",
   "mimetype": "text/x-python",
   "name": "python",
   "nbconvert_exporter": "python",
   "pygments_lexer": "ipython3",
   "version": "3.7.2"
  }
 },
 "nbformat": 4,
 "nbformat_minor": 2
}
