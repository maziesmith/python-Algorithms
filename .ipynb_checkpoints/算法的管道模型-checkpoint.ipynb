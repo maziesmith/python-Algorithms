{
 "cells": [
  {
   "cell_type": "code",
   "execution_count": 1,
   "metadata": {},
   "outputs": [
    {
     "name": "stdout",
     "output_type": "stream",
     "text": [
      "训练集数据形态： (150, 2)\n",
      "测试集数据形态： (50, 2)\n"
     ]
    }
   ],
   "source": [
    "#导入数据集生成器\n",
    "from sklearn.datasets import make_blobs\n",
    "#导入数据集拆分工具\n",
    "from sklearn.model_selection import train_test_split\n",
    "#导入预处理工具\n",
    "from sklearn.preprocessing import StandardScaler\n",
    "#导入多层感知器神经网络\n",
    "from sklearn.neural_network import MLPClassifier\n",
    "#导入画图工具\n",
    "import matplotlib.pyplot as plt\n",
    "#生成样本数量为200，分类为2，标准差为5的数据集\n",
    "X,y=make_blobs(n_samples=200,centers=2,cluster_std=5)\n",
    "#将数据集拆分为训练集和测试集\n",
    "X_train,X_test,y_train,y_test=train_test_split(X,y,random_state=38)\n",
    "#对数据进行预处理\n",
    "scaler=StandardScaler().fit(X_train)\n",
    "X_train_scaled=scaler.transform(X_train)\n",
    "X_test_scaled=scaler.transform(X_test)\n",
    "#将与处理后的数据形态进行打印\n",
    "print('训练集数据形态：',X_train_scaled.shape)\n",
    "print('测试集数据形态：',X_test_scaled.shape)"
   ]
  },
  {
   "cell_type": "code",
   "execution_count": 2,
   "metadata": {},
   "outputs": [
    {
     "data": {
      "image/png": "[encoded data removed]",
      "text/plain": [
       "<Figure size 432x288 with 1 Axes>"
      ]
     },
     "metadata": {
      "needs_background": "light"
     },
     "output_type": "display_data"
    }
   ],
   "source": [
    "#原始训练集\n",
    "plt.scatter(X_train[:,0],X_train[:,1])\n",
    "#经过预处理的训练集\n",
    "plt.scatter(X_train_scaled[:,0],X_train_scaled[:,1],marker='^',edgecolor='k')\n",
    "plt.title('training set & scaled training set')\n",
    "plt.show()"
   ]
  },
  {
   "cell_type": "code",
   "execution_count": 3,
   "metadata": {},
   "outputs": [
    {
     "name": "stdout",
     "output_type": "stream",
     "text": [
      "代码运行结果：\n",
      "模型最佳得分：0.87\n",
      "模型最佳参数：{'alpha': 0.1, 'hidden_layer_sizes': (100, 100)}\n"
     ]
    }
   ],
   "source": [
    "#导入网格搜索\n",
    "from sklearn.model_selection import GridSearchCV\n",
    "#设定网格搜索的模型参数字典\n",
    "params={'hidden_layer_sizes':[(50,),(100,),(100,100)],\n",
    "       'alpha':[0.0001,0.001,0.01,0.1]}\n",
    "#建立网格搜索模型\n",
    "grid=GridSearchCV(MLPClassifier(max_iter=1600,random_state=38),param_grid=params,cv=3)\n",
    "#拟合数据\n",
    "grid.fit(X_train_scaled,y_train)\n",
    "print('代码运行结果：')\n",
    "print('模型最佳得分：{:.2f}'.format(grid.best_score_))\n",
    "print('模型最佳参数：{}'.format(grid.best_params_))"
   ]
  },
  {
   "cell_type": "code",
   "execution_count": 4,
   "metadata": {},
   "outputs": [
    {
     "name": "stdout",
     "output_type": "stream",
     "text": [
      "测试集得分：0.82\n"
     ]
    }
   ],
   "source": [
    "print('测试集得分：{}'.format(grid.score(X_test_scaled,y_test)))"
   ]
  },
  {
   "cell_type": "code",
   "execution_count": 5,
   "metadata": {},
   "outputs": [
    {
     "name": "stdout",
     "output_type": "stream",
     "text": [
      "使用管道模型的MLP模型评分：0.84\n"
     ]
    }
   ],
   "source": [
    "#导入管道模型\n",
    "from sklearn.pipeline import Pipeline\n",
    "#建立包含预处理和神经网络的管道模型\n",
    "pipeline=Pipeline([('scaler',StandardScaler()),\n",
    "                  ('mlp',MLPClassifier(max_iter=1600,random_state=38))])\n",
    "#用管道模型对训练集进行拟合\n",
    "pipeline.fit(X_train,y_train)\n",
    "#打印管道模型的分数\n",
    "print('使用管道模型的MLP模型评分：{:.2f}'.format(\n",
    "pipeline.score(X_test,y_test)))"
   ]
  },
  {
   "cell_type": "code",
   "execution_count": 6,
   "metadata": {},
   "outputs": [
    {
     "name": "stdout",
     "output_type": "stream",
     "text": [
      "代码运行结果：\n",
      "交叉验证最高分：0.87\n",
      "模型最优参数：{'mlp__alpha': 0.0001, 'mlp__hidden_layer_sizes': (100, 100)}\n",
      "测试集得分:0.84\n"
     ]
    }
   ],
   "source": [
    "#使用管道模型进行网格搜索\n",
    "#设置参数字典\n",
    "params={'mlp__hidden_layer_sizes':[(50,),(100,),(100,100)],\n",
    "       'mlp__alpha':[0.0001,0.001,0.01,0.1]}\n",
    "#将管道模型加入网格搜索\n",
    "grid=GridSearchCV(pipeline,param_grid=params,cv=3)\n",
    "#对训练集进行拟合\n",
    "grid.fit(X_train,y_train)\n",
    "print('代码运行结果：')\n",
    "print('交叉验证最高分：{:.2f}'.format(grid.best_score_))\n",
    "print('模型最优参数：{}'.format(grid.best_params_))\n",
    "print('测试集得分:{}'.format(grid.score(X_test,y_test)))"
   ]
  },
  {
   "cell_type": "code",
   "execution_count": 7,
   "metadata": {},
   "outputs": [
    {
     "name": "stdout",
     "output_type": "stream",
     "text": [
      "[('scaler', StandardScaler(copy=True, with_mean=True, with_std=True)), ('mlp', MLPClassifier(activation='relu', alpha=0.0001, batch_size='auto', beta_1=0.9,\n",
      "       beta_2=0.999, early_stopping=False, epsilon=1e-08,\n",
      "       hidden_layer_sizes=(100,), learning_rate='constant',\n",
      "       learning_rate_init=0.001, max_iter=1600, momentum=0.9,\n",
      "       n_iter_no_change=10, nesterovs_momentum=True, power_t=0.5,\n",
      "       random_state=38, shuffle=True, solver='adam', tol=0.0001,\n",
      "       validation_fraction=0.1, verbose=False, warm_start=False))]\n"
     ]
    }
   ],
   "source": [
    "#打印模型中的步骤\n",
    "print(pipeline.steps)"
   ]
  },
  {
   "cell_type": "markdown",
   "metadata": {},
   "source": [
    "#\n",
    "#使用管道模型对股票涨幅进行回归分析"
   ]
  },
  {
   "cell_type": "code",
   "execution_count": 26,
   "metadata": {},
   "outputs": [
    {
     "name": "stdout",
     "output_type": "stream",
     "text": [
      "(3681, 27) (3681,)\n"
     ]
    }
   ],
   "source": [
    "import pandas as pd\n",
    "stocks=pd.read_csv('datasets.csv',encoding='gbk')\n",
    "stocks=stocks.fillna(0)\n",
    "#定义数据及中的特征X和y\n",
    "X=stocks.loc[:,'现价':'流通股(亿)']\n",
    "y=stocks['涨幅%']\n",
    "#验证数据集形态\n",
    "print(X.shape,y.shape)"
   ]
  },
  {
   "cell_type": "code",
   "execution_count": 23,
   "metadata": {},
   "outputs": [],
   "source": []
  },
  {
   "cell_type": "code",
   "execution_count": 24,
   "metadata": {},
   "outputs": [
    {
     "data": {
      "text/plain": [
       "代码          0\n",
       "名称          0\n",
       "涨幅%         0\n",
       "现价          0\n",
       "涨跌          0\n",
       "买价          0\n",
       "卖价          0\n",
       "总量          0\n",
       "现量          0\n",
       "涨速%         0\n",
       "换手%         0\n",
       "今开          0\n",
       "最高          0\n",
       "最低          0\n",
       "昨收          0\n",
       "市盈(动)       0\n",
       "总金额         0\n",
       "量比          0\n",
       "振幅%         0\n",
       "均价          0\n",
       "内盘          0\n",
       "外盘          0\n",
       "内外比         0\n",
       "买量          0\n",
       "卖量          0\n",
       "开盘金额        0\n",
       "开盘换手Z       0\n",
       "封成比         0\n",
       "封单额         0\n",
       "流通股(亿)      0\n",
       "           ..\n",
       "净利润(亿)      0\n",
       "扣非净利润(亿)    0\n",
       "未分利润(亿)     0\n",
       "经营现金流(亿)    0\n",
       "总现金流(亿)     0\n",
       "股东人数        0\n",
       "人均持股        0\n",
       "人均市值        0\n",
       "利润同比%       0\n",
       "收入同比%       0\n",
       "市净率         0\n",
       "市现率         0\n",
       "市销率         0\n",
       "股息率%        0\n",
       "每股收益        0\n",
       "每股净资        0\n",
       "调整后净资       0\n",
       "每股公积        0\n",
       "每股未分配       0\n",
       "权益比%        0\n",
       "净益率%        0\n",
       "毛利率%        0\n",
       "营业利润率%      0\n",
       "净利润率%       0\n",
       "研发费用(亿)     0\n",
       "员工人数        0\n",
       "交易代码        0\n",
       "自选日         0\n",
       "自选价         0\n",
       "自选收益%       0\n",
       "Length: 106, dtype: int64"
      ]
     },
     "execution_count": 24,
     "metadata": {},
     "output_type": "execute_result"
    }
   ],
   "source": []
  },
  {
   "cell_type": "code",
   "execution_count": 27,
   "metadata": {},
   "outputs": [
    {
     "name": "stdout",
     "output_type": "stream",
     "text": [
      "模型平均分：-745938624460.06\n"
     ]
    }
   ],
   "source": [
    "#导入交叉验证\n",
    "from sklearn.model_selection import cross_val_score\n",
    "#导入MLP神经网络\n",
    "from sklearn.neural_network import MLPRegressor\n",
    "#使用交叉验证对MLP模型进行评分\n",
    "scores=cross_val_score(MLPRegressor(random_state=38),X,y,cv=3)\n",
    "#打印评分\n",
    "print('模型平均分：{:.2f}'.format(scores.mean()))"
   ]
  },
  {
   "cell_type": "code",
   "execution_count": 28,
   "metadata": {},
   "outputs": [
    {
     "name": "stdout",
     "output_type": "stream",
     "text": [
      "[('scaler', StandardScaler(copy=True, with_mean=True, with_std=True)), ('mlp', MLPRegressor(activation='relu', alpha=0.0001, batch_size='auto', beta_1=0.9,\n",
      "       beta_2=0.999, early_stopping=False, epsilon=1e-08,\n",
      "       hidden_layer_sizes=(100,), learning_rate='constant',\n",
      "       learning_rate_init=0.001, max_iter=200, momentum=0.9,\n",
      "       n_iter_no_change=10, nesterovs_momentum=True, power_t=0.5,\n",
      "       random_state=38, shuffle=True, solver='adam', tol=0.0001,\n",
      "       validation_fraction=0.1, verbose=False, warm_start=False))]\n",
      "\n",
      " [('standardscaler', StandardScaler(copy=True, with_mean=True, with_std=True)), ('mlpregressor', MLPRegressor(activation='relu', alpha=0.0001, batch_size='auto', beta_1=0.9,\n",
      "       beta_2=0.999, early_stopping=False, epsilon=1e-08,\n",
      "       hidden_layer_sizes=(100,), learning_rate='constant',\n",
      "       learning_rate_init=0.001, max_iter=200, momentum=0.9,\n",
      "       n_iter_no_change=10, nesterovs_momentum=True, power_t=0.5,\n",
      "       random_state=38, shuffle=True, solver='adam', tol=0.0001,\n",
      "       validation_fraction=0.1, verbose=False, warm_start=False))]\n"
     ]
    }
   ],
   "source": [
    "#导入mkae_pipeline模块\n",
    "from sklearn.pipeline import make_pipeline\n",
    "#对比两种方法的语法\n",
    "pipeline=Pipeline([('scaler',StandardScaler()),\n",
    "                  ('mlp',MLPRegressor(random_state=38))])\n",
    "pipe=make_pipeline(StandardScaler(),MLPRegressor(random_state=38))\n",
    "#打印两种建立管道模型方法的步骤\n",
    "print(pipeline.steps)\n",
    "print('\\n',pipe.steps)"
   ]
  },
  {
   "cell_type": "code",
   "execution_count": 30,
   "metadata": {},
   "outputs": [
    {
     "name": "stdout",
     "output_type": "stream",
     "text": [
      "模型平均分:-1.02\n"
     ]
    }
   ],
   "source": [
    "#进行交叉验证\n",
    "scores=cross_val_score(pipe,X,y,cv=3)\n",
    "#打印交叉验证得分\n",
    "print('模型平均分:{:.2f}'.format(scores.mean()))"
   ]
  },
  {
   "cell_type": "code",
   "execution_count": 31,
   "metadata": {},
   "outputs": [
    {
     "data": {
      "text/plain": [
       "[('standardscaler', StandardScaler(copy=True, with_mean=True, with_std=True)),\n",
       " ('selectfrommodel',\n",
       "  SelectFromModel(estimator=RandomForestRegressor(bootstrap=True, criterion='mse', max_depth=None,\n",
       "             max_features='auto', max_leaf_nodes=None,\n",
       "             min_impurity_decrease=0.0, min_impurity_split=None,\n",
       "             min_samples_leaf=1, min_samples_split=2,\n",
       "             min_weight_fraction_leaf=0.0, n_estimators='warn', n_jobs=None,\n",
       "             oob_score=False, random_state=38, verbose=0, warm_start=False),\n",
       "          max_features=None, norm_order=1, prefit=False, threshold=None)),\n",
       " ('mlpregressor',\n",
       "  MLPRegressor(activation='relu', alpha=0.0001, batch_size='auto', beta_1=0.9,\n",
       "         beta_2=0.999, early_stopping=False, epsilon=1e-08,\n",
       "         hidden_layer_sizes=(100,), learning_rate='constant',\n",
       "         learning_rate_init=0.001, max_iter=200, momentum=0.9,\n",
       "         n_iter_no_change=10, nesterovs_momentum=True, power_t=0.5,\n",
       "         random_state=38, shuffle=True, solver='adam', tol=0.0001,\n",
       "         validation_fraction=0.1, verbose=False, warm_start=False))]"
      ]
     },
     "execution_count": 31,
     "metadata": {},
     "output_type": "execute_result"
    }
   ],
   "source": [
    "#导入特征选择模块\n",
    "from sklearn.feature_selection import SelectFromModel\n",
    "#导入随机森林模型\n",
    "from sklearn.ensemble import RandomForestRegressor\n",
    "#建立管道模型\n",
    "pipe=make_pipeline(StandardScaler(),SelectFromModel(RandomForestRegressor(random_state=38)),\n",
    "                  MLPRegressor(random_state=38))\n",
    "#显示管道模型步骤\n",
    "pipe.steps"
   ]
  },
  {
   "cell_type": "code",
   "execution_count": 32,
   "metadata": {},
   "outputs": [
    {
     "name": "stdout",
     "output_type": "stream",
     "text": [
      "管道模型平均分:-1.02\n"
     ]
    }
   ],
   "source": [
    "print('管道模型平均分:{:.2f}'.format(scores.mean()))"
   ]
  },
  {
   "cell_type": "code",
   "execution_count": 34,
   "metadata": {},
   "outputs": [
    {
     "name": "stderr",
     "output_type": "stream",
     "text": [
      "D:\\anaconda\\lib\\site-packages\\sklearn\\ensemble\\forest.py:246: FutureWarning: The default value of n_estimators will change from 10 in version 0.20 to 100 in 0.22.\n",
      "  \"10 in version 0.20 to 100 in 0.22.\", FutureWarning)\n"
     ]
    },
    {
     "name": "stdout",
     "output_type": "stream",
     "text": [
      "[False  True False False False False  True False False False False False\n",
      " False False  True False False False False False  True False False False\n",
      "  True  True False]\n"
     ]
    }
   ],
   "source": [
    "#使用管道模型拟合数据\n",
    "pipe.fit(X,y)\n",
    "#查询哪些特征被选择\n",
    "mask=pipe.named_steps['selectfrommodel'].get_support()\n",
    "#打印特征选择的结果\n",
    "print(mask)"
   ]
  },
  {
   "cell_type": "code",
   "execution_count": 35,
   "metadata": {},
   "outputs": [
    {
     "name": "stderr",
     "output_type": "stream",
     "text": [
      "D:\\anaconda\\lib\\site-packages\\sklearn\\ensemble\\forest.py:246: FutureWarning: The default value of n_estimators will change from 10 in version 0.20 to 100 in 0.22.\n",
      "  \"10 in version 0.20 to 100 in 0.22.\", FutureWarning)\n"
     ]
    },
    {
     "name": "stdout",
     "output_type": "stream",
     "text": [
      "最佳模型是：\n",
      "{'reg': MLPRegressor(activation='relu', alpha=0.0001, batch_size='auto', beta_1=0.9,\n",
      "       beta_2=0.999, early_stopping=False, epsilon=1e-08,\n",
      "       hidden_layer_sizes=(100,), learning_rate='constant',\n",
      "       learning_rate_init=0.001, max_iter=200, momentum=0.9,\n",
      "       n_iter_no_change=10, nesterovs_momentum=True, power_t=0.5,\n",
      "       random_state=38, shuffle=True, solver='adam', tol=0.0001,\n",
      "       validation_fraction=0.1, verbose=False, warm_start=False), 'scaler': StandardScaler(copy=True, with_mean=True, with_std=True)}\n",
      "\n",
      "模型最佳得分是：-1.02\n"
     ]
    }
   ],
   "source": [
    "#定义参数字典\n",
    "params=[{'reg':[MLPRegressor(random_state=38)],\n",
    "        'scaler':[StandardScaler(),None]},\n",
    "       {'reg':[RandomForestRegressor(random_state=38)],\n",
    "       'scaler':[None]}]\n",
    "#下面对pipeline进行实例化\n",
    "pipe=Pipeline([('scaler',StandardScaler()),('reg',MLPRegressor())])\n",
    "#对管道模型进行网格搜索\n",
    "grid=GridSearchCV(pipe,params,cv=3)\n",
    "#拟合数据\n",
    "grid.fit(X,y)\n",
    "#打印网格搜索结果\n",
    "print('最佳模型是：\\n{}'.format(grid.best_params_))\n",
    "print('\\n模型最佳得分是：{:.2f}'.format(grid.best_score_))"
   ]
  },
  {
   "cell_type": "code",
   "execution_count": null,
   "metadata": {},
   "outputs": [],
   "source": []
  }
 ],
 "metadata": {
  "kernelspec": {
   "display_name": "Python 3",
   "language": "python",
   "name": "python3"
  },
  "language_info": {
   "codemirror_mode": {
    "name": "ipython",
    "version": 3
   },
   "file_extension": ".py",
   "mimetype": "text/x-python",
   "name": "python",
   "nbconvert_exporter": "python",
   "pygments_lexer": "ipython3",
   "version": "3.7.2"
  }
 },
 "nbformat": 4,
 "nbformat_minor": 2
}
