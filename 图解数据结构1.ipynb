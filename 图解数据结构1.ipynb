{
 "cells": [
  {
   "cell_type": "code",
   "execution_count": 7,
   "metadata": {},
   "outputs": [
    {
     "name": "stdout",
     "output_type": "stream",
     "text": [
      "9\n"
     ]
    }
   ],
   "source": [
    "def Pow(x,y):\n",
    "    p=1\n",
    "    for i in range(1,y+1):\n",
    "        p*=x\n",
    "    return p\n",
    "        \n",
    "print(Pow(3,2))"
   ]
  },
  {
   "cell_type": "code",
   "execution_count": 12,
   "metadata": {},
   "outputs": [
    {
     "data": {
      "text/plain": [
       "27"
      ]
     },
     "execution_count": 12,
     "metadata": {},
     "output_type": "execute_result"
    }
   ],
   "source": [
    "def f(n):\n",
    "    if n<1:\n",
    "        return\n",
    "    else:\n",
    "        return n**n\n",
    "f(3)"
   ]
  },
  {
   "cell_type": "code",
   "execution_count": 13,
   "metadata": {},
   "outputs": [
    {
     "data": {
      "text/plain": [
       "27"
      ]
     },
     "execution_count": 13,
     "metadata": {},
     "output_type": "execute_result"
    }
   ],
   "source": [
    "def f(n):\n",
    "    if n<1:\n",
    "        return \n",
    "    else:\n",
    "        p=n\n",
    "        q=p-1\n",
    "        while q>0:\n",
    "            p=p*n\n",
    "            q=q-1\n",
    "        return p\n",
    "f(3)"
   ]
  },
  {
   "cell_type": "code",
   "execution_count": 2,
   "metadata": {},
   "outputs": [
    {
     "name": "stdout",
     "output_type": "stream",
     "text": [
      "256\n"
     ]
    }
   ],
   "source": [
    "def ass(n):\n",
    "    p=1\n",
    "    k=n\n",
    "    if n<1:\n",
    "        return 0\n",
    "    else:\n",
    "        while p<n:\n",
    "            k=k*n\n",
    "            p=p+1\n",
    "        return k\n",
    "print(ass(4))"
   ]
  },
  {
   "cell_type": "code",
   "execution_count": 3,
   "metadata": {},
   "outputs": [
    {
     "name": "stdout",
     "output_type": "stream",
     "text": [
      "第1位学生的分数：87\n",
      "第2位学生的分数：66\n",
      "第3位学生的分数：90\n",
      "第4位学生的分数：65\n",
      "第5位学生的分数：70\n",
      "--------------------\n",
      "5位学生的总分：378\n"
     ]
    }
   ],
   "source": [
    "#CH02_01.py\n",
    "Score=[87,66,90,65,70]\n",
    "Total_Score=0\n",
    "for count in range(5):\n",
    "    print('第%d位学生的分数：%d'%(count+1,Score[count]))\n",
    "    Total_Score+=Score[count]\n",
    "print('--------------------')\n",
    "print('5位学生的总分：%d'%Total_Score)"
   ]
  },
  {
   "cell_type": "code",
   "execution_count": 4,
   "metadata": {},
   "outputs": [
    {
     "name": "stdout",
     "output_type": "stream",
     "text": [
      "|a1 b1|\n",
      "|a2 b2|\n",
      "请输入a1:2\n",
      "请输入b1:1\n",
      "请输入a2:3\n",
      "请输入b2:4\n",
      "|2 1|\n",
      "|3 4|\n",
      "行列式值=5\n"
     ]
    }
   ],
   "source": [
    "#CH02_02.py\n",
    "N=2\n",
    "#声明2*2的数组arr并将所有元素设置为None\n",
    "arr=[[None]*N for row in range(N)]\n",
    "print('|a1 b1|')\n",
    "print('|a2 b2|')\n",
    "arr[0][0]=input('请输入a1:')\n",
    "arr[0][1]=input('请输入b1:')\n",
    "arr[1][0]=input('请输入a2:')\n",
    "arr[1][1]=input('请输入b2:')\n",
    "#求二阶行列式的值\n",
    "result=int(arr[0][0])*int(arr[1][1])-int(arr[0][1])*int(arr[1][0])\n",
    "print('|%d %d|'%(int(arr[0][0]),int(arr[0][1])))\n",
    "print('|%d %d|'%(int(arr[1][0]),int(arr[1][1])))\n",
    "print('行列式值=%d'%result)"
   ]
  },
  {
   "cell_type": "code",
   "execution_count": 9,
   "metadata": {},
   "outputs": [
    {
     "name": "stdout",
     "output_type": "stream",
     "text": [
      "最小值：2\n"
     ]
    }
   ],
   "source": [
    "#Ch02_03.py\n",
    "#声明一个三维数组\n",
    "num=[[[33,45,67],[23,71,66],[12,34,56]],[[2,23,34],[45,34,23],[56,67,78]]]\n",
    "value=num[0][0][0]#设置value为num数组的第一个值\n",
    "for i in range(2):\n",
    "    for j in range(3):\n",
    "        for k in range(3):\n",
    "            if value>num[i][j][k]:\n",
    "                value=num[i][j][k] #利用三重循环找到最小值\n",
    "print('最小值：%d'%value)"
   ]
  },
  {
   "cell_type": "code",
   "execution_count": 4,
   "metadata": {},
   "outputs": [
    {
     "name": "stdout",
     "output_type": "stream",
     "text": [
      "[矩阵A和矩阵B相加的结果]\n",
      "10\t11\t12\t\n",
      "13\t14\t15\t\n",
      "16\t17\t18\t\n"
     ]
    }
   ],
   "source": [
    "A=[[1,3,5],[7,9,11],[13,15,17]]\n",
    "B=[[9,8,7],[6,5,4],[3,2,1]]\n",
    "N=3\n",
    "C=[[None]*N for row in range(N)]\n",
    "for i in range(3):\n",
    "    for j in range(3):\n",
    "        C[i][j]=A[i][j]+B[i][j]\n",
    "print('[矩阵A和矩阵B相加的结果]')\n",
    "for i in range(3):\n",
    "    for j in range(3):\n",
    "        print('%d'%C[i][j],end='\\t')\n",
    "    print()"
   ]
  },
  {
   "cell_type": "code",
   "execution_count": 1,
   "metadata": {},
   "outputs": [
    {
     "name": "stdout",
     "output_type": "stream",
     "text": [
      "请输入矩阵A的维数(M,N)：\n",
      "M=2\n",
      "N=3\n",
      "请输入矩阵A的各个元素\n",
      "a00=1\n",
      "a01=2\n",
      "a02=3\n",
      "a10=4\n",
      "a11=5\n",
      "a12=6\n",
      "请输入矩阵B的维数(N,P)：\n",
      "N=3\n",
      "P=2\n",
      "请输入矩阵B的各个元素\n",
      "b00=1\n",
      "b01=2\n",
      "b10=3\n",
      "b11=1\n",
      "b20=2\n",
      "b21=3\n",
      "[A*B的结果是]\n",
      "13\t13\t31\t31\t\n"
     ]
    }
   ],
   "source": [
    "#矩阵相乘\n",
    "#CH02_05.py\n",
    "def MatrixMutiply(arrA,arrB,arrC,M,N,P):\n",
    "    global C\n",
    "    if M<=0 or N<=0 or P<=0:\n",
    "        print('[错误：维数M,N,P必须大于0]')\n",
    "        return\n",
    "    for i in range(M):\n",
    "        for j in range(P):\n",
    "            Temp=0\n",
    "            for k in range(N):\n",
    "                Temp=Temp+int(arrA[i*N+k])*int(arrB[k*P+j])\n",
    "            arrC[i*P+j]=Temp\n",
    "\n",
    "print('请输入矩阵A的维数(M,N)：')\n",
    "M=int(input('M='))\n",
    "N=int(input('N='))\n",
    "A=[None]*M*N #声明A为M*N的列表A\n",
    "\n",
    "print('请输入矩阵A的各个元素')\n",
    "for i in range(M):\n",
    "    for j in range(N):\n",
    "        A[i*N+j]=input('a%d%d='%(i,j))\n",
    "\n",
    "print('请输入矩阵B的维数(N,P)：')\n",
    "N=int(input('N='))\n",
    "P=int(input('P='))\n",
    "B=[None]*N*P #声明B为N*P的列表B\n",
    "\n",
    "print('请输入矩阵B的各个元素')\n",
    "for i in range(N):\n",
    "    for j in range(P):\n",
    "        B[i*P+j]=input('b%d%d='%(i,j))\n",
    "        \n",
    "C=[None]*M*P #声明大小为M*P的列表C\n",
    "MatrixMutiply(A,B,C,M,N,P)\n",
    "print('[A*B的结果是]')\n",
    "for i in range(M):\n",
    "    for j in range(P):\n",
    "        print('%d'%C[i*P+j],end='\\t')\n",
    "print()"
   ]
  },
  {
   "cell_type": "code",
   "execution_count": 8,
   "metadata": {},
   "outputs": [
    {
     "name": "stdout",
     "output_type": "stream",
     "text": [
      "[原设置的矩阵内容]\n",
      "1\t2\t3\t4\t\n",
      "5\t6\t7\t8\t\n",
      "9\t10\t11\t12\t\n",
      "13\t14\t15\t16\t\n",
      "[转置矩阵的内容为]\n",
      "1\t5\t9\t13\t\n",
      "2\t6\t10\t14\t\n",
      "3\t7\t11\t15\t\n",
      "4\t8\t12\t16\t\n"
     ]
    }
   ],
   "source": [
    "#转置矩阵\n",
    "#CH02_06.py\n",
    "arrA=[[1,2,3,4],[5,6,7,8],[9,10,11,12],[13,14,15,16]]\n",
    "N=4\n",
    "#声明4*4数组arr\n",
    "arrB=[[None] * N for row in range(N)]\n",
    "print('[原设置的矩阵内容]')\n",
    "for i in range(4):\n",
    "    for j in range(4):\n",
    "        print('%d'%arrA[i][j],end='\\t')\n",
    "    print()\n",
    "    \n",
    "#进行矩阵你操作\n",
    "for i in range(4):\n",
    "    for j in range(4):\n",
    "        arrB[j][i]=arrA[i][j]\n",
    "        \n",
    "print('[转置矩阵的内容为]')\n",
    "for i in range(4):\n",
    "    for j in range(4):\n",
    "        print('%d'%arrB[i][j],end='\\t')\n",
    "    print()"
   ]
  },
  {
   "cell_type": "code",
   "execution_count": 14,
   "metadata": {},
   "outputs": [
    {
     "name": "stdout",
     "output_type": "stream",
     "text": [
      "[稀疏矩阵的各个元素]\n",
      "15\t0\t0\t22\t0\t-15\t\n",
      "0\t11\t3\t0\t0\t0\t\n",
      "0\t0\t0\t-6\t0\t0\t\n",
      "0\t0\t0\t0\t0\t0\t\n",
      "91\t0\t0\t0\t0\t0\t\n",
      "0\t0\t28\t0\t0\t0\t\n",
      "[稀疏矩阵压缩后的内容]\n",
      "[6] [6] [8] \n",
      "[0] [0] [15] \n",
      "[0] [3] [22] \n",
      "[0] [5] [-15] \n",
      "[1] [1] [11] \n",
      "[1] [2] [3] \n",
      "[2] [3] [-6] \n",
      "[4] [0] [91] \n",
      "[5] [2] [28] \n"
     ]
    }
   ],
   "source": [
    "#稀疏矩阵，矩阵中大部分数字为0的矩阵\n",
    "#CH02_07.py\n",
    "NONZERO=0\n",
    "temp=1\n",
    "Sparse=[[15,0,0,22,0,-15],[0,11,3,0,0,0],[0,0,0,-6,0,0],\n",
    "        [0,0,0,0,0,0],[91,0,0,0,0,0],[0,0,28,0,0,0]]#声明稀疏矩阵\n",
    "# Compress=[[None]*3 for row in range(9)] #声明压缩矩阵，*3是因为研所矩阵就是利用三项式数据结构，把每一个非零项以（i,j,item-value）来表示\n",
    "# #第一行（0,1）表示原矩阵行数，（0,2）表示原矩阵列数，（0,3）表示非0个数，range(9)，是因为8个非零数字加上第一行，共9行\n",
    "\n",
    "print('[稀疏矩阵的各个元素]')\n",
    "for i in range(6):\n",
    "    for j in range(6):\n",
    "        print('%d'%Sparse[i][j],end='\\t')\n",
    "        if Sparse[i][j]!=0:\n",
    "            NONZERO+=1\n",
    "    print()\n",
    "Compress=[[None]*3 for row in range(NONZERO+1)] #声明压缩矩阵，*3是因为研所矩阵就是利用三项式数据结构，把每一个非零项以（i,j,item-value）来表示\n",
    "#第一行（0,1）表示原矩阵行数，（0,2）表示原矩阵列数，（0,3）表示非0个数，range(9)，是因为8个非零数字加上第一行，共9行    \n",
    "#开始压缩矩阵\n",
    "Compress[0][0]=6\n",
    "Compress[0][1]=6\n",
    "Compress[0][2]=NONZERO\n",
    "\n",
    "for i in range(6):\n",
    "    for j in range(6):\n",
    "        if Sparse[i][j]!=0:\n",
    "            Compress[temp][0]=i\n",
    "            Compress[temp][1]=j\n",
    "            Compress[temp][2]=Sparse[i][j]\n",
    "            temp=temp+1\n",
    "            \n",
    "print('[稀疏矩阵压缩后的内容]')\n",
    "for i in range(NONZERO+1):\n",
    "    for j in range(3):\n",
    "        print('[%d]'%Compress[i][j],end=' ')\n",
    "    print()"
   ]
  },
  {
   "cell_type": "code",
   "execution_count": 7,
   "metadata": {},
   "outputs": [
    {
     "name": "stdout",
     "output_type": "stream",
     "text": [
      "-----------------------------\n",
      "上三角矩阵：\n",
      "7\t8\t12\t21\t9\t\n",
      "0\t5\t14\t17\t6\t\n",
      "0\t0\t7\t23\t14\t\n",
      "0\t0\t0\t32\t19\t\n",
      "0\t0\t0\t0\t8\t\n",
      "------------------------------\n",
      "以一维数组的方式表示：\n",
      "[ 7 8 12 21 9 5 14 17 6 7 23 14 32 19 8 ]\n"
     ]
    }
   ],
   "source": [
    "#CH02_08.py\n",
    "#示例：上三角矩阵\n",
    "global ARRAY_SIZE #矩阵的维数大小\n",
    "ARRAY_SIZE=5\n",
    "#一维数组的数组声明\n",
    "num=int(ARRAY_SIZE*(1+ARRAY_SIZE)/2)\n",
    "B=[None]*(num+1)\n",
    "\n",
    "def getValue(i,j):\n",
    "    index=int(ARRAY_SIZE*i-i*(i+1)/2+j)\n",
    "    return B[index]\n",
    "# def getValue(i, j):\n",
    "#     index = int(ARRAY_SIZE*i - i*(i+1)/2 + j)\n",
    "#     return B[index]\n",
    "\n",
    "#上三角矩阵的内容\n",
    "A=[[7,8,12,21,9],\n",
    "  [0,5,14,17,6],\n",
    "  [0,0,7,23,14],\n",
    "  [0,0,0,32,19],\n",
    "  [0,0,0,0,8]]\n",
    "\n",
    "print('-----------------------------')\n",
    "print('上三角矩阵：')\n",
    "for i in range(ARRAY_SIZE):\n",
    "    for j in range(ARRAY_SIZE):\n",
    "        print('%d'%A[i][j],end='\\t')\n",
    "    print()\n",
    "    \n",
    "#将右上三角矩阵压缩为一维数组\n",
    "index=0\n",
    "for i in range(ARRAY_SIZE):\n",
    "    for j in range(ARRAY_SIZE):\n",
    "        if(A[i][j]!=0):\n",
    "            index=index+1\n",
    "            B[index]=A[i][j]\n",
    "            \n",
    "print('------------------------------')\n",
    "print('以一维数组的方式表示：')\n",
    "print('[',end=' ')\n",
    "for i in range(ARRAY_SIZE):\n",
    "    for j in range(i+1,ARRAY_SIZE+1):\n",
    "        print('%d'%getValue(i,j),end=' ')\n",
    "print(']')"
   ]
  },
  {
   "cell_type": "code",
   "execution_count": 2,
   "metadata": {},
   "outputs": [
    {
     "name": "stdout",
     "output_type": "stream",
     "text": [
      "==========================================\n",
      "上三角形矩阵：\n",
      "7\t8\t12\t21\t9\t\n",
      "0\t5\t14\t17\t6\t\n",
      "0\t0\t7\t23\t24\t\n",
      "0\t0\t0\t32\t19\t\n",
      "0\t0\t0\t0\t8\t\n",
      "==========================================\n",
      "以一维数组的方式表示：\n",
      "[ 7 8 12 21 9 5 14 17 6 7 23 24 32 19 8 ]\n"
     ]
    }
   ],
   "source": [
    "# [示范]:上三角矩阵 \n",
    "global ARRAY_SIZE #矩阵的维数大小\n",
    "ARRAY_SIZE=5\n",
    "#一维数组的数组声明\n",
    "num=int(ARRAY_SIZE*(1+ARRAY_SIZE)/2)\n",
    "B=[None]*(num+1)\n",
    "\n",
    "def getValue(i, j):\n",
    "    index = int(ARRAY_SIZE*i - i*(i+1)/2 + j)\n",
    "    return B[index]\n",
    "\n",
    "#上三角矩阵的内容\n",
    "A=[[7, 8, 12, 21,  9], \n",
    "   [0, 5, 14, 17,  6], \n",
    "   [0, 0,  7, 23, 24], \n",
    "   [0, 0,  0, 32, 19], \n",
    "   [0, 0,  0,  0,  8]] \n",
    "\n",
    "print('==========================================')\n",
    "print('上三角形矩阵：')\n",
    "for i in range(ARRAY_SIZE):\n",
    "    for j in range(ARRAY_SIZE):\n",
    "        print('%d' %A[i][j],end='\\t')\n",
    "    print()\n",
    "\t\t\n",
    "#将右上三角矩阵压缩为一维数组\n",
    "index=0\n",
    "for i in range(ARRAY_SIZE):\n",
    "    for j in range(ARRAY_SIZE):\n",
    "        if(A[i][j]!=0):\n",
    "            index=index+1\n",
    "            B[index]=A[i][j]\n",
    "\t\n",
    "print('==========================================')\n",
    "print('以一维数组的方式表示：')\n",
    "print('[',end='')\n",
    "for i in range(ARRAY_SIZE):\n",
    "    for j in range(i+1,ARRAY_SIZE+1):\n",
    "        print(' %d' %getValue(i,j),end='')\n",
    "print(' ]')"
   ]
  },
  {
   "cell_type": "code",
   "execution_count": null,
   "metadata": {},
   "outputs": [],
   "source": []
  }
 ],
 "metadata": {
  "kernelspec": {
   "display_name": "Python 3",
   "language": "python",
   "name": "python3"
  },
  "language_info": {
   "codemirror_mode": {
    "name": "ipython",
    "version": 3
   },
   "file_extension": ".py",
   "mimetype": "text/x-python",
   "name": "python",
   "nbconvert_exporter": "python",
   "pygments_lexer": "ipython3",
   "version": "3.7.2"
  }
 },
 "nbformat": 4,
 "nbformat_minor": 2
}
